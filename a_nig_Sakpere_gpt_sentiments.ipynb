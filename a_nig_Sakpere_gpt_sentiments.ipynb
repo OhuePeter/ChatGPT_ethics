{
  "nbformat": 4,
  "nbformat_minor": 0,
  "metadata": {
    "colab": {
      "provenance": []
    },
    "kernelspec": {
      "name": "python3",
      "display_name": "Python 3"
    },
    "language_info": {
      "name": "python"
    }
  },
  "cells": [
    {
      "cell_type": "markdown",
      "source": [
        "\n",
        "\n",
        "```\n",
        "# This is formatted as code\n",
        "```\n",
        "\n",
        "**Sentiment Analysis on ethical chatGPT:** *Sakpere, Ohue, Sakpere, Yaya*\n"
      ],
      "metadata": {
        "id": "Mb44ocM0zbTO"
      }
    },
    {
      "cell_type": "markdown",
      "source": [
        "** Nigeria data**"
      ],
      "metadata": {
        "id": "wqIxRnx6UUFa"
      }
    },
    {
      "cell_type": "code",
      "source": [
        "# Import the relevant modules (libraries/packages)\n",
        "\n",
        "import numpy as np\n",
        "import pandas as pd\n",
        "import re\n",
        "import seaborn as sns\n",
        "import matplotlib.pyplot as plt\n",
        "%matplotlib inline\n",
        "import string\n",
        "import nltk\n",
        "import requests\n",
        "from bs4 import BeautifulSoup\n",
        "import random\n",
        "from wordcloud import WordCloud\n",
        "import os\n",
        "import spacy\n",
        "\n",
        "import warnings\n",
        "\n",
        "warnings.filterwarnings(\"ignore\")\n",
        "\n"
      ],
      "metadata": {
        "id": "OlY2OudOg5gQ",
        "colab": {
          "base_uri": "https://localhost:8080/"
        },
        "outputId": "70afe150-15a3-4ac8-f31f-9a502536d076"
      },
      "execution_count": 1,
      "outputs": [
        {
          "output_type": "stream",
          "name": "stderr",
          "text": [
            "/usr/local/lib/python3.9/dist-packages/torch/cuda/__init__.py:497: UserWarning: Can't initialize NVML\n",
            "  warnings.warn(\"Can't initialize NVML\")\n"
          ]
        }
      ]
    },
    {
      "cell_type": "code",
      "source": [
        "# Installing the package pattern\n",
        "\n",
        "!pip install pattern"
      ],
      "metadata": {
        "colab": {
          "base_uri": "https://localhost:8080/"
        },
        "id": "qAiqornLouhj",
        "outputId": "6dcb9f8d-4844-4959-864c-f0f5f7e6db5e"
      },
      "execution_count": 2,
      "outputs": [
        {
          "output_type": "stream",
          "name": "stdout",
          "text": [
            "Looking in indexes: https://pypi.org/simple, https://us-python.pkg.dev/colab-wheels/public/simple/\n",
            "Collecting pattern\n",
            "  Downloading Pattern-3.6.0.tar.gz (22.2 MB)\n",
            "\u001b[2K     \u001b[90m━━━━━━━━━━━━━━━━━━━━━━━━━━━━━━━━━━━━━━━━\u001b[0m \u001b[32m22.2/22.2 MB\u001b[0m \u001b[31m9.8 MB/s\u001b[0m eta \u001b[36m0:00:00\u001b[0m\n",
            "\u001b[?25h  Preparing metadata (setup.py) ... \u001b[?25l\u001b[?25hdone\n",
            "Requirement already satisfied: future in /usr/local/lib/python3.9/dist-packages (from pattern) (0.18.3)\n",
            "Collecting backports.csv\n",
            "  Downloading backports.csv-1.0.7-py2.py3-none-any.whl (12 kB)\n",
            "Collecting mysqlclient\n",
            "  Downloading mysqlclient-2.1.1.tar.gz (88 kB)\n",
            "\u001b[2K     \u001b[90m━━━━━━━━━━━━━━━━━━━━━━━━━━━━━━━━━━━━━━━━\u001b[0m \u001b[32m88.1/88.1 KB\u001b[0m \u001b[31m5.9 MB/s\u001b[0m eta \u001b[36m0:00:00\u001b[0m\n",
            "\u001b[?25h  Preparing metadata (setup.py) ... \u001b[?25l\u001b[?25hdone\n",
            "Requirement already satisfied: beautifulsoup4 in /usr/local/lib/python3.9/dist-packages (from pattern) (4.11.2)\n",
            "Requirement already satisfied: lxml in /usr/local/lib/python3.9/dist-packages (from pattern) (4.9.2)\n",
            "Collecting feedparser\n",
            "  Downloading feedparser-6.0.10-py3-none-any.whl (81 kB)\n",
            "\u001b[2K     \u001b[90m━━━━━━━━━━━━━━━━━━━━━━━━━━━━━━━━━━━━━━━━\u001b[0m \u001b[32m81.1/81.1 KB\u001b[0m \u001b[31m8.9 MB/s\u001b[0m eta \u001b[36m0:00:00\u001b[0m\n",
            "\u001b[?25hCollecting pdfminer.six\n",
            "  Downloading pdfminer.six-20221105-py3-none-any.whl (5.6 MB)\n",
            "\u001b[2K     \u001b[90m━━━━━━━━━━━━━━━━━━━━━━━━━━━━━━━━━━━━━━━━\u001b[0m \u001b[32m5.6/5.6 MB\u001b[0m \u001b[31m54.5 MB/s\u001b[0m eta \u001b[36m0:00:00\u001b[0m\n",
            "\u001b[?25hRequirement already satisfied: numpy in /usr/local/lib/python3.9/dist-packages (from pattern) (1.22.4)\n",
            "Requirement already satisfied: scipy in /usr/local/lib/python3.9/dist-packages (from pattern) (1.10.1)\n",
            "Requirement already satisfied: nltk in /usr/local/lib/python3.9/dist-packages (from pattern) (3.8.1)\n",
            "Collecting python-docx\n",
            "  Downloading python-docx-0.8.11.tar.gz (5.6 MB)\n",
            "\u001b[2K     \u001b[90m━━━━━━━━━━━━━━━━━━━━━━━━━━━━━━━━━━━━━━━━\u001b[0m \u001b[32m5.6/5.6 MB\u001b[0m \u001b[31m52.6 MB/s\u001b[0m eta \u001b[36m0:00:00\u001b[0m\n",
            "\u001b[?25h  Preparing metadata (setup.py) ... \u001b[?25l\u001b[?25hdone\n",
            "Collecting cherrypy\n",
            "  Downloading CherryPy-18.8.0-py2.py3-none-any.whl (348 kB)\n",
            "\u001b[2K     \u001b[90m━━━━━━━━━━━━━━━━━━━━━━━━━━━━━━━━━━━━━━\u001b[0m \u001b[32m348.4/348.4 KB\u001b[0m \u001b[31m21.6 MB/s\u001b[0m eta \u001b[36m0:00:00\u001b[0m\n",
            "\u001b[?25hRequirement already satisfied: requests in /usr/local/lib/python3.9/dist-packages (from pattern) (2.27.1)\n",
            "Requirement already satisfied: soupsieve>1.2 in /usr/local/lib/python3.9/dist-packages (from beautifulsoup4->pattern) (2.4)\n",
            "Collecting cheroot>=8.2.1\n",
            "  Downloading cheroot-9.0.0-py2.py3-none-any.whl (100 kB)\n",
            "\u001b[2K     \u001b[90m━━━━━━━━━━━━━━━━━━━━━━━━━━━━━━━━━━━━━━\u001b[0m \u001b[32m100.6/100.6 KB\u001b[0m \u001b[31m10.6 MB/s\u001b[0m eta \u001b[36m0:00:00\u001b[0m\n",
            "\u001b[?25hCollecting zc.lockfile\n",
            "  Downloading zc.lockfile-3.0.post1-py3-none-any.whl (9.8 kB)\n",
            "Requirement already satisfied: more-itertools in /usr/local/lib/python3.9/dist-packages (from cherrypy->pattern) (9.1.0)\n",
            "Collecting portend>=2.1.1\n",
            "  Downloading portend-3.1.0-py3-none-any.whl (5.3 kB)\n",
            "Collecting jaraco.collections\n",
            "  Downloading jaraco.collections-4.0.0-py3-none-any.whl (10 kB)\n",
            "Collecting sgmllib3k\n",
            "  Downloading sgmllib3k-1.0.0.tar.gz (5.8 kB)\n",
            "  Preparing metadata (setup.py) ... \u001b[?25l\u001b[?25hdone\n",
            "Requirement already satisfied: tqdm in /usr/local/lib/python3.9/dist-packages (from nltk->pattern) (4.65.0)\n",
            "Requirement already satisfied: click in /usr/local/lib/python3.9/dist-packages (from nltk->pattern) (8.1.3)\n",
            "Requirement already satisfied: regex>=2021.8.3 in /usr/local/lib/python3.9/dist-packages (from nltk->pattern) (2022.10.31)\n",
            "Requirement already satisfied: joblib in /usr/local/lib/python3.9/dist-packages (from nltk->pattern) (1.1.1)\n",
            "Requirement already satisfied: charset-normalizer>=2.0.0 in /usr/local/lib/python3.9/dist-packages (from pdfminer.six->pattern) (2.0.12)\n",
            "Requirement already satisfied: cryptography>=36.0.0 in /usr/local/lib/python3.9/dist-packages (from pdfminer.six->pattern) (40.0.1)\n",
            "Requirement already satisfied: urllib3<1.27,>=1.21.1 in /usr/local/lib/python3.9/dist-packages (from requests->pattern) (1.26.15)\n",
            "Requirement already satisfied: idna<4,>=2.5 in /usr/local/lib/python3.9/dist-packages (from requests->pattern) (3.4)\n",
            "Requirement already satisfied: certifi>=2017.4.17 in /usr/local/lib/python3.9/dist-packages (from requests->pattern) (2022.12.7)\n",
            "Collecting jaraco.functools\n",
            "  Downloading jaraco.functools-3.6.0-py3-none-any.whl (7.9 kB)\n",
            "Requirement already satisfied: six>=1.11.0 in /usr/local/lib/python3.9/dist-packages (from cheroot>=8.2.1->cherrypy->pattern) (1.16.0)\n",
            "Requirement already satisfied: cffi>=1.12 in /usr/local/lib/python3.9/dist-packages (from cryptography>=36.0.0->pdfminer.six->pattern) (1.15.1)\n",
            "Collecting tempora>=1.8\n",
            "  Downloading tempora-5.2.1-py3-none-any.whl (13 kB)\n",
            "Collecting jaraco.text\n",
            "  Downloading jaraco.text-3.11.1-py3-none-any.whl (11 kB)\n",
            "Requirement already satisfied: setuptools in /usr/local/lib/python3.9/dist-packages (from zc.lockfile->cherrypy->pattern) (67.6.1)\n",
            "Requirement already satisfied: pycparser in /usr/local/lib/python3.9/dist-packages (from cffi>=1.12->cryptography>=36.0.0->pdfminer.six->pattern) (2.21)\n",
            "Requirement already satisfied: pytz in /usr/local/lib/python3.9/dist-packages (from tempora>=1.8->portend>=2.1.1->cherrypy->pattern) (2022.7.1)\n",
            "Collecting jaraco.context>=4.1\n",
            "  Downloading jaraco.context-4.3.0-py3-none-any.whl (5.3 kB)\n",
            "Collecting autocommand\n",
            "  Downloading autocommand-2.2.2-py3-none-any.whl (19 kB)\n",
            "Requirement already satisfied: inflect in /usr/local/lib/python3.9/dist-packages (from jaraco.text->jaraco.collections->cherrypy->pattern) (6.0.2)\n",
            "Requirement already satisfied: pydantic>=1.9.1 in /usr/local/lib/python3.9/dist-packages (from inflect->jaraco.text->jaraco.collections->cherrypy->pattern) (1.10.7)\n",
            "Requirement already satisfied: typing-extensions>=4.2.0 in /usr/local/lib/python3.9/dist-packages (from pydantic>=1.9.1->inflect->jaraco.text->jaraco.collections->cherrypy->pattern) (4.5.0)\n",
            "Building wheels for collected packages: pattern, mysqlclient, python-docx, sgmllib3k\n",
            "  Building wheel for pattern (setup.py) ... \u001b[?25l\u001b[?25hdone\n",
            "  Created wheel for pattern: filename=Pattern-3.6-py3-none-any.whl size=22332718 sha256=8db7b428ed6005f4868a425d852b1c8c07971a306dd89d30a8686b28cdda9039\n",
            "  Stored in directory: /root/.cache/pip/wheels/50/33/f3/ea00b80d50c09f210588bda15ec60bdb38b289b452577cd5c3\n",
            "  Building wheel for mysqlclient (setup.py) ... \u001b[?25l\u001b[?25hdone\n",
            "  Created wheel for mysqlclient: filename=mysqlclient-2.1.1-cp39-cp39-linux_x86_64.whl size=107571 sha256=ebf671a40ec1523fd7f82db6289d1f75b29be4f6dec5f5597c4f01ee2b9f6887\n",
            "  Stored in directory: /root/.cache/pip/wheels/f3/a5/27/c6312d8008951cfd5511684378a9e057b82006c70e1fea6107\n",
            "  Building wheel for python-docx (setup.py) ... \u001b[?25l\u001b[?25hdone\n",
            "  Created wheel for python-docx: filename=python_docx-0.8.11-py3-none-any.whl size=184505 sha256=2952c47276d44e0083d51b35eddaefc15a90f04793095e08855e342df028e0e2\n",
            "  Stored in directory: /root/.cache/pip/wheels/83/8b/7c/09ae60c42c7ba4ed2dddaf2b8b9186cb105255856d6ed3dba5\n",
            "  Building wheel for sgmllib3k (setup.py) ... \u001b[?25l\u001b[?25hdone\n",
            "  Created wheel for sgmllib3k: filename=sgmllib3k-1.0.0-py3-none-any.whl size=6065 sha256=192af871b8730b0223c6322693ade1b385bcf0d64ac4b51e00483a897bb3b8cb\n",
            "  Stored in directory: /root/.cache/pip/wheels/65/7a/a7/78c287f64e401255dff4c13fdbc672fed5efbfd21c530114e1\n",
            "Successfully built pattern mysqlclient python-docx sgmllib3k\n",
            "Installing collected packages: sgmllib3k, backports.csv, zc.lockfile, python-docx, mysqlclient, jaraco.functools, jaraco.context, feedparser, autocommand, tempora, cheroot, portend, pdfminer.six, jaraco.text, jaraco.collections, cherrypy, pattern\n",
            "Successfully installed autocommand-2.2.2 backports.csv-1.0.7 cheroot-9.0.0 cherrypy-18.8.0 feedparser-6.0.10 jaraco.collections-4.0.0 jaraco.context-4.3.0 jaraco.functools-3.6.0 jaraco.text-3.11.1 mysqlclient-2.1.1 pattern-3.6 pdfminer.six-20221105 portend-3.1.0 python-docx-0.8.11 sgmllib3k-1.0.0 tempora-5.2.1 zc.lockfile-3.0.post1\n"
          ]
        }
      ]
    },
    {
      "cell_type": "code",
      "source": [
        "# Spacy makes it easy to build systems for information extraction.\n",
        "\n",
        "import spacy\n",
        "nlp = spacy.load('en_core_web_sm')\n",
        "from textblob import TextBlob\n",
        "\n",
        "from pattern.en import sentiment"
      ],
      "metadata": {
        "id": "xV28LbxaoY8a"
      },
      "execution_count": 3,
      "outputs": []
    },
    {
      "cell_type": "markdown",
      "source": [
        "**Loading Data from relevant sources**"
      ],
      "metadata": {
        "id": "EOcaNpKV-bCP"
      }
    },
    {
      "cell_type": "code",
      "source": [
        "# Use request package to make a GET request for the website.\n",
        "\n",
        "req =requests.get('https://punchng.com/chatgpt-the-good-the-bad-the-ethical-and-legal-implications/')\n"
      ],
      "metadata": {
        "id": "xmbcCHUOoC34"
      },
      "execution_count": 4,
      "outputs": []
    },
    {
      "cell_type": "code",
      "execution_count": 5,
      "metadata": {
        "id": "HbDE3fy4vykZ"
      },
      "outputs": [],
      "source": [
        "# using the correct encoding of html page\n",
        "\n",
        "req.encoding = 'utf-8'"
      ]
    },
    {
      "cell_type": "code",
      "source": [
        "# Extract the html\n",
        "html = req.text"
      ],
      "metadata": {
        "id": "2Z7p2Tivqicu"
      },
      "execution_count": 6,
      "outputs": []
    },
    {
      "cell_type": "code",
      "source": [
        "# Printing the first 100 characters in html\n",
        "print(html[:5000])"
      ],
      "metadata": {
        "colab": {
          "base_uri": "https://localhost:8080/"
        },
        "id": "RONHYc3wqiZF",
        "outputId": "19f46d42-6927-4fce-f320-88e81fe984e2"
      },
      "execution_count": 7,
      "outputs": [
        {
          "output_type": "stream",
          "name": "stdout",
          "text": [
            "<!DOCTYPE html>\n",
            "<html lang=\"en-US\">\n",
            "\n",
            "<head>\n",
            "    <meta charset=\"UTF-8\">\n",
            "    <meta name=\"viewport\" content=\"width=device-width, initial-scale=1\">\n",
            "\n",
            "    <link rel=\"profile\" href=\"https://gmpg.org/xfn/11\">\n",
            "\t<link rel=\"pingback\" href=\"https://punchng.com/xmlrpc.php\">\n",
            "\n",
            "    <link rel=\"preconnect\" href=\"https://cdn.punchng.com\">\n",
            "\t<link rel=\"preconnect\" href=\"https://tpc.googlesyndication.com\">\n",
            "\t<link rel=\"preconnect\" href=\"https://securepubads.g.doubleclick.net\">\n",
            "\t<link rel=\"preconnect\" href=\"https://pagead2.googlesyndication.com\">\n",
            "\t<link rel=\"preconnect\" href=\"https://fundingchoicesmessages.google.com\">\n",
            "\t<link rel=\"preconnect\" href=\"https://securepubads.g.doubleclick.net\">\n",
            "    <link rel=\"preconnect\" href=\"https://fonts.googleapis.com\">\n",
            "    <link rel=\"preconnect\" href=\"https://fonts.gstatic.com\" crossorigin>\n",
            "\n",
            "    <link rel=\"preload\" as=\"script\" href=\"https://c.amazon-adsystem.com/aax2/apstag.js\">\n",
            "\n",
            "    <link href=\"https://cdn.jsdelivr.net/npm/bootstrap@5.0.2/dist/css/bootstrap.min.css\" rel=\"stylesheet\" integrity=\"sha384-EVSTQN3/azprG1Anm3QDgpJLIm9Nao0Yz1ztcQTwFspd3yD65VohhpuuCOmLASjC\" crossorigin=\"anonymous\">\n",
            "    \n",
            "    <link href=\"https://fonts.googleapis.com/css2?family=Open+Sans:wght@300;400;500;600;700;800&family=Roboto:wght@100;300;400;500;600;700&family=Alegreya:wght@100;300;400;500;600;700&family=Cheltenham:wght@100;300;400;500;600;700&adisplay=swap\" rel=\"stylesheet\">\n",
            "\n",
            "    \n",
            "    <style>\n",
            "        @charset \"UTF-8\";body{font-family:Open Sans,sans-serif}.searchModal{height:100%;width:100%;position:fixed;z-index:7;top:0;left:0;background-color:#000;background-color:rgba(0,0,0,.9);display:none}.searchModal .closeSearchDiv{position:absolute;top:20px;right:45px;font-size:60px;cursor:pointer;color:#fff}.searchModal .overlay-content{position:relative;top:46%;width:70%;text-align:center;margin-top:30px;margin:auto}.searchModal .overlay-content input{padding:1rem;outline:none;border-top-left-radius:20px;border-bottom-left-radius:20px}.searchModal .overlay-content input:hover{box-shadow:none;outline:none}.searchModal .overlay-content button{background:red;color:#fff;border:none;font-size:14px;padding:1.5rem;border-top-right-radius:20px;border-bottom-right-radius:20px}.top-panel{background:#000;height:32px;width:100%}.top-panel,.top-panel ul{display:flex;align-items:center}.top-panel ul{margin:0;padding:0;list-style-type:none;gap:13px}.top-panel ul li{list-style-type:none;font-family:Open Sans;font-style:normal;font-weight:400;font-size:15px;line-height:20px;color:#fff}.top-panel ul li:first-child:after{content:\"\";border:1px solid #fff;margin-left:10px}.top-panel ul li a{color:#fff}.fixed-header{position:sticky;width:100%;background:#fff;z-index:6;top:0}.brand-header{display:flex;justify-content:space-between;min-height:85px;align-items:center}.brand-header .brand{display:flex;flex-direction:column;justify-content:center;text-align:center}.brand-header .brand p{font-size:12px;margin-bottom:0}.brand-header .social-buttons ul{margin:0;padding:0;list-style-type:none;display:flex;gap:12px;align-items:center}.brand-header .social-buttons ul li{display:flex;justify-content:center;align-items:center;width:35px;height:35px;background:rgba(255,0,0,.06);border-radius:6px}.brand-header .social-buttons .search-btn{background:rgba(60,60,60,.25);width:33px;height:33px;display:none;justify-content:center;align-items:center;color:#3c3c3c;border-radius:50%;border:none}.brand-header .header-cta{display:flex;justify-content:space-between;gap:14px}.brand-header .header-cta .search-btn{background:red;width:35px;height:35px;border-radius:50%;border:none;display:flex;align-items:center;justify-content:center;color:#fff}.brand-header .header-cta .subscribe-btn{color:#fff;background:#ff0100;height:35px;border-radius:36px;width:150px;display:flex;justify-content:center;align-items:center;font-family:Open Sans;font-style:normal;font-weight:600;font-size:14px;line-height:18px;border:1px solid #ff0100}.brand-header .header-cta .subscribe-btn svg{margin-right:10px}.brand-header .header-cta .menuToggler{display:none;color:red}.section-title{display:flex;position:relative;margin-bottom:0}.section-title:before{content:\"\";display:block;height:13px;width:13px;background:red;margin-top:.6em;z-index:2}.section-title:after{content:\"\";display:block;width:100%;height:1px;top:50%;background:#ddd;position:absolute}.section-title h2.header-title{font-family:Alegreya;font-weight:700;font-size:18px;line-height:34px;color:#000;z-index:3;background:#fff;padding-right:.3em;text-align:left;padding-left:.45em}.primisVideoUnit .main-title{font-size:18px!important;margin-bottom:1em;font-weight:800!important}a{text-decoration:none}a,a:active,a:hover{color:inherit}.testing{width:100px}.navigation-wrapper{position:relative}.header-top{padding:1em;display:flex;justify-content:center;align-items:center}.header-top .container{display:flex;align-items:center;justify-content:space-between}.header-top .offcanvas-button{display:none;float:right}.header-top .offcanvas-button a{color:red;fo\n"
          ]
        }
      ]
    },
    {
      "cell_type": "code",
      "source": [
        "# Create a BeautifulSoup object\n",
        "soup = BeautifulSoup(html)"
      ],
      "metadata": {
        "id": "GdEoIJLEq4Q0"
      },
      "execution_count": 8,
      "outputs": []
    },
    {
      "cell_type": "code",
      "source": [
        "# Get the text out of the soup\n",
        "text = soup.get_text()"
      ],
      "metadata": {
        "id": "MMqKg0yprEDW"
      },
      "execution_count": 9,
      "outputs": []
    },
    {
      "cell_type": "code",
      "source": [
        "len(text)"
      ],
      "metadata": {
        "colab": {
          "base_uri": "https://localhost:8080/"
        },
        "id": "awxWdXNArKTR",
        "outputId": "f5532054-759f-4323-f602-5a92f9e8b031"
      },
      "execution_count": 10,
      "outputs": [
        {
          "output_type": "execute_result",
          "data": {
            "text/plain": [
              "13125"
            ]
          },
          "metadata": {},
          "execution_count": 10
        }
      ]
    },
    {
      "cell_type": "code",
      "source": [
        "# See some text\n",
        "\n",
        "print(text[:2000])"
      ],
      "metadata": {
        "colab": {
          "base_uri": "https://localhost:8080/"
        },
        "id": "a_I8hN49rXd9",
        "outputId": "b2df47a9-43c6-40fd-9a15-d23a7c5b0ebc"
      },
      "execution_count": 11,
      "outputs": [
        {
          "output_type": "stream",
          "name": "stdout",
          "text": [
            "\n",
            "\n",
            "\n",
            "\n",
            "\n",
            "\n",
            "\n",
            "\n",
            "\n",
            "\n",
            "\n",
            "\n",
            "\n",
            "\n",
            "\n",
            "\n",
            "\n",
            "\n",
            "\n",
            "\n",
            "\n",
            "\n",
            "ChatGPT: The Good, The Bad, The Ethical And Legal Implications\n",
            "\n",
            "\n",
            "\n",
            "\n",
            "\n",
            "\n",
            "\n",
            "\n",
            "\n",
            "\n",
            "\n",
            "\n",
            "\n",
            "\n",
            "\n",
            "\n",
            "\n",
            "\n",
            "\n",
            "\n",
            "\n",
            "\n",
            "\n",
            "\n",
            "\n",
            "\n",
            "\n",
            "\n",
            "\n",
            "\n",
            "\n",
            "\n",
            "\n",
            "\n",
            "\n",
            "\n",
            "\n",
            "\n",
            "\n",
            "\n",
            "\n",
            "\n",
            "\n",
            "\n",
            "\n",
            "\n",
            "\n",
            "\n",
            "\n",
            "\n",
            "\n",
            "\n",
            "\n",
            "\n",
            "\n",
            "\n",
            "\n",
            "\n",
            "\n",
            "\n",
            "\n",
            "\n",
            "\n",
            "\n",
            "\n",
            "×\n",
            "\n",
            "\n",
            "\n",
            "\n",
            "Search\n",
            "\n",
            "\n",
            "\n",
            "\n",
            "\n",
            "\n",
            "\n",
            "Advertise with us\n",
            "Wednesday, March 29, 2023\n",
            "\n",
            "\n",
            "\n",
            "\n",
            "\n",
            "\n",
            "\n",
            "\n",
            "\n",
            "\n",
            "\n",
            "\n",
            "\n",
            "\n",
            "\n",
            "\n",
            "\n",
            "\n",
            "\n",
            "\n",
            "\n",
            "\n",
            "\n",
            "\n",
            "\n",
            "\n",
            "\n",
            "\n",
            "\n",
            "\n",
            "\n",
            "\n",
            "\n",
            "\n",
            "\n",
            "\n",
            "\n",
            "Most Widely Read Newspaper\n",
            "\n",
            "\n",
            "\n",
            "\n",
            "\n",
            "\n",
            "\n",
            "                        Videos\n",
            "                \n",
            "\n",
            "\n",
            "\n",
            "\n",
            "\n",
            "\n",
            "\n",
            "\n",
            "Home\n",
            "2023 Elections\n",
            "News\n",
            "Metro Plus\n",
            "Investigations\n",
            "Videos\n",
            "Sports\n",
            "Politics\n",
            "Business\n",
            "HealthWise\n",
            "Editorial\n",
            "Columns\n",
            "Podcast\n",
            "\n",
            "\n",
            " \n",
            "\n",
            "\n",
            "\n",
            "\n",
            "PunchNG Menu:\n",
            "\n",
            "\n",
            "\n",
            "\n",
            "Video\n",
            "Spice\n",
            "Special Features\n",
            "Education\n",
            "Sex & Relationship\n",
            "Interview\n",
            "Columns\n",
            "Opinion\n",
            "\n",
            "\n",
            "\n",
            "\n",
            "\n",
            "\n",
            "\n",
            "\n",
            "\n",
            "Breaking News\n",
            "\n",
            "\n",
            "Ogun workers suspend strike after four days\n",
            "\n",
            "Read More\n",
            "\n",
            "\n",
            "\n",
            "\n",
            "\n",
            "\n",
            "\n",
            "     \n",
            "\n",
            "\n",
            "\n",
            "\n",
            "\n",
            "\n",
            "\n",
            "\n",
            "\n",
            "\n",
            "\n",
            "\n",
            "\n",
            "\n",
            "\n",
            "\n",
            "\n",
            " \n",
            "\n",
            "\n",
            " ChatGPT: The Good, The Bad, The Ethical And Legal Implications \n",
            "\n",
            "\n",
            "                            4th March 2023                        \n",
            "\n",
            "\n",
            "\n",
            "\n",
            "\n",
            "\n",
            "\n",
            "\n",
            "\n",
            "Branded Content \n",
            "\n",
            "\n",
            "Kindly share this story:\n",
            "\n",
            "  \n",
            "\n",
            "\n",
            "\n",
            "\n",
            "\n",
            "\n",
            " \n",
            "\n",
            "       The emergence of ChatGPT has received top level critical reviews by AI experts, academics, researchers and most importantly, the public. The potential of having seamless and uninterrupted interaction with a chatbot is as impressive as they, even if it has been a long time coming. What the is ChatGPT, which has received enormous rave reviews as well as critical slander on its special offering, as well as its impact on humans and the society. ChatGPT, officially known as Chat Generative Pre-Trained Transformer, is a much celebrated artificial-intelligence chatbot developed by OpenAI and launched in November 2022. The technology is developed on OpenAI’s GPT-3 species of large language models and fine-tuned using both supervised (which involves the introduction of known input and expected output) and reinforcement learning techniques.\n",
            "Undoubtedly, ChatGPT is an immensely useful tool, despite some critical positions held by certain section of the masses and AI experts. Notably, it is opined that ChatGPT cannot handle the large number of requests it gets and may often experience downtime, when thi\n"
          ]
        }
      ]
    },
    {
      "cell_type": "code",
      "source": [
        "# Show the entire text\n",
        "\n",
        "text"
      ],
      "metadata": {
        "colab": {
          "base_uri": "https://localhost:8080/",
          "height": 140
        },
        "id": "5f4pLEBArXN5",
        "outputId": "1f87384a-bf31-4477-cf3b-2653fe24535b"
      },
      "execution_count": 12,
      "outputs": [
        {
          "output_type": "execute_result",
          "data": {
            "text/plain": [
              "\"\\n\\n\\n\\n\\n\\n\\n\\n\\n\\n\\n\\n\\n\\n\\n\\n\\n\\n\\n\\n\\n\\nChatGPT: The Good, The Bad, The Ethical And Legal Implications\\n\\n\\n\\n\\n\\n\\n\\n\\n\\n\\n\\n\\n\\n\\n\\n\\n\\n\\n\\n\\n\\n\\n\\n\\n\\n\\n\\n\\n\\n\\n\\n\\n\\n\\n\\n\\n\\n\\n\\n\\n\\n\\n\\n\\n\\n\\n\\n\\n\\n\\n\\n\\n\\n\\n\\n\\n\\n\\n\\n\\n\\n\\n\\n\\n\\n×\\n\\n\\n\\n\\nSearch\\n\\n\\n\\n\\n\\n\\n\\nAdvertise with us\\nWednesday, March 29, 2023\\n\\n\\n\\n\\n\\n\\n\\n\\n\\n\\n\\n\\n\\n\\n\\n\\n\\n\\n\\n\\n\\n\\n\\n\\n\\n\\n\\n\\n\\n\\n\\n\\n\\n\\n\\n\\n\\nMost Widely Read Newspaper\\n\\n\\n\\n\\n\\n\\n\\n                        Videos\\n                \\n\\n\\n\\n\\n\\n\\n\\n\\nHome\\n2023 Elections\\nNews\\nMetro Plus\\nInvestigations\\nVideos\\nSports\\nPolitics\\nBusiness\\nHealthWise\\nEditorial\\nColumns\\nPodcast\\n\\n\\n \\n\\n\\n\\n\\nPunchNG Menu:\\n\\n\\n\\n\\nVideo\\nSpice\\nSpecial Features\\nEducation\\nSex & Relationship\\nInterview\\nColumns\\nOpinion\\n\\n\\n\\n\\n\\n\\n\\n\\n\\nBreaking News\\n\\n\\nOgun workers suspend strike after four days\\n\\nRead More\\n\\n\\n\\n\\n\\n\\n\\n     \\n\\n\\n\\n\\n\\n\\n\\n\\n\\n\\n\\n\\n\\n\\n\\n\\n\\n \\n\\n\\n ChatGPT: The Good, The Bad, The Ethical And Legal Implications \\n\\n\\n                            4th March 2023                        \\n\\n\\n\\n\\n\\n\\n\\n\\n\\nBranded Content \\n\\n\\nKindly share this story:\\n\\n  \\n\\n\\n\\n\\n\\n\\n \\n\\n       The emergence of ChatGPT has received top level critical reviews by AI experts, academics, researchers and most importantly, the public. The potential of having seamless and uninterrupted interaction with a chatbot is as impressive as they, even if it has been a long time coming. What the is ChatGPT, which has received enormous rave reviews as well as critical slander on its special offering, as well as its impact on humans and the society. ChatGPT, officially known as Chat Generative Pre-Trained Transformer, is a much celebrated artificial-intelligence chatbot developed by OpenAI and launched in November 2022. The technology is developed on OpenAI’s GPT-3 species of large language models and fine-tuned using both supervised (which involves the introduction of known input and expected output) and reinforcement learning techniques.\\nUndoubtedly, ChatGPT is an immensely useful tool, despite some critical positions held by certain section of the masses and AI experts. Notably, it is opined that ChatGPT cannot handle the large number of requests it gets and may often experience downtime, when this happens, ChatGPT informs you in a three Stanza poem with its own rhyme scheme on the login page to “check back soon.” The short, witty poem makes sure to reiterate that “ChatGPT, the future of chat, that’s a fact.” Without referring to the grammatical issues that sentence raises, a statement that will be be examined in depth considering the ethical and legal implications of ChatGPT’s overall features.\\nChatGPT has exceptional features that attracted over one million users in its launch week and stiff competition. Google management labelled it as “code red”; this is understandable as many people have tagged ChatGPT as the first real challenge of Google’s spot in web search in years.\\xa0 It’s interesting to note that ChatGPT is built on GPT, a Google-invented AI model known as a transformer. How best can we explore ChatGPT, other than involving some interaction with it in the makeup of this article. I asked the chatbot to define itself, to which it responded that: “CHATGPT is a state-of-the-art AI language model developed by OpenAI. It is a Generative Pre-trained Transformer (GPT) model that uses deep learning techniques to generate human-like text based on the input provided. It has been trained on a massive corpus of diverse internet text and can perform various language tasks such as answering questions, generating creative writing, and translating text”.\\xa0 When asked to highlight its key features, it only listed seven key features, which all relate to text generation. Although mimicking human conversation is, in fact, its main feature, it has other capabilities as well, for instance: It stores previous conversations and recalls where necessary. It can also write and debug computer programs, answer test questions (sometimes at a level higher than the average human test-taker), compose song lyrics, emulate a Linux system, simulate an entire chat room, play games like tic-tac-toe, and simulate an ATM. \\xa0As impressive as this may sound, these features possess inherent legal and ethical issues arising from the training data used to achieve these features and how users utilise them.\\nLEGAL IMPLICATIONS\\nThe calibre and volume of the data used for training ChatGPT’s primary function affect its performance. While OpenAI has not publicly disclose the amount or origin of the training database used for CHATGPT (as is the case in major AI discoveries of this nature), it is widely juxtaposed that the model was trained on datasets which includes internet content, including webpages, books, essays, and other publicly available text sources. Therefore, ChatGPT tend to answer requests based on its text sources, without credits or reference to the sources of these information. This raises a huge copyright question, particularly in the light of ChatGPT’s widespread usage in academic, content creation and by students in solving academic assessments. The critical question is then, who owns the intellectual property of that GPT content?\\xa0 Is ChatGPT guilty of Copyright infringement? Can you sue ChatGPT? Are the users culpable in case of contents crafted out of ChatGPT?\\n \\nThe copyright laws of most countries vest ownership in the work’s author, and the author of a given work is the person it originated from or who made arrangements to create it. Originality is determined based on the amount of skill, labour, and effort expended to produce the work. Originality does not mean newness; it simply means that the work is not copied from another source. This provision of law makes it difficult for copyright infringement to arise from Generative AI systems like ChaptGPT, as these systems can create original works that are difficult to attribute to a specific creator or source. When this was asked, the chatbot vehemently denies merely copying and pasting content from websites.\\nNonetheless, copyright subsists in OpenAI for any text generated in ChatGPT. Hence as the owner and creator (author) of ChatGPT, OpenAI may enforce copyright wherever necessary. OpenAI also has the power to sue and be sued, not ChatGPT, as the chatbot is not a legal person. Additionally, the mode of usage of content clearly determines whether there is copyright infringement or not. For instance, can you use content generated from ChatGPT for commercial purposes and make money from it? To gain clarity on the issue, I asked the chatbot if the content it generates could be used for commercial purposes. It didn’t give a definite answer to my question. Still, it stated that it might be used in accordance with OpenAI’s acceptable use policy in some circumstances, while it may constitute copyright infringement in others. It shifts the responsibility to the users to determine use cases that require a licence from OpenAI or the platform where the text was generated.\\nFurthermore, ChatGPT also raises cybersecurity concerns, as the tool can be used to compose perfect and wonderfully crafted phony emails, by scammers. The question once more is in respect of the allocation of liability for any legal harm or liability arising from this act. The general opinion is that, while OpenAI is primarily responsible for monitoring the chatbot’s use and taking reasonable measures to prevent fraudulent use by bad actors, the bad actors will always be the first in line to bear liability.      \\nData Privacy\\nThe next class of legal issues that arose as a result of the emergence of ChatGPT relates to data privacy concerns. The key questions here are, are there personal data contained in the database used to train ChatGPT?\\xa0 How does ChatGPT deal with personal data? When prompted, the chatbot admitted that there may be personal data contained in the database used for its training, but clarifies that it doesn’t collect, store or use personal data. OpenAI did not train it to process or access personal data, and users are strongly warned not to provide input that contains personal data or confidential information to the chatbot. OpenAI is compliant with many jurisdictions’ data protection regulations and has a data privacy policy available on its website.\\nEthical issues\\nThe popularity of AI-generated photos in 2022 was quickly followed by a wave of criticism from artists, notably illustrators, who were outraged that their work was exploited to train AI without their permission, credit, or remuneration. They claimed that the AI learning model allows the Generative AI to condense their entire life’s work into a few hours and respond in seconds. AI does not require the level of experience, labour, or money that artists and people in general have devoted to mastering their skills.\\nThis sentiment also applies to ChatGPT. The text resources used to train it contains articles such as this which took days to write and perfect, which is then fed to the chatbot to provide responses in a matter of seconds. While it hasn’t yet been monetised and is available for free, it’s just a matter of time before a subscription is required for complete access, like with most generative Ai systems. Perhaps in the future, a method for compensating and acknowledging the sources used to train generative AI will be devised, similar to how Instagram, TikTok, and YouTube do for music.\\xa0 As of now, computer-generated work is protected under copyright laws and does not constitute infringement.\\nAnother ethical concern it raises is plagiarism. Educational institutions are hugely concerned about the originality of work submitted by students. Unfortunately, the features of ChatGPT have compounded the issue by making it easier for students to plagiarise almost undetected. While there are AIs developed with the sole purpose of detecting AI-written content. These tools are not 100% accurate and may often generate false positives when the content is human written.\\nConclusively, there are definitely good and not so pleasant opinions about ChatGPT, with enormous critical and positive reviews since its emergence. However, opinions and perspectives have utmostly depended so entirely on the user and how they choose to use the features. With continuously engagements with the chatbot, there are definitely several legal and ethical implications and other philosophical questions that will arise as time passes. As a matter of fact, it’s too early to identify all the legal and ethical implications contained in the AI tool as more issues will only emerge with use and time. Yet, despite the negativities, we must admit that this is a very useful and handy tool. Meanwhile, it isn’t yet at its peak, and OpenAI openly exposes its limitations by admitting that the chatbot’s responses aren’t always ideal. In order to grow, it allows users to upvote or downvote responses and regenerate responses that aren’t relevant.\\nMoshood Yahaya\\nFounder, Applied AI Society, Bradford        \\n\\n\\n\\n\\nKindly share this story:\\n\\n  \\n\\n\\n\\n\\n\\n\\n \\n\\n All rights reserved. This material, and other digital content on this website, may not be reproduced, published, broadcast, rewritten or redistributed in whole or in part without prior express written permission from PUNCH.\\nContact:  [email\\xa0protected]  \\n\\n\\n\\n\\n                                join our telegram \\n                            \\n\\n\\r\\n\\tGet paid ₦45,000 every time you refer someone to us, no need to wait for monthly payments, we pay every FRIDAY. No fee to join or participate in the partner program.    Click here  to join.\\r\\n\\n\\n\\n\\n\\n\\n\\n\\n\\n\\n\\n\\n\\n\\n\\n\\n   \\n\\nLatest News\\n\\n\\n\\n\\n\\n\\n 6 minutes ago \\n\\n DSS identifies politicians behind interim govt plot \\n\\n\\n\\n\\n\\n 22 minutes ago \\n\\n Ignore Ekpa’s sit-at-home order, IPOB tells Igbo in Lagos \\n\\n\\n\\n\\n\\n 29 minutes ago \\n\\n UK to shelter asylum seekers in military bases \\n\\n\\n\\n\\n\\n 48 minutes ago \\n\\n Kano gov-elect promises pro-people governance \\n\\n\\n\\n\\n\\n 49 minutes ago \\n\\n Court orders Ondo to pay man shot by Amotekun N30m \\n\\n\\n\\n\\n\\n\\n\\n     \\n\\n\\n\\n\\n\\n\\n\\n\\n Top News \\n\\n\\n\\n\\n\\n  \\n\\n Assault: Police give Portable 72-hour ultimatum to report self \\n\\nFebruary 19, 2022\\n\\n\\n\\n\\n\\n  \\n\\n\\n Nobody can chase you from Osun, Adeleke assures Aregbesola \\n\\n\\n\\n\\n  \\n\\n\\n I won't disappoint Nigerians, Tinubu promises \\n\\n\\n\\n\\n  \\n\\n\\n Afenifere never issued us query of allegation, says suspended spokesperson \\n\\n\\n\\n\\n\\n\\n  \\n\\n\\n Buhari swears in ex-IGP Arase as PSC chairman \\n\\n\\n\\n\\n  \\n\\n\\n Court cases won’t stop handover to Tinubu, Shettima – FG \\n\\n\\n\\n\\n  \\n\\n\\n Suspension: Ayu heads for court as PDP appoints acting chair \\n\\n\\n\\n\\n\\n\\n  \\n\\n\\n FG $22bn loan request rejected by Chinese bank – Reps \\n\\n\\n\\n\\n  \\n\\n\\n CBN bars banks seeking upgrade from expansion \\n\\n\\n\\n\\n  \\n\\n\\n Rampaging Ogun kidnappers kill two, abduct couple \\n\\n\\n\\n\\n\\n\\n\\n\\n\\n\\n\\n\\n\\n\\n\\n\\n\\n\\n\\n\\n\\n\\nNews\\nSports\\nMetro Plus\\nPolitics\\nFeatured\\nLatest News\\nBusiness\\nBusiness & Economy\\nOpinion\\nEntertainment\\nAuto Famous\\nAuto Punch\\nBarka Da Sallah\\nBarrier Breakers\\nBreaking News\\nBrexit\\nColumns\\nCorona\\nAnti-corruption\\nBiafra\\nBoko Haram\\nCase Review\\nCourt News\\nCourt Trivia\\nCampus Champion\\nCelebrity\\nCity round\\nInterview\\nPanorama\\nOpinion\\nSpecial Features\\nSpice\\nTechnology\\nFamous Parent\\nEducation\\nCartoon\\nColumns\\nDiaspora\\nAdvertise with us\\nSubscribe\\n \\n\\n\\n\\n\\n\\n\\n\\n\\n  Subscribe\\n\\n\\n\\n\\n\\n\\n\\n\\n\\n\\n\\n\\n\\n\\n\\n                            punchng.com © 1971- 2023 Punch Nigeria Limited\\n\\n\\nAbout us\\nAdvertise with us\\nContact\\n \\n\\n\\n\\n\\n\\n\\n\\n\\n\\n\\n\\n\\n\\n\\n\\n\\n\""
            ],
            "application/vnd.google.colaboratory.intrinsic+json": {
              "type": "string"
            }
          },
          "metadata": {},
          "execution_count": 12
        }
      ]
    },
    {
      "cell_type": "code",
      "source": [
        "clean_text= text.replace(\"\\n\", \" \")"
      ],
      "metadata": {
        "id": "wUjd4_fvrEAQ"
      },
      "execution_count": 13,
      "outputs": []
    },
    {
      "cell_type": "code",
      "source": [
        "clean_text= clean_text.replace(\"/\", \" \")       "
      ],
      "metadata": {
        "id": "jLwDPZJ6q4MI"
      },
      "execution_count": 14,
      "outputs": []
    },
    {
      "cell_type": "code",
      "source": [
        "clean_text= ''.join([c for c in clean_text if c != \"\\'\"])"
      ],
      "metadata": {
        "id": "9LfXWlx_q4I4"
      },
      "execution_count": 15,
      "outputs": []
    },
    {
      "cell_type": "code",
      "source": [
        "clean_text"
      ],
      "metadata": {
        "colab": {
          "base_uri": "https://localhost:8080/",
          "height": 122
        },
        "id": "2q9pmQbOsV82",
        "outputId": "8d3739d5-1f66-492b-efa4-58560e71999a"
      },
      "execution_count": 16,
      "outputs": [
        {
          "output_type": "execute_result",
          "data": {
            "text/plain": [
              "'                      ChatGPT: The Good, The Bad, The Ethical And Legal Implications                                                                  ×     Search        Advertise with us Wednesday, March 29, 2023                                      Most Widely Read Newspaper                                Videos                          Home 2023 Elections News Metro Plus Investigations Videos Sports Politics Business HealthWise Editorial Columns Podcast         PunchNG Menu:     Video Spice Special Features Education Sex & Relationship Interview Columns Opinion          Breaking News   Ogun workers suspend strike after four days  Read More                                    ChatGPT: The Good, The Bad, The Ethical And Legal Implications                                4th March 2023                                  Branded Content    Kindly share this story:                     The emergence of ChatGPT has received top level critical reviews by AI experts, academics, researchers and most importantly, the public. The potential of having seamless and uninterrupted interaction with a chatbot is as impressive as they, even if it has been a long time coming. What the is ChatGPT, which has received enormous rave reviews as well as critical slander on its special offering, as well as its impact on humans and the society. ChatGPT, officially known as Chat Generative Pre-Trained Transformer, is a much celebrated artificial-intelligence chatbot developed by OpenAI and launched in November 2022. The technology is developed on OpenAI’s GPT-3 species of large language models and fine-tuned using both supervised (which involves the introduction of known input and expected output) and reinforcement learning techniques. Undoubtedly, ChatGPT is an immensely useful tool, despite some critical positions held by certain section of the masses and AI experts. Notably, it is opined that ChatGPT cannot handle the large number of requests it gets and may often experience downtime, when this happens, ChatGPT informs you in a three Stanza poem with its own rhyme scheme on the login page to “check back soon.” The short, witty poem makes sure to reiterate that “ChatGPT, the future of chat, that’s a fact.” Without referring to the grammatical issues that sentence raises, a statement that will be be examined in depth considering the ethical and legal implications of ChatGPT’s overall features. ChatGPT has exceptional features that attracted over one million users in its launch week and stiff competition. Google management labelled it as “code red”; this is understandable as many people have tagged ChatGPT as the first real challenge of Google’s spot in web search in years.\\xa0 It’s interesting to note that ChatGPT is built on GPT, a Google-invented AI model known as a transformer. How best can we explore ChatGPT, other than involving some interaction with it in the makeup of this article. I asked the chatbot to define itself, to which it responded that: “CHATGPT is a state-of-the-art AI language model developed by OpenAI. It is a Generative Pre-trained Transformer (GPT) model that uses deep learning techniques to generate human-like text based on the input provided. It has been trained on a massive corpus of diverse internet text and can perform various language tasks such as answering questions, generating creative writing, and translating text”.\\xa0 When asked to highlight its key features, it only listed seven key features, which all relate to text generation. Although mimicking human conversation is, in fact, its main feature, it has other capabilities as well, for instance: It stores previous conversations and recalls where necessary. It can also write and debug computer programs, answer test questions (sometimes at a level higher than the average human test-taker), compose song lyrics, emulate a Linux system, simulate an entire chat room, play games like tic-tac-toe, and simulate an ATM. \\xa0As impressive as this may sound, these features possess inherent legal and ethical issues arising from the training data used to achieve these features and how users utilise them. LEGAL IMPLICATIONS The calibre and volume of the data used for training ChatGPT’s primary function affect its performance. While OpenAI has not publicly disclose the amount or origin of the training database used for CHATGPT (as is the case in major AI discoveries of this nature), it is widely juxtaposed that the model was trained on datasets which includes internet content, including webpages, books, essays, and other publicly available text sources. Therefore, ChatGPT tend to answer requests based on its text sources, without credits or reference to the sources of these information. This raises a huge copyright question, particularly in the light of ChatGPT’s widespread usage in academic, content creation and by students in solving academic assessments. The critical question is then, who owns the intellectual property of that GPT content?\\xa0 Is ChatGPT guilty of Copyright infringement? Can you sue ChatGPT? Are the users culpable in case of contents crafted out of ChatGPT?   The copyright laws of most countries vest ownership in the work’s author, and the author of a given work is the person it originated from or who made arrangements to create it. Originality is determined based on the amount of skill, labour, and effort expended to produce the work. Originality does not mean newness; it simply means that the work is not copied from another source. This provision of law makes it difficult for copyright infringement to arise from Generative AI systems like ChaptGPT, as these systems can create original works that are difficult to attribute to a specific creator or source. When this was asked, the chatbot vehemently denies merely copying and pasting content from websites. Nonetheless, copyright subsists in OpenAI for any text generated in ChatGPT. Hence as the owner and creator (author) of ChatGPT, OpenAI may enforce copyright wherever necessary. OpenAI also has the power to sue and be sued, not ChatGPT, as the chatbot is not a legal person. Additionally, the mode of usage of content clearly determines whether there is copyright infringement or not. For instance, can you use content generated from ChatGPT for commercial purposes and make money from it? To gain clarity on the issue, I asked the chatbot if the content it generates could be used for commercial purposes. It didn’t give a definite answer to my question. Still, it stated that it might be used in accordance with OpenAI’s acceptable use policy in some circumstances, while it may constitute copyright infringement in others. It shifts the responsibility to the users to determine use cases that require a licence from OpenAI or the platform where the text was generated. Furthermore, ChatGPT also raises cybersecurity concerns, as the tool can be used to compose perfect and wonderfully crafted phony emails, by scammers. The question once more is in respect of the allocation of liability for any legal harm or liability arising from this act. The general opinion is that, while OpenAI is primarily responsible for monitoring the chatbot’s use and taking reasonable measures to prevent fraudulent use by bad actors, the bad actors will always be the first in line to bear liability.       Data Privacy The next class of legal issues that arose as a result of the emergence of ChatGPT relates to data privacy concerns. The key questions here are, are there personal data contained in the database used to train ChatGPT?\\xa0 How does ChatGPT deal with personal data? When prompted, the chatbot admitted that there may be personal data contained in the database used for its training, but clarifies that it doesn’t collect, store or use personal data. OpenAI did not train it to process or access personal data, and users are strongly warned not to provide input that contains personal data or confidential information to the chatbot. OpenAI is compliant with many jurisdictions’ data protection regulations and has a data privacy policy available on its website. Ethical issues The popularity of AI-generated photos in 2022 was quickly followed by a wave of criticism from artists, notably illustrators, who were outraged that their work was exploited to train AI without their permission, credit, or remuneration. They claimed that the AI learning model allows the Generative AI to condense their entire life’s work into a few hours and respond in seconds. AI does not require the level of experience, labour, or money that artists and people in general have devoted to mastering their skills. This sentiment also applies to ChatGPT. The text resources used to train it contains articles such as this which took days to write and perfect, which is then fed to the chatbot to provide responses in a matter of seconds. While it hasn’t yet been monetised and is available for free, it’s just a matter of time before a subscription is required for complete access, like with most generative Ai systems. Perhaps in the future, a method for compensating and acknowledging the sources used to train generative AI will be devised, similar to how Instagram, TikTok, and YouTube do for music.\\xa0 As of now, computer-generated work is protected under copyright laws and does not constitute infringement. Another ethical concern it raises is plagiarism. Educational institutions are hugely concerned about the originality of work submitted by students. Unfortunately, the features of ChatGPT have compounded the issue by making it easier for students to plagiarise almost undetected. While there are AIs developed with the sole purpose of detecting AI-written content. These tools are not 100% accurate and may often generate false positives when the content is human written. Conclusively, there are definitely good and not so pleasant opinions about ChatGPT, with enormous critical and positive reviews since its emergence. However, opinions and perspectives have utmostly depended so entirely on the user and how they choose to use the features. With continuously engagements with the chatbot, there are definitely several legal and ethical implications and other philosophical questions that will arise as time passes. As a matter of fact, it’s too early to identify all the legal and ethical implications contained in the AI tool as more issues will only emerge with use and time. Yet, despite the negativities, we must admit that this is a very useful and handy tool. Meanwhile, it isn’t yet at its peak, and OpenAI openly exposes its limitations by admitting that the chatbot’s responses aren’t always ideal. In order to grow, it allows users to upvote or downvote responses and regenerate responses that aren’t relevant. Moshood Yahaya Founder, Applied AI Society, Bradford             Kindly share this story:               All rights reserved. This material, and other digital content on this website, may not be reproduced, published, broadcast, rewritten or redistributed in whole or in part without prior express written permission from PUNCH. Contact:  [email\\xa0protected]                                       join our telegram                                \\r \\tGet paid ₦45,000 every time you refer someone to us, no need to wait for monthly payments, we pay every FRIDAY. No fee to join or participate in the partner program.    Click here  to join.\\r                      Latest News        6 minutes ago    DSS identifies politicians behind interim govt plot        22 minutes ago    Ignore Ekpa’s sit-at-home order, IPOB tells Igbo in Lagos        29 minutes ago    UK to shelter asylum seekers in military bases        48 minutes ago    Kano gov-elect promises pro-people governance        49 minutes ago    Court orders Ondo to pay man shot by Amotekun N30m                        Top News            Assault: Police give Portable 72-hour ultimatum to report self   February 19, 2022            Nobody can chase you from Osun, Adeleke assures Aregbesola            I wont disappoint Nigerians, Tinubu promises            Afenifere never issued us query of allegation, says suspended spokesperson              Buhari swears in ex-IGP Arase as PSC chairman            Court cases won’t stop handover to Tinubu, Shettima – FG            Suspension: Ayu heads for court as PDP appoints acting chair              FG $22bn loan request rejected by Chinese bank – Reps            CBN bars banks seeking upgrade from expansion            Rampaging Ogun kidnappers kill two, abduct couple                        News Sports Metro Plus Politics Featured Latest News Business Business & Economy Opinion Entertainment Auto Famous Auto Punch Barka Da Sallah Barrier Breakers Breaking News Brexit Columns Corona Anti-corruption Biafra Boko Haram Case Review Court News Court Trivia Campus Champion Celebrity City round Interview Panorama Opinion Special Features Spice Technology Famous Parent Education Cartoon Columns Diaspora Advertise with us Subscribe             Subscribe                                            punchng.com © 1971- 2023 Punch Nigeria Limited   About us Advertise with us Contact                   '"
            ],
            "application/vnd.google.colaboratory.intrinsic+json": {
              "type": "string"
            }
          },
          "metadata": {},
          "execution_count": 16
        }
      ]
    },
    {
      "cell_type": "code",
      "source": [
        "# Get the sentences\n",
        "\n",
        "sentence=[]\n",
        "\n",
        "\n",
        "tokens = nlp(clean_text)\n",
        "for sent in tokens.sents:\n",
        "    sentence.append((sent.text.strip()))"
      ],
      "metadata": {
        "id": "-oQ2ocPQsV-2"
      },
      "execution_count": 17,
      "outputs": []
    },
    {
      "cell_type": "code",
      "source": [
        "sentence"
      ],
      "metadata": {
        "colab": {
          "base_uri": "https://localhost:8080/"
        },
        "id": "iMIoIgD9sWCp",
        "outputId": "5d03a532-5678-4129-9dd0-35c1643fa40c"
      },
      "execution_count": 18,
      "outputs": [
        {
          "output_type": "execute_result",
          "data": {
            "text/plain": [
              "['ChatGPT: The Good, The Bad, The Ethical And Legal Implications                                                                  ×     Search        Advertise with us Wednesday, March 29, 2023                                      Most Widely Read Newspaper                                Videos                          Home 2023 Elections News Metro Plus Investigations Videos Sports Politics Business HealthWise Editorial Columns Podcast         PunchNG',\n",
              " 'Menu:     Video Spice Special Features Education Sex & Relationship Interview Columns Opinion          Breaking News   Ogun workers suspend strike after four days  Read More                                    ChatGPT: The Good, The Bad, The Ethical And Legal Implications                                4th March 2023                                  Branded Content    Kindly share this story:                     The emergence of ChatGPT has received top level critical reviews by AI experts, academics, researchers and most importantly, the public.',\n",
              " 'The potential of having seamless and uninterrupted interaction with a chatbot is as impressive as they, even if it has been a long time coming.',\n",
              " 'What the is ChatGPT, which has received enormous rave reviews as well as critical slander on its special offering, as well as its impact on humans and the society.',\n",
              " 'ChatGPT, officially known as Chat Generative Pre-Trained Transformer, is a much celebrated artificial-intelligence chatbot developed by OpenAI and launched in November 2022.',\n",
              " 'The technology is developed on OpenAI’s GPT-3 species of large language models and fine-tuned using both supervised (which involves the introduction of known input and expected output) and reinforcement learning techniques.',\n",
              " 'Undoubtedly, ChatGPT is an immensely useful tool, despite some critical positions held by certain section of the masses and AI experts.',\n",
              " 'Notably, it is opined that ChatGPT cannot handle the large number of requests it gets and may often experience downtime, when this happens, ChatGPT informs you in a three Stanza poem with its own rhyme scheme on the login page to “check back soon.”',\n",
              " 'The short, witty poem makes sure to reiterate that “ChatGPT, the future of chat, that’s a fact.”',\n",
              " 'Without referring to the grammatical issues that sentence raises, a statement that will be be examined in depth considering the ethical and legal implications of ChatGPT’s overall features.',\n",
              " 'ChatGPT has exceptional features that attracted over one million users in its launch week and stiff competition.',\n",
              " 'Google management labelled it as “code red”; this is understandable as many people have tagged ChatGPT as the first real challenge of Google’s spot in web search in years.',\n",
              " 'It’s interesting to note that ChatGPT is built on GPT, a Google-invented AI model known as a transformer.',\n",
              " 'How best can we explore ChatGPT, other than involving some interaction with it in the makeup of this article.',\n",
              " 'I asked the chatbot to define itself, to which it responded that: “CHATGPT is a state-of-the-art AI language model developed by OpenAI.',\n",
              " 'It is a Generative Pre-trained Transformer (GPT) model that uses deep learning techniques to generate human-like text based on the input provided.',\n",
              " 'It has been trained on a massive corpus of diverse internet text and can perform various language tasks such as answering questions, generating creative writing, and translating text”.',\n",
              " 'When asked to highlight its key features, it only listed seven key features, which all relate to text generation.',\n",
              " 'Although mimicking human conversation is, in fact, its main feature, it has other capabilities as well, for instance: It stores previous conversations and recalls where necessary.',\n",
              " 'It can also write and debug computer programs, answer test questions (sometimes at a level higher than the average human test-taker), compose song lyrics, emulate a Linux system, simulate an entire chat room, play games like tic-tac-toe, and simulate an ATM.',\n",
              " 'As impressive as this may sound, these features possess inherent legal and ethical issues arising from the training data used to achieve these features and how users utilise them.',\n",
              " 'LEGAL IMPLICATIONS The calibre and volume of the data used for training ChatGPT’s primary function affect its performance.',\n",
              " 'While OpenAI has not publicly disclose the amount or origin of the training database used for CHATGPT (as is the case in major AI discoveries of this nature), it is widely juxtaposed that the model was trained on datasets which includes internet content, including webpages, books, essays, and other publicly available text sources.',\n",
              " 'Therefore, ChatGPT tend to answer requests based on its text sources, without credits or reference to the sources of these information.',\n",
              " 'This raises a huge copyright question, particularly in the light of ChatGPT’s widespread usage in academic, content creation and by students in solving academic assessments.',\n",
              " 'The critical question is then, who owns the intellectual property of that GPT content?\\xa0 Is ChatGPT guilty of Copyright infringement?',\n",
              " 'Can you sue ChatGPT?',\n",
              " 'Are the users culpable in case of contents crafted out of ChatGPT?',\n",
              " 'The copyright laws of most countries vest ownership in the work’s author, and the author of a given work is the person it originated from or who made arrangements to create it.',\n",
              " 'Originality is determined based on the amount of skill, labour, and effort expended to produce the work.',\n",
              " 'Originality does not mean newness; it simply means that the work is not copied from another source.',\n",
              " 'This provision of law makes it difficult for copyright infringement to arise from Generative AI systems like ChaptGPT, as these systems can create original works that are difficult to attribute to a specific creator or source.',\n",
              " 'When this was asked, the chatbot vehemently denies merely copying and pasting content from websites.',\n",
              " 'Nonetheless, copyright subsists in OpenAI for any text generated in ChatGPT.',\n",
              " 'Hence as the owner and creator (author) of ChatGPT, OpenAI may enforce copyright wherever necessary.',\n",
              " 'OpenAI also has the power to sue and be sued, not ChatGPT, as the chatbot is not a legal person.',\n",
              " 'Additionally, the mode of usage of content clearly determines whether there is copyright infringement or not.',\n",
              " 'For instance, can you use content generated from ChatGPT for commercial purposes and make money from it?',\n",
              " 'To gain clarity on the issue, I asked the chatbot if the content it generates could be used for commercial purposes.',\n",
              " 'It didn’t give a definite answer to my question.',\n",
              " 'Still, it stated that it might be used in accordance with OpenAI’s acceptable use policy in some circumstances, while it may constitute copyright infringement in others.',\n",
              " 'It shifts the responsibility to the users to determine use cases that require a licence from OpenAI or the platform where the text was generated.',\n",
              " 'Furthermore, ChatGPT also raises cybersecurity concerns, as the tool can be used to compose perfect and wonderfully crafted phony emails, by scammers.',\n",
              " 'The question once more is in respect of the allocation of liability for any legal harm or liability arising from this act.',\n",
              " 'The general opinion is that, while OpenAI is primarily responsible for monitoring the chatbot’s use and taking reasonable measures to prevent fraudulent use by bad actors, the bad actors will always be the first in line to bear liability.',\n",
              " 'Data Privacy',\n",
              " 'The next class of legal issues that arose as a result of the emergence of ChatGPT relates to data privacy concerns.',\n",
              " 'The key questions here are, are there personal data contained in the database used to train ChatGPT?',\n",
              " 'How does ChatGPT deal with personal data?',\n",
              " 'When prompted, the chatbot admitted that there may be personal data contained in the database used for its training, but clarifies that it doesn’t collect, store or use personal data.',\n",
              " 'OpenAI did not train it to process or access personal data, and users are strongly warned not to provide input that contains personal data or confidential information to the chatbot.',\n",
              " 'OpenAI is compliant with many jurisdictions’ data protection regulations and has a data privacy policy available on its website.',\n",
              " 'Ethical issues The popularity of AI-generated photos in 2022 was quickly followed by a wave of criticism from artists, notably illustrators, who were outraged that their work was exploited to train AI without their permission, credit, or remuneration.',\n",
              " 'They claimed that the AI learning model allows the Generative AI to condense their entire life’s work into a few hours and respond in seconds.',\n",
              " 'AI does not require the level of experience, labour, or money that artists and people in general have devoted to mastering their skills.',\n",
              " 'This sentiment also applies to ChatGPT.',\n",
              " 'The text resources used to train it contains articles such as this which took days to write and perfect, which is then fed to the chatbot to provide responses in a matter of seconds.',\n",
              " 'While it hasn’t yet been monetised and is available for free, it’s just a matter of time before a subscription is required for complete access, like with most generative Ai systems.',\n",
              " 'Perhaps in the future, a method for compensating and acknowledging the sources used to train generative AI will be devised, similar to how Instagram, TikTok, and YouTube do for music.',\n",
              " 'As of now, computer-generated work is protected under copyright laws and does not constitute infringement.',\n",
              " 'Another ethical concern it raises is plagiarism.',\n",
              " 'Educational institutions are hugely concerned about the originality of work submitted by students.',\n",
              " 'Unfortunately, the features of ChatGPT have compounded the issue by making it easier for students to plagiarise almost undetected.',\n",
              " 'While there are AIs developed with the sole purpose of detecting AI-written content.',\n",
              " 'These tools are not 100% accurate and may often generate false positives when the content is human written.',\n",
              " 'Conclusively, there are definitely good and not so pleasant opinions about ChatGPT, with enormous critical and positive reviews since its emergence.',\n",
              " 'However, opinions and perspectives have utmostly depended so entirely on the user and how they choose to use the features.',\n",
              " 'With continuously engagements with the chatbot, there are definitely several legal and ethical implications and other philosophical questions that will arise as time passes.',\n",
              " 'As a matter of fact, it’s too early to identify all the legal and ethical implications contained in the AI tool as more issues will only emerge with use and time.',\n",
              " 'Yet, despite the negativities, we must admit that this is a very useful and handy tool.',\n",
              " 'Meanwhile, it isn’t yet at its peak, and OpenAI openly exposes its limitations by admitting that the chatbot’s responses aren’t always ideal.',\n",
              " 'In order to grow, it allows users to upvote or downvote responses and regenerate responses that aren’t relevant.',\n",
              " 'Moshood Yahaya Founder, Applied AI Society, Bradford             Kindly share this story:               All rights reserved.',\n",
              " 'This material, and other digital content on this website, may not be reproduced, published, broadcast, rewritten or redistributed in whole or in part without prior express written permission from PUNCH.',\n",
              " 'Contact:',\n",
              " '[email\\xa0protected]                                       join our telegram                                \\r \\tGet paid ₦45,000 every time you refer someone to us, no need to wait for monthly payments, we pay every FRIDAY.',\n",
              " 'No fee to join or participate in the partner program.',\n",
              " 'Click here  to join.',\n",
              " 'Latest News        6 minutes ago    DSS identifies politicians behind interim govt plot        22 minutes ago    Ignore Ekpa’s sit-at-home order, IPOB tells Igbo in Lagos        29 minutes ago    UK to shelter asylum seekers in military bases        48 minutes ago    Kano gov-elect promises pro-people governance        49 minutes ago    Court orders Ondo to pay man shot by Amotekun N30m                        Top News            Assault:',\n",
              " 'Police give Portable 72-hour ultimatum to report self   February 19, 2022            Nobody can chase you from Osun, Adeleke assures Aregbesola            I wont disappoint Nigerians, Tinubu promises            Afenifere never issued us query of allegation, says suspended spokesperson              Buhari swears in ex-IGP Arase as PSC chairman            Court cases won’t stop handover to Tinubu, Shettima – FG            Suspension: Ayu heads for court as PDP appoints acting chair              FG $22bn loan request rejected by Chinese bank – Reps            CBN bars banks seeking upgrade from expansion            Rampaging Ogun kidnappers kill two,',\n",
              " 'abduct couple                        News Sports Metro Plus Politics Featured Latest News Business Business & Economy Opinion Entertainment Auto Famous Auto Punch Barka Da Sallah Barrier Breakers Breaking News Brexit Columns Corona Anti-corruption Biafra Boko Haram Case Review Court News Court Trivia Campus Champion Celebrity City round Interview Panorama Opinion Special Features Spice Technology Famous Parent Education Cartoon Columns Diaspora Advertise with us Subscribe             Subscribe                                            punchng.com',\n",
              " '© 1971- 2023',\n",
              " 'Punch Nigeria Limited   About us Advertise with us Contact']"
            ]
          },
          "metadata": {},
          "execution_count": 18
        }
      ]
    },
    {
      "cell_type": "markdown",
      "source": [
        "**There are 83 sentences**"
      ],
      "metadata": {
        "id": "i4z8Zlkw_zkg"
      }
    },
    {
      "cell_type": "code",
      "source": [
        "print(len(sentence))"
      ],
      "metadata": {
        "colab": {
          "base_uri": "https://localhost:8080/"
        },
        "id": "UuYWfO4ospkm",
        "outputId": "1b732ce6-bcfc-4fff-cbd3-763dbe492dda"
      },
      "execution_count": 19,
      "outputs": [
        {
          "output_type": "stream",
          "name": "stdout",
          "text": [
            "83\n"
          ]
        }
      ]
    },
    {
      "cell_type": "code",
      "source": [
        "# Using TextBlob\n",
        "textblob_sentiment=[]\n",
        "\n",
        "for s in sentence:\n",
        "    txt= TextBlob(s)\n",
        "    a= txt.sentiment.polarity\n",
        "    b= txt.sentiment.subjectivity\n",
        "    \n",
        "    textblob_sentiment.append([s,a,b])\n"
      ],
      "metadata": {
        "id": "P33gv3d3tBxV"
      },
      "execution_count": 21,
      "outputs": []
    },
    {
      "cell_type": "code",
      "source": [
        "df_textblob = pd.DataFrame(textblob_sentiment, columns =['Sentence', 'Polarity', 'Subjectivity']) "
      ],
      "metadata": {
        "id": "hBqz570mtBtu"
      },
      "execution_count": 22,
      "outputs": []
    },
    {
      "cell_type": "code",
      "source": [
        "df_textblob.info()"
      ],
      "metadata": {
        "colab": {
          "base_uri": "https://localhost:8080/"
        },
        "id": "YHNywXqjsWJS",
        "outputId": "e22c90ea-a906-499a-fc6e-b6ea0270d2ab"
      },
      "execution_count": 23,
      "outputs": [
        {
          "output_type": "stream",
          "name": "stdout",
          "text": [
            "<class 'pandas.core.frame.DataFrame'>\n",
            "RangeIndex: 83 entries, 0 to 82\n",
            "Data columns (total 3 columns):\n",
            " #   Column        Non-Null Count  Dtype  \n",
            "---  ------        --------------  -----  \n",
            " 0   Sentence      83 non-null     object \n",
            " 1   Polarity      83 non-null     float64\n",
            " 2   Subjectivity  83 non-null     float64\n",
            "dtypes: float64(2), object(1)\n",
            "memory usage: 2.1+ KB\n"
          ]
        }
      ]
    },
    {
      "cell_type": "markdown",
      "source": [
        "**Polarity is between -1 (extreme negative), 0 (neutral) and 1 (extreme positive**"
      ],
      "metadata": {
        "id": "plrxh2uyAR0L"
      }
    },
    {
      "cell_type": "markdown",
      "source": [
        "**Subjectivity is from 0 to 1, where 1 is extremely subjective**"
      ],
      "metadata": {
        "id": "2Sm57Uv7Akwl"
      }
    },
    {
      "cell_type": "code",
      "source": [
        "df_textblob.head(20)"
      ],
      "metadata": {
        "colab": {
          "base_uri": "https://localhost:8080/",
          "height": 677
        },
        "id": "tjtHNJljsWNJ",
        "outputId": "ef4bda96-a818-456d-ac3a-3276f63393da"
      },
      "execution_count": 24,
      "outputs": [
        {
          "output_type": "execute_result",
          "data": {
            "text/plain": [
              "                                             Sentence  Polarity  Subjectivity\n",
              "0   ChatGPT: The Good, The Bad, The Ethical And Le...  0.133333      0.494444\n",
              "1   Menu:     Video Spice Special Features Educati...  0.271429      0.575397\n",
              "2   The potential of having seamless and uninterru...  0.210000      0.500000\n",
              "3   What the is ChatGPT, which has received enormo...  0.119048      0.757143\n",
              "4   ChatGPT, officially known as Chat Generative P...  0.225000      0.525000\n",
              "5   The technology is developed on OpenAI’s GPT-3 ...  0.071429      0.376190\n",
              "6   Undoubtedly, ChatGPT is an immensely useful to...  0.171429      0.457143\n",
              "7   Notably, it is opined that ChatGPT cannot hand...  0.328571      0.482143\n",
              "8   The short, witty poem makes sure to reiterate ...  0.250000      0.578472\n",
              "9   Without referring to the grammatical issues th...  0.133333      0.266667\n",
              "10  ChatGPT has exceptional features that attracte...  0.226190      0.750000\n",
              "11  Google management labelled it as “code red”; t...  0.237500      0.283333\n",
              "12  It’s interesting to note that ChatGPT is built...  0.500000      0.500000\n",
              "13  How best can we explore ChatGPT, other than in...  0.437500      0.337500\n",
              "14  I asked the chatbot to define itself, to which...  0.100000      0.300000\n",
              "15  It is a Generative Pre-trained Transformer (GP...  0.000000      0.400000\n",
              "16  It has been trained on a massive corpus of div...  0.125000      0.750000\n",
              "17  When asked to highlight its key features, it o...  0.000000      1.000000\n",
              "18  Although mimicking human conversation is, in f... -0.025000      0.395000\n",
              "19  It can also write and debug computer programs,...  0.025000      0.406250"
            ],
            "text/html": [
              "\n",
              "  <div id=\"df-37f825d0-efe3-45cc-8fc0-6d03b87aac12\">\n",
              "    <div class=\"colab-df-container\">\n",
              "      <div>\n",
              "<style scoped>\n",
              "    .dataframe tbody tr th:only-of-type {\n",
              "        vertical-align: middle;\n",
              "    }\n",
              "\n",
              "    .dataframe tbody tr th {\n",
              "        vertical-align: top;\n",
              "    }\n",
              "\n",
              "    .dataframe thead th {\n",
              "        text-align: right;\n",
              "    }\n",
              "</style>\n",
              "<table border=\"1\" class=\"dataframe\">\n",
              "  <thead>\n",
              "    <tr style=\"text-align: right;\">\n",
              "      <th></th>\n",
              "      <th>Sentence</th>\n",
              "      <th>Polarity</th>\n",
              "      <th>Subjectivity</th>\n",
              "    </tr>\n",
              "  </thead>\n",
              "  <tbody>\n",
              "    <tr>\n",
              "      <th>0</th>\n",
              "      <td>ChatGPT: The Good, The Bad, The Ethical And Le...</td>\n",
              "      <td>0.133333</td>\n",
              "      <td>0.494444</td>\n",
              "    </tr>\n",
              "    <tr>\n",
              "      <th>1</th>\n",
              "      <td>Menu:     Video Spice Special Features Educati...</td>\n",
              "      <td>0.271429</td>\n",
              "      <td>0.575397</td>\n",
              "    </tr>\n",
              "    <tr>\n",
              "      <th>2</th>\n",
              "      <td>The potential of having seamless and uninterru...</td>\n",
              "      <td>0.210000</td>\n",
              "      <td>0.500000</td>\n",
              "    </tr>\n",
              "    <tr>\n",
              "      <th>3</th>\n",
              "      <td>What the is ChatGPT, which has received enormo...</td>\n",
              "      <td>0.119048</td>\n",
              "      <td>0.757143</td>\n",
              "    </tr>\n",
              "    <tr>\n",
              "      <th>4</th>\n",
              "      <td>ChatGPT, officially known as Chat Generative P...</td>\n",
              "      <td>0.225000</td>\n",
              "      <td>0.525000</td>\n",
              "    </tr>\n",
              "    <tr>\n",
              "      <th>5</th>\n",
              "      <td>The technology is developed on OpenAI’s GPT-3 ...</td>\n",
              "      <td>0.071429</td>\n",
              "      <td>0.376190</td>\n",
              "    </tr>\n",
              "    <tr>\n",
              "      <th>6</th>\n",
              "      <td>Undoubtedly, ChatGPT is an immensely useful to...</td>\n",
              "      <td>0.171429</td>\n",
              "      <td>0.457143</td>\n",
              "    </tr>\n",
              "    <tr>\n",
              "      <th>7</th>\n",
              "      <td>Notably, it is opined that ChatGPT cannot hand...</td>\n",
              "      <td>0.328571</td>\n",
              "      <td>0.482143</td>\n",
              "    </tr>\n",
              "    <tr>\n",
              "      <th>8</th>\n",
              "      <td>The short, witty poem makes sure to reiterate ...</td>\n",
              "      <td>0.250000</td>\n",
              "      <td>0.578472</td>\n",
              "    </tr>\n",
              "    <tr>\n",
              "      <th>9</th>\n",
              "      <td>Without referring to the grammatical issues th...</td>\n",
              "      <td>0.133333</td>\n",
              "      <td>0.266667</td>\n",
              "    </tr>\n",
              "    <tr>\n",
              "      <th>10</th>\n",
              "      <td>ChatGPT has exceptional features that attracte...</td>\n",
              "      <td>0.226190</td>\n",
              "      <td>0.750000</td>\n",
              "    </tr>\n",
              "    <tr>\n",
              "      <th>11</th>\n",
              "      <td>Google management labelled it as “code red”; t...</td>\n",
              "      <td>0.237500</td>\n",
              "      <td>0.283333</td>\n",
              "    </tr>\n",
              "    <tr>\n",
              "      <th>12</th>\n",
              "      <td>It’s interesting to note that ChatGPT is built...</td>\n",
              "      <td>0.500000</td>\n",
              "      <td>0.500000</td>\n",
              "    </tr>\n",
              "    <tr>\n",
              "      <th>13</th>\n",
              "      <td>How best can we explore ChatGPT, other than in...</td>\n",
              "      <td>0.437500</td>\n",
              "      <td>0.337500</td>\n",
              "    </tr>\n",
              "    <tr>\n",
              "      <th>14</th>\n",
              "      <td>I asked the chatbot to define itself, to which...</td>\n",
              "      <td>0.100000</td>\n",
              "      <td>0.300000</td>\n",
              "    </tr>\n",
              "    <tr>\n",
              "      <th>15</th>\n",
              "      <td>It is a Generative Pre-trained Transformer (GP...</td>\n",
              "      <td>0.000000</td>\n",
              "      <td>0.400000</td>\n",
              "    </tr>\n",
              "    <tr>\n",
              "      <th>16</th>\n",
              "      <td>It has been trained on a massive corpus of div...</td>\n",
              "      <td>0.125000</td>\n",
              "      <td>0.750000</td>\n",
              "    </tr>\n",
              "    <tr>\n",
              "      <th>17</th>\n",
              "      <td>When asked to highlight its key features, it o...</td>\n",
              "      <td>0.000000</td>\n",
              "      <td>1.000000</td>\n",
              "    </tr>\n",
              "    <tr>\n",
              "      <th>18</th>\n",
              "      <td>Although mimicking human conversation is, in f...</td>\n",
              "      <td>-0.025000</td>\n",
              "      <td>0.395000</td>\n",
              "    </tr>\n",
              "    <tr>\n",
              "      <th>19</th>\n",
              "      <td>It can also write and debug computer programs,...</td>\n",
              "      <td>0.025000</td>\n",
              "      <td>0.406250</td>\n",
              "    </tr>\n",
              "  </tbody>\n",
              "</table>\n",
              "</div>\n",
              "      <button class=\"colab-df-convert\" onclick=\"convertToInteractive('df-37f825d0-efe3-45cc-8fc0-6d03b87aac12')\"\n",
              "              title=\"Convert this dataframe to an interactive table.\"\n",
              "              style=\"display:none;\">\n",
              "        \n",
              "  <svg xmlns=\"http://www.w3.org/2000/svg\" height=\"24px\"viewBox=\"0 0 24 24\"\n",
              "       width=\"24px\">\n",
              "    <path d=\"M0 0h24v24H0V0z\" fill=\"none\"/>\n",
              "    <path d=\"M18.56 5.44l.94 2.06.94-2.06 2.06-.94-2.06-.94-.94-2.06-.94 2.06-2.06.94zm-11 1L8.5 8.5l.94-2.06 2.06-.94-2.06-.94L8.5 2.5l-.94 2.06-2.06.94zm10 10l.94 2.06.94-2.06 2.06-.94-2.06-.94-.94-2.06-.94 2.06-2.06.94z\"/><path d=\"M17.41 7.96l-1.37-1.37c-.4-.4-.92-.59-1.43-.59-.52 0-1.04.2-1.43.59L10.3 9.45l-7.72 7.72c-.78.78-.78 2.05 0 2.83L4 21.41c.39.39.9.59 1.41.59.51 0 1.02-.2 1.41-.59l7.78-7.78 2.81-2.81c.8-.78.8-2.07 0-2.86zM5.41 20L4 18.59l7.72-7.72 1.47 1.35L5.41 20z\"/>\n",
              "  </svg>\n",
              "      </button>\n",
              "      \n",
              "  <style>\n",
              "    .colab-df-container {\n",
              "      display:flex;\n",
              "      flex-wrap:wrap;\n",
              "      gap: 12px;\n",
              "    }\n",
              "\n",
              "    .colab-df-convert {\n",
              "      background-color: #E8F0FE;\n",
              "      border: none;\n",
              "      border-radius: 50%;\n",
              "      cursor: pointer;\n",
              "      display: none;\n",
              "      fill: #1967D2;\n",
              "      height: 32px;\n",
              "      padding: 0 0 0 0;\n",
              "      width: 32px;\n",
              "    }\n",
              "\n",
              "    .colab-df-convert:hover {\n",
              "      background-color: #E2EBFA;\n",
              "      box-shadow: 0px 1px 2px rgba(60, 64, 67, 0.3), 0px 1px 3px 1px rgba(60, 64, 67, 0.15);\n",
              "      fill: #174EA6;\n",
              "    }\n",
              "\n",
              "    [theme=dark] .colab-df-convert {\n",
              "      background-color: #3B4455;\n",
              "      fill: #D2E3FC;\n",
              "    }\n",
              "\n",
              "    [theme=dark] .colab-df-convert:hover {\n",
              "      background-color: #434B5C;\n",
              "      box-shadow: 0px 1px 3px 1px rgba(0, 0, 0, 0.15);\n",
              "      filter: drop-shadow(0px 1px 2px rgba(0, 0, 0, 0.3));\n",
              "      fill: #FFFFFF;\n",
              "    }\n",
              "  </style>\n",
              "\n",
              "      <script>\n",
              "        const buttonEl =\n",
              "          document.querySelector('#df-37f825d0-efe3-45cc-8fc0-6d03b87aac12 button.colab-df-convert');\n",
              "        buttonEl.style.display =\n",
              "          google.colab.kernel.accessAllowed ? 'block' : 'none';\n",
              "\n",
              "        async function convertToInteractive(key) {\n",
              "          const element = document.querySelector('#df-37f825d0-efe3-45cc-8fc0-6d03b87aac12');\n",
              "          const dataTable =\n",
              "            await google.colab.kernel.invokeFunction('convertToInteractive',\n",
              "                                                     [key], {});\n",
              "          if (!dataTable) return;\n",
              "\n",
              "          const docLinkHtml = 'Like what you see? Visit the ' +\n",
              "            '<a target=\"_blank\" href=https://colab.research.google.com/notebooks/data_table.ipynb>data table notebook</a>'\n",
              "            + ' to learn more about interactive tables.';\n",
              "          element.innerHTML = '';\n",
              "          dataTable['output_type'] = 'display_data';\n",
              "          await google.colab.output.renderOutput(dataTable, element);\n",
              "          const docLink = document.createElement('div');\n",
              "          docLink.innerHTML = docLinkHtml;\n",
              "          element.appendChild(docLink);\n",
              "        }\n",
              "      </script>\n",
              "    </div>\n",
              "  </div>\n",
              "  "
            ]
          },
          "metadata": {},
          "execution_count": 24
        }
      ]
    },
    {
      "cell_type": "code",
      "source": [
        "sns.displot(df_textblob[\"Polarity\"], height= 5, aspect=1.8)\n",
        "plt.xlabel(\"Sentence Polarity (Textblob)\")"
      ],
      "metadata": {
        "id": "aEcdMOLZqiT4",
        "colab": {
          "base_uri": "https://localhost:8080/",
          "height": 523
        },
        "outputId": "fb573b2f-9135-4db2-843c-53e7a6551d5e"
      },
      "execution_count": 26,
      "outputs": [
        {
          "output_type": "execute_result",
          "data": {
            "text/plain": [
              "Text(0.5, 9.444444444444438, 'Sentence Polarity (Textblob)')"
            ]
          },
          "metadata": {},
          "execution_count": 26
        },
        {
          "output_type": "display_data",
          "data": {
            "text/plain": [
              "<Figure size 900x500 with 1 Axes>"
            ],
            "image/png": "[encoded data removed]"
          },
          "metadata": {}
        }
      ]
    },
    {
      "cell_type": "code",
      "source": [
        "sns.displot(df_textblob[\"Subjectivity\"], height= 5, aspect=1.8)\n",
        "plt.xlabel(\"Sentence Subjectivity (Textblob)\")"
      ],
      "metadata": {
        "id": "GTkeHhYwoY4N",
        "colab": {
          "base_uri": "https://localhost:8080/",
          "height": 524
        },
        "outputId": "68e45f0d-96f7-49cd-f844-50295ec846a8"
      },
      "execution_count": 27,
      "outputs": [
        {
          "output_type": "execute_result",
          "data": {
            "text/plain": [
              "Text(0.5, 9.444444444444438, 'Sentence Subjectivity (Textblob)')"
            ]
          },
          "metadata": {},
          "execution_count": 27
        },
        {
          "output_type": "display_data",
          "data": {
            "text/plain": [
              "<Figure size 900x500 with 1 Axes>"
            ],
            "image/png": "[encoded data removed]"
          },
          "metadata": {}
        }
      ]
    },
    {
      "cell_type": "code",
      "source": [
        "# Word cloud\n",
        "\n",
        "clean_text[100:800]"
      ],
      "metadata": {
        "colab": {
          "base_uri": "https://localhost:8080/",
          "height": 105
        },
        "id": "FKCWrJF5vlkL",
        "outputId": "6b8df9e8-87b3-4670-c636-28503ca290d6"
      },
      "execution_count": 28,
      "outputs": [
        {
          "output_type": "execute_result",
          "data": {
            "text/plain": [
              "'                                                  ×     Search        Advertise with us Wednesday, March 29, 2023                                      Most Widely Read Newspaper                                Videos                          Home 2023 Elections News Metro Plus Investigations Videos Sports Politics Business HealthWise Editorial Columns Podcast         PunchNG Menu:     Video Spice Special Features Education Sex & Relationship Interview Columns Opinion          Breaking News   Ogun workers suspend strike after four days  Read More                                    ChatGPT: The Good, The Bad, The Ethical And Legal Implications                                4th March 2023      '"
            ],
            "application/vnd.google.colaboratory.intrinsic+json": {
              "type": "string"
            }
          },
          "metadata": {},
          "execution_count": 28
        }
      ]
    },
    {
      "cell_type": "code",
      "source": [
        "clean_text"
      ],
      "metadata": {
        "colab": {
          "base_uri": "https://localhost:8080/",
          "height": 122
        },
        "id": "rXH5MFt47CgB",
        "outputId": "cdbbc859-8606-483b-b141-164d77eb3ff6"
      },
      "execution_count": 29,
      "outputs": [
        {
          "output_type": "execute_result",
          "data": {
            "text/plain": [
              "'                      ChatGPT: The Good, The Bad, The Ethical And Legal Implications                                                                  ×     Search        Advertise with us Wednesday, March 29, 2023                                      Most Widely Read Newspaper                                Videos                          Home 2023 Elections News Metro Plus Investigations Videos Sports Politics Business HealthWise Editorial Columns Podcast         PunchNG Menu:     Video Spice Special Features Education Sex & Relationship Interview Columns Opinion          Breaking News   Ogun workers suspend strike after four days  Read More                                    ChatGPT: The Good, The Bad, The Ethical And Legal Implications                                4th March 2023                                  Branded Content    Kindly share this story:                     The emergence of ChatGPT has received top level critical reviews by AI experts, academics, researchers and most importantly, the public. The potential of having seamless and uninterrupted interaction with a chatbot is as impressive as they, even if it has been a long time coming. What the is ChatGPT, which has received enormous rave reviews as well as critical slander on its special offering, as well as its impact on humans and the society. ChatGPT, officially known as Chat Generative Pre-Trained Transformer, is a much celebrated artificial-intelligence chatbot developed by OpenAI and launched in November 2022. The technology is developed on OpenAI’s GPT-3 species of large language models and fine-tuned using both supervised (which involves the introduction of known input and expected output) and reinforcement learning techniques. Undoubtedly, ChatGPT is an immensely useful tool, despite some critical positions held by certain section of the masses and AI experts. Notably, it is opined that ChatGPT cannot handle the large number of requests it gets and may often experience downtime, when this happens, ChatGPT informs you in a three Stanza poem with its own rhyme scheme on the login page to “check back soon.” The short, witty poem makes sure to reiterate that “ChatGPT, the future of chat, that’s a fact.” Without referring to the grammatical issues that sentence raises, a statement that will be be examined in depth considering the ethical and legal implications of ChatGPT’s overall features. ChatGPT has exceptional features that attracted over one million users in its launch week and stiff competition. Google management labelled it as “code red”; this is understandable as many people have tagged ChatGPT as the first real challenge of Google’s spot in web search in years.\\xa0 It’s interesting to note that ChatGPT is built on GPT, a Google-invented AI model known as a transformer. How best can we explore ChatGPT, other than involving some interaction with it in the makeup of this article. I asked the chatbot to define itself, to which it responded that: “CHATGPT is a state-of-the-art AI language model developed by OpenAI. It is a Generative Pre-trained Transformer (GPT) model that uses deep learning techniques to generate human-like text based on the input provided. It has been trained on a massive corpus of diverse internet text and can perform various language tasks such as answering questions, generating creative writing, and translating text”.\\xa0 When asked to highlight its key features, it only listed seven key features, which all relate to text generation. Although mimicking human conversation is, in fact, its main feature, it has other capabilities as well, for instance: It stores previous conversations and recalls where necessary. It can also write and debug computer programs, answer test questions (sometimes at a level higher than the average human test-taker), compose song lyrics, emulate a Linux system, simulate an entire chat room, play games like tic-tac-toe, and simulate an ATM. \\xa0As impressive as this may sound, these features possess inherent legal and ethical issues arising from the training data used to achieve these features and how users utilise them. LEGAL IMPLICATIONS The calibre and volume of the data used for training ChatGPT’s primary function affect its performance. While OpenAI has not publicly disclose the amount or origin of the training database used for CHATGPT (as is the case in major AI discoveries of this nature), it is widely juxtaposed that the model was trained on datasets which includes internet content, including webpages, books, essays, and other publicly available text sources. Therefore, ChatGPT tend to answer requests based on its text sources, without credits or reference to the sources of these information. This raises a huge copyright question, particularly in the light of ChatGPT’s widespread usage in academic, content creation and by students in solving academic assessments. The critical question is then, who owns the intellectual property of that GPT content?\\xa0 Is ChatGPT guilty of Copyright infringement? Can you sue ChatGPT? Are the users culpable in case of contents crafted out of ChatGPT?   The copyright laws of most countries vest ownership in the work’s author, and the author of a given work is the person it originated from or who made arrangements to create it. Originality is determined based on the amount of skill, labour, and effort expended to produce the work. Originality does not mean newness; it simply means that the work is not copied from another source. This provision of law makes it difficult for copyright infringement to arise from Generative AI systems like ChaptGPT, as these systems can create original works that are difficult to attribute to a specific creator or source. When this was asked, the chatbot vehemently denies merely copying and pasting content from websites. Nonetheless, copyright subsists in OpenAI for any text generated in ChatGPT. Hence as the owner and creator (author) of ChatGPT, OpenAI may enforce copyright wherever necessary. OpenAI also has the power to sue and be sued, not ChatGPT, as the chatbot is not a legal person. Additionally, the mode of usage of content clearly determines whether there is copyright infringement or not. For instance, can you use content generated from ChatGPT for commercial purposes and make money from it? To gain clarity on the issue, I asked the chatbot if the content it generates could be used for commercial purposes. It didn’t give a definite answer to my question. Still, it stated that it might be used in accordance with OpenAI’s acceptable use policy in some circumstances, while it may constitute copyright infringement in others. It shifts the responsibility to the users to determine use cases that require a licence from OpenAI or the platform where the text was generated. Furthermore, ChatGPT also raises cybersecurity concerns, as the tool can be used to compose perfect and wonderfully crafted phony emails, by scammers. The question once more is in respect of the allocation of liability for any legal harm or liability arising from this act. The general opinion is that, while OpenAI is primarily responsible for monitoring the chatbot’s use and taking reasonable measures to prevent fraudulent use by bad actors, the bad actors will always be the first in line to bear liability.       Data Privacy The next class of legal issues that arose as a result of the emergence of ChatGPT relates to data privacy concerns. The key questions here are, are there personal data contained in the database used to train ChatGPT?\\xa0 How does ChatGPT deal with personal data? When prompted, the chatbot admitted that there may be personal data contained in the database used for its training, but clarifies that it doesn’t collect, store or use personal data. OpenAI did not train it to process or access personal data, and users are strongly warned not to provide input that contains personal data or confidential information to the chatbot. OpenAI is compliant with many jurisdictions’ data protection regulations and has a data privacy policy available on its website. Ethical issues The popularity of AI-generated photos in 2022 was quickly followed by a wave of criticism from artists, notably illustrators, who were outraged that their work was exploited to train AI without their permission, credit, or remuneration. They claimed that the AI learning model allows the Generative AI to condense their entire life’s work into a few hours and respond in seconds. AI does not require the level of experience, labour, or money that artists and people in general have devoted to mastering their skills. This sentiment also applies to ChatGPT. The text resources used to train it contains articles such as this which took days to write and perfect, which is then fed to the chatbot to provide responses in a matter of seconds. While it hasn’t yet been monetised and is available for free, it’s just a matter of time before a subscription is required for complete access, like with most generative Ai systems. Perhaps in the future, a method for compensating and acknowledging the sources used to train generative AI will be devised, similar to how Instagram, TikTok, and YouTube do for music.\\xa0 As of now, computer-generated work is protected under copyright laws and does not constitute infringement. Another ethical concern it raises is plagiarism. Educational institutions are hugely concerned about the originality of work submitted by students. Unfortunately, the features of ChatGPT have compounded the issue by making it easier for students to plagiarise almost undetected. While there are AIs developed with the sole purpose of detecting AI-written content. These tools are not 100% accurate and may often generate false positives when the content is human written. Conclusively, there are definitely good and not so pleasant opinions about ChatGPT, with enormous critical and positive reviews since its emergence. However, opinions and perspectives have utmostly depended so entirely on the user and how they choose to use the features. With continuously engagements with the chatbot, there are definitely several legal and ethical implications and other philosophical questions that will arise as time passes. As a matter of fact, it’s too early to identify all the legal and ethical implications contained in the AI tool as more issues will only emerge with use and time. Yet, despite the negativities, we must admit that this is a very useful and handy tool. Meanwhile, it isn’t yet at its peak, and OpenAI openly exposes its limitations by admitting that the chatbot’s responses aren’t always ideal. In order to grow, it allows users to upvote or downvote responses and regenerate responses that aren’t relevant. Moshood Yahaya Founder, Applied AI Society, Bradford             Kindly share this story:               All rights reserved. This material, and other digital content on this website, may not be reproduced, published, broadcast, rewritten or redistributed in whole or in part without prior express written permission from PUNCH. Contact:  [email\\xa0protected]                                       join our telegram                                \\r \\tGet paid ₦45,000 every time you refer someone to us, no need to wait for monthly payments, we pay every FRIDAY. No fee to join or participate in the partner program.    Click here  to join.\\r                      Latest News        6 minutes ago    DSS identifies politicians behind interim govt plot        22 minutes ago    Ignore Ekpa’s sit-at-home order, IPOB tells Igbo in Lagos        29 minutes ago    UK to shelter asylum seekers in military bases        48 minutes ago    Kano gov-elect promises pro-people governance        49 minutes ago    Court orders Ondo to pay man shot by Amotekun N30m                        Top News            Assault: Police give Portable 72-hour ultimatum to report self   February 19, 2022            Nobody can chase you from Osun, Adeleke assures Aregbesola            I wont disappoint Nigerians, Tinubu promises            Afenifere never issued us query of allegation, says suspended spokesperson              Buhari swears in ex-IGP Arase as PSC chairman            Court cases won’t stop handover to Tinubu, Shettima – FG            Suspension: Ayu heads for court as PDP appoints acting chair              FG $22bn loan request rejected by Chinese bank – Reps            CBN bars banks seeking upgrade from expansion            Rampaging Ogun kidnappers kill two, abduct couple                        News Sports Metro Plus Politics Featured Latest News Business Business & Economy Opinion Entertainment Auto Famous Auto Punch Barka Da Sallah Barrier Breakers Breaking News Brexit Columns Corona Anti-corruption Biafra Boko Haram Case Review Court News Court Trivia Campus Champion Celebrity City round Interview Panorama Opinion Special Features Spice Technology Famous Parent Education Cartoon Columns Diaspora Advertise with us Subscribe             Subscribe                                            punchng.com © 1971- 2023 Punch Nigeria Limited   About us Advertise with us Contact                   '"
            ],
            "application/vnd.google.colaboratory.intrinsic+json": {
              "type": "string"
            }
          },
          "metadata": {},
          "execution_count": 29
        }
      ]
    },
    {
      "cell_type": "code",
      "source": [
        "# Create tokenizer\n",
        "tokenizer = nltk.tokenize.RegexpTokenizer('\\w+, 0-9, d+')"
      ],
      "metadata": {
        "id": "q5_uAM-UvlgY"
      },
      "execution_count": 30,
      "outputs": []
    },
    {
      "cell_type": "code",
      "source": [
        "# Converting the sentence into words WORD TOKENIZE\n",
        "\n",
        "from nltk.tokenize import word_tokenize"
      ],
      "metadata": {
        "id": "2Hh4V2YE5hdA"
      },
      "execution_count": 31,
      "outputs": []
    },
    {
      "cell_type": "code",
      "source": [
        " nltk.download('punkt')"
      ],
      "metadata": {
        "colab": {
          "base_uri": "https://localhost:8080/"
        },
        "id": "Qc49Rvkg7X8A",
        "outputId": "914dbd71-5789-4ff9-c221-f9eef254392b"
      },
      "execution_count": 32,
      "outputs": [
        {
          "output_type": "stream",
          "name": "stderr",
          "text": [
            "[nltk_data] Downloading package punkt to /root/nltk_data...\n",
            "[nltk_data]   Unzipping tokenizers/punkt.zip.\n"
          ]
        },
        {
          "output_type": "execute_result",
          "data": {
            "text/plain": [
              "True"
            ]
          },
          "metadata": {},
          "execution_count": 32
        }
      ]
    },
    {
      "cell_type": "code",
      "source": [
        "chatGPT_words = word_tokenize(clean_text)"
      ],
      "metadata": {
        "id": "isOhmvs_5hYn"
      },
      "execution_count": 33,
      "outputs": []
    },
    {
      "cell_type": "code",
      "source": [
        "chatGPT_words = [word for word in chatGPT_words if word.isalnum()]"
      ],
      "metadata": {
        "id": "kRNA9tcD5hVj"
      },
      "execution_count": 34,
      "outputs": []
    },
    {
      "cell_type": "code",
      "source": [
        "nltk.download('stopwords')"
      ],
      "metadata": {
        "colab": {
          "base_uri": "https://localhost:8080/"
        },
        "id": "qSrhuZ-J7kkp",
        "outputId": "ebe9b0e6-0e6c-4811-e455-a7af80b2b031"
      },
      "execution_count": 35,
      "outputs": [
        {
          "output_type": "stream",
          "name": "stderr",
          "text": [
            "[nltk_data] Downloading package stopwords to /root/nltk_data...\n",
            "[nltk_data]   Unzipping corpora/stopwords.zip.\n"
          ]
        },
        {
          "output_type": "execute_result",
          "data": {
            "text/plain": [
              "True"
            ]
          },
          "metadata": {},
          "execution_count": 35
        }
      ]
    },
    {
      "cell_type": "code",
      "source": [
        "from nltk.corpus import stopwords"
      ],
      "metadata": {
        "id": "2LveRqdK5vM3"
      },
      "execution_count": 36,
      "outputs": []
    },
    {
      "cell_type": "code",
      "source": [
        "stopwords = set(stopwords.words('english'))"
      ],
      "metadata": {
        "id": "cUHGImuB5vJv"
      },
      "execution_count": 37,
      "outputs": []
    },
    {
      "cell_type": "code",
      "source": [
        "chatGPT_words = [word for word in chatGPT_words if not str.lower(word) in stopwords]"
      ],
      "metadata": {
        "id": "JOZny4fG55jp"
      },
      "execution_count": 38,
      "outputs": []
    },
    {
      "cell_type": "code",
      "source": [
        "# Check the frequency and probabilities\n",
        "from nltk.probability import FreqDist"
      ],
      "metadata": {
        "id": "IMZ27oES55fN"
      },
      "execution_count": 39,
      "outputs": []
    },
    {
      "cell_type": "code",
      "source": [
        "word_frequency = FreqDist(chatGPT_words)"
      ],
      "metadata": {
        "id": "dk8xBQxR5vGg"
      },
      "execution_count": 40,
      "outputs": []
    },
    {
      "cell_type": "code",
      "source": [
        "# A plot of word frequency\n",
        "word_frequency.plot(50, cumulative=False)"
      ],
      "metadata": {
        "colab": {
          "base_uri": "https://localhost:8080/",
          "height": 542
        },
        "id": "JMRZtQ5I6Iv-",
        "outputId": "56bc91e0-dac9-4778-f958-c8d60f2a8449"
      },
      "execution_count": 41,
      "outputs": [
        {
          "output_type": "display_data",
          "data": {
            "text/plain": [
              "<Figure size 640x480 with 1 Axes>"
            ],
            "image/png": "[encoded data removed]"
          },
          "metadata": {}
        },
        {
          "output_type": "execute_result",
          "data": {
            "text/plain": [
              "<Axes: xlabel='Samples', ylabel='Counts'>"
            ]
          },
          "metadata": {},
          "execution_count": 41
        }
      ]
    },
    {
      "cell_type": "code",
      "source": [
        "# Make the above larger\n",
        "plt.figure(figsize=(20,15))\n",
        "word_frequency.plot(50, cumulative=False)"
      ],
      "metadata": {
        "colab": {
          "base_uri": "https://localhost:8080/",
          "height": 1000
        },
        "id": "fMGc1eH26Isf",
        "outputId": "9fa4ac98-ceeb-4edd-a91f-b97cbc594469"
      },
      "execution_count": 42,
      "outputs": [
        {
          "output_type": "display_data",
          "data": {
            "text/plain": [
              "<Figure size 2000x1500 with 1 Axes>"
            ],
            "image/png": "[encoded data removed]"
          },
          "metadata": {}
        },
        {
          "output_type": "execute_result",
          "data": {
            "text/plain": [
              "<Axes: xlabel='Samples', ylabel='Counts'>"
            ]
          },
          "metadata": {},
          "execution_count": 42
        }
      ]
    },
    {
      "cell_type": "code",
      "source": [
        "# Remove words that are not needed for our analysis.\n",
        "# We have 50 words at the moment, remove new stopwords\n",
        "\n",
        "chatGPT_words = [w for w in chatGPT_words if not w in ['may', '2023',]]\n"
      ],
      "metadata": {
        "id": "YehgP9gs6IpJ"
      },
      "execution_count": 43,
      "outputs": []
    },
    {
      "cell_type": "code",
      "source": [
        "chatGPT_words"
      ],
      "metadata": {
        "colab": {
          "base_uri": "https://localhost:8080/"
        },
        "id": "zGweX5_H6YDC",
        "outputId": "88d3276f-267c-453e-9c45-0c8caf6e5323"
      },
      "execution_count": 44,
      "outputs": [
        {
          "output_type": "execute_result",
          "data": {
            "text/plain": [
              "['ChatGPT',\n",
              " 'Good',\n",
              " 'Bad',\n",
              " 'Ethical',\n",
              " 'Legal',\n",
              " 'Implications',\n",
              " 'Search',\n",
              " 'Advertise',\n",
              " 'us',\n",
              " 'Wednesday',\n",
              " 'March',\n",
              " '29',\n",
              " 'Widely',\n",
              " 'Read',\n",
              " 'Newspaper',\n",
              " 'Videos',\n",
              " 'Home',\n",
              " 'Elections',\n",
              " 'News',\n",
              " 'Metro',\n",
              " 'Plus',\n",
              " 'Investigations',\n",
              " 'Videos',\n",
              " 'Sports',\n",
              " 'Politics',\n",
              " 'Business',\n",
              " 'HealthWise',\n",
              " 'Editorial',\n",
              " 'Columns',\n",
              " 'Podcast',\n",
              " 'PunchNG',\n",
              " 'Menu',\n",
              " 'Video',\n",
              " 'Spice',\n",
              " 'Special',\n",
              " 'Features',\n",
              " 'Education',\n",
              " 'Sex',\n",
              " 'Relationship',\n",
              " 'Interview',\n",
              " 'Columns',\n",
              " 'Opinion',\n",
              " 'Breaking',\n",
              " 'News',\n",
              " 'Ogun',\n",
              " 'workers',\n",
              " 'suspend',\n",
              " 'strike',\n",
              " 'four',\n",
              " 'days',\n",
              " 'Read',\n",
              " 'ChatGPT',\n",
              " 'Good',\n",
              " 'Bad',\n",
              " 'Ethical',\n",
              " 'Legal',\n",
              " 'Implications',\n",
              " '4th',\n",
              " 'March',\n",
              " 'Branded',\n",
              " 'Content',\n",
              " 'Kindly',\n",
              " 'share',\n",
              " 'story',\n",
              " 'emergence',\n",
              " 'ChatGPT',\n",
              " 'received',\n",
              " 'top',\n",
              " 'level',\n",
              " 'critical',\n",
              " 'reviews',\n",
              " 'AI',\n",
              " 'experts',\n",
              " 'academics',\n",
              " 'researchers',\n",
              " 'importantly',\n",
              " 'public',\n",
              " 'potential',\n",
              " 'seamless',\n",
              " 'uninterrupted',\n",
              " 'interaction',\n",
              " 'chatbot',\n",
              " 'impressive',\n",
              " 'even',\n",
              " 'long',\n",
              " 'time',\n",
              " 'coming',\n",
              " 'ChatGPT',\n",
              " 'received',\n",
              " 'enormous',\n",
              " 'rave',\n",
              " 'reviews',\n",
              " 'well',\n",
              " 'critical',\n",
              " 'slander',\n",
              " 'special',\n",
              " 'offering',\n",
              " 'well',\n",
              " 'impact',\n",
              " 'humans',\n",
              " 'society',\n",
              " 'ChatGPT',\n",
              " 'officially',\n",
              " 'known',\n",
              " 'Chat',\n",
              " 'Generative',\n",
              " 'Transformer',\n",
              " 'much',\n",
              " 'celebrated',\n",
              " 'chatbot',\n",
              " 'developed',\n",
              " 'OpenAI',\n",
              " 'launched',\n",
              " 'November',\n",
              " '2022',\n",
              " 'technology',\n",
              " 'developed',\n",
              " 'OpenAI',\n",
              " 'species',\n",
              " 'large',\n",
              " 'language',\n",
              " 'models',\n",
              " 'using',\n",
              " 'supervised',\n",
              " 'involves',\n",
              " 'introduction',\n",
              " 'known',\n",
              " 'input',\n",
              " 'expected',\n",
              " 'output',\n",
              " 'reinforcement',\n",
              " 'learning',\n",
              " 'techniques',\n",
              " 'Undoubtedly',\n",
              " 'ChatGPT',\n",
              " 'immensely',\n",
              " 'useful',\n",
              " 'tool',\n",
              " 'despite',\n",
              " 'critical',\n",
              " 'positions',\n",
              " 'held',\n",
              " 'certain',\n",
              " 'section',\n",
              " 'masses',\n",
              " 'AI',\n",
              " 'experts',\n",
              " 'Notably',\n",
              " 'opined',\n",
              " 'ChatGPT',\n",
              " 'handle',\n",
              " 'large',\n",
              " 'number',\n",
              " 'requests',\n",
              " 'gets',\n",
              " 'often',\n",
              " 'experience',\n",
              " 'downtime',\n",
              " 'happens',\n",
              " 'ChatGPT',\n",
              " 'informs',\n",
              " 'three',\n",
              " 'Stanza',\n",
              " 'poem',\n",
              " 'rhyme',\n",
              " 'scheme',\n",
              " 'login',\n",
              " 'page',\n",
              " 'check',\n",
              " 'back',\n",
              " 'short',\n",
              " 'witty',\n",
              " 'poem',\n",
              " 'makes',\n",
              " 'sure',\n",
              " 'reiterate',\n",
              " 'ChatGPT',\n",
              " 'future',\n",
              " 'chat',\n",
              " 'Without',\n",
              " 'referring',\n",
              " 'grammatical',\n",
              " 'issues',\n",
              " 'sentence',\n",
              " 'raises',\n",
              " 'statement',\n",
              " 'examined',\n",
              " 'depth',\n",
              " 'considering',\n",
              " 'ethical',\n",
              " 'legal',\n",
              " 'implications',\n",
              " 'ChatGPT',\n",
              " 'overall',\n",
              " 'features',\n",
              " 'ChatGPT',\n",
              " 'exceptional',\n",
              " 'features',\n",
              " 'attracted',\n",
              " 'one',\n",
              " 'million',\n",
              " 'users',\n",
              " 'launch',\n",
              " 'week',\n",
              " 'stiff',\n",
              " 'competition',\n",
              " 'Google',\n",
              " 'management',\n",
              " 'labelled',\n",
              " 'code',\n",
              " 'red',\n",
              " 'understandable',\n",
              " 'many',\n",
              " 'people',\n",
              " 'tagged',\n",
              " 'ChatGPT',\n",
              " 'first',\n",
              " 'real',\n",
              " 'challenge',\n",
              " 'Google',\n",
              " 'spot',\n",
              " 'web',\n",
              " 'search',\n",
              " 'years',\n",
              " 'interesting',\n",
              " 'note',\n",
              " 'ChatGPT',\n",
              " 'built',\n",
              " 'GPT',\n",
              " 'AI',\n",
              " 'model',\n",
              " 'known',\n",
              " 'transformer',\n",
              " 'best',\n",
              " 'explore',\n",
              " 'ChatGPT',\n",
              " 'involving',\n",
              " 'interaction',\n",
              " 'makeup',\n",
              " 'article',\n",
              " 'asked',\n",
              " 'chatbot',\n",
              " 'define',\n",
              " 'responded',\n",
              " 'CHATGPT',\n",
              " 'AI',\n",
              " 'language',\n",
              " 'model',\n",
              " 'developed',\n",
              " 'OpenAI',\n",
              " 'Generative',\n",
              " 'Transformer',\n",
              " 'GPT',\n",
              " 'model',\n",
              " 'uses',\n",
              " 'deep',\n",
              " 'learning',\n",
              " 'techniques',\n",
              " 'generate',\n",
              " 'text',\n",
              " 'based',\n",
              " 'input',\n",
              " 'provided',\n",
              " 'trained',\n",
              " 'massive',\n",
              " 'corpus',\n",
              " 'diverse',\n",
              " 'internet',\n",
              " 'text',\n",
              " 'perform',\n",
              " 'various',\n",
              " 'language',\n",
              " 'tasks',\n",
              " 'answering',\n",
              " 'questions',\n",
              " 'generating',\n",
              " 'creative',\n",
              " 'writing',\n",
              " 'translating',\n",
              " 'text',\n",
              " 'asked',\n",
              " 'highlight',\n",
              " 'key',\n",
              " 'features',\n",
              " 'listed',\n",
              " 'seven',\n",
              " 'key',\n",
              " 'features',\n",
              " 'relate',\n",
              " 'text',\n",
              " 'generation',\n",
              " 'Although',\n",
              " 'mimicking',\n",
              " 'human',\n",
              " 'conversation',\n",
              " 'fact',\n",
              " 'main',\n",
              " 'feature',\n",
              " 'capabilities',\n",
              " 'well',\n",
              " 'instance',\n",
              " 'stores',\n",
              " 'previous',\n",
              " 'conversations',\n",
              " 'recalls',\n",
              " 'necessary',\n",
              " 'also',\n",
              " 'write',\n",
              " 'debug',\n",
              " 'computer',\n",
              " 'programs',\n",
              " 'answer',\n",
              " 'test',\n",
              " 'questions',\n",
              " 'sometimes',\n",
              " 'level',\n",
              " 'higher',\n",
              " 'average',\n",
              " 'human',\n",
              " 'compose',\n",
              " 'song',\n",
              " 'lyrics',\n",
              " 'emulate',\n",
              " 'Linux',\n",
              " 'system',\n",
              " 'simulate',\n",
              " 'entire',\n",
              " 'chat',\n",
              " 'room',\n",
              " 'play',\n",
              " 'games',\n",
              " 'like',\n",
              " 'simulate',\n",
              " 'ATM',\n",
              " 'impressive',\n",
              " 'sound',\n",
              " 'features',\n",
              " 'possess',\n",
              " 'inherent',\n",
              " 'legal',\n",
              " 'ethical',\n",
              " 'issues',\n",
              " 'arising',\n",
              " 'training',\n",
              " 'data',\n",
              " 'used',\n",
              " 'achieve',\n",
              " 'features',\n",
              " 'users',\n",
              " 'utilise',\n",
              " 'LEGAL',\n",
              " 'IMPLICATIONS',\n",
              " 'calibre',\n",
              " 'volume',\n",
              " 'data',\n",
              " 'used',\n",
              " 'training',\n",
              " 'ChatGPT',\n",
              " 'primary',\n",
              " 'function',\n",
              " 'affect',\n",
              " 'performance',\n",
              " 'OpenAI',\n",
              " 'publicly',\n",
              " 'disclose',\n",
              " 'amount',\n",
              " 'origin',\n",
              " 'training',\n",
              " 'database',\n",
              " 'used',\n",
              " 'CHATGPT',\n",
              " 'case',\n",
              " 'major',\n",
              " 'AI',\n",
              " 'discoveries',\n",
              " 'nature',\n",
              " 'widely',\n",
              " 'juxtaposed',\n",
              " 'model',\n",
              " 'trained',\n",
              " 'datasets',\n",
              " 'includes',\n",
              " 'internet',\n",
              " 'content',\n",
              " 'including',\n",
              " 'webpages',\n",
              " 'books',\n",
              " 'essays',\n",
              " 'publicly',\n",
              " 'available',\n",
              " 'text',\n",
              " 'sources',\n",
              " 'Therefore',\n",
              " 'ChatGPT',\n",
              " 'tend',\n",
              " 'answer',\n",
              " 'requests',\n",
              " 'based',\n",
              " 'text',\n",
              " 'sources',\n",
              " 'without',\n",
              " 'credits',\n",
              " 'reference',\n",
              " 'sources',\n",
              " 'information',\n",
              " 'raises',\n",
              " 'huge',\n",
              " 'copyright',\n",
              " 'question',\n",
              " 'particularly',\n",
              " 'light',\n",
              " 'ChatGPT',\n",
              " 'widespread',\n",
              " 'usage',\n",
              " 'academic',\n",
              " 'content',\n",
              " 'creation',\n",
              " 'students',\n",
              " 'solving',\n",
              " 'academic',\n",
              " 'assessments',\n",
              " 'critical',\n",
              " 'question',\n",
              " 'owns',\n",
              " 'intellectual',\n",
              " 'property',\n",
              " 'GPT',\n",
              " 'content',\n",
              " 'ChatGPT',\n",
              " 'guilty',\n",
              " 'Copyright',\n",
              " 'infringement',\n",
              " 'sue',\n",
              " 'ChatGPT',\n",
              " 'users',\n",
              " 'culpable',\n",
              " 'case',\n",
              " 'contents',\n",
              " 'crafted',\n",
              " 'ChatGPT',\n",
              " 'copyright',\n",
              " 'laws',\n",
              " 'countries',\n",
              " 'vest',\n",
              " 'ownership',\n",
              " 'work',\n",
              " 'author',\n",
              " 'author',\n",
              " 'given',\n",
              " 'work',\n",
              " 'person',\n",
              " 'originated',\n",
              " 'made',\n",
              " 'arrangements',\n",
              " 'create',\n",
              " 'Originality',\n",
              " 'determined',\n",
              " 'based',\n",
              " 'amount',\n",
              " 'skill',\n",
              " 'labour',\n",
              " 'effort',\n",
              " 'expended',\n",
              " 'produce',\n",
              " 'work',\n",
              " 'Originality',\n",
              " 'mean',\n",
              " 'newness',\n",
              " 'simply',\n",
              " 'means',\n",
              " 'work',\n",
              " 'copied',\n",
              " 'another',\n",
              " 'source',\n",
              " 'provision',\n",
              " 'law',\n",
              " 'makes',\n",
              " 'difficult',\n",
              " 'copyright',\n",
              " 'infringement',\n",
              " 'arise',\n",
              " 'Generative',\n",
              " 'AI',\n",
              " 'systems',\n",
              " 'like',\n",
              " 'ChaptGPT',\n",
              " 'systems',\n",
              " 'create',\n",
              " 'original',\n",
              " 'works',\n",
              " 'difficult',\n",
              " 'attribute',\n",
              " 'specific',\n",
              " 'creator',\n",
              " 'source',\n",
              " 'asked',\n",
              " 'chatbot',\n",
              " 'vehemently',\n",
              " 'denies',\n",
              " 'merely',\n",
              " 'copying',\n",
              " 'pasting',\n",
              " 'content',\n",
              " 'websites',\n",
              " 'Nonetheless',\n",
              " 'copyright',\n",
              " 'subsists',\n",
              " 'OpenAI',\n",
              " 'text',\n",
              " 'generated',\n",
              " 'ChatGPT',\n",
              " 'Hence',\n",
              " 'owner',\n",
              " 'creator',\n",
              " 'author',\n",
              " 'ChatGPT',\n",
              " 'OpenAI',\n",
              " 'enforce',\n",
              " 'copyright',\n",
              " 'wherever',\n",
              " 'necessary',\n",
              " 'OpenAI',\n",
              " 'also',\n",
              " 'power',\n",
              " 'sue',\n",
              " 'sued',\n",
              " 'ChatGPT',\n",
              " 'chatbot',\n",
              " 'legal',\n",
              " 'person',\n",
              " 'Additionally',\n",
              " 'mode',\n",
              " 'usage',\n",
              " 'content',\n",
              " 'clearly',\n",
              " 'determines',\n",
              " 'whether',\n",
              " 'copyright',\n",
              " 'infringement',\n",
              " 'instance',\n",
              " 'use',\n",
              " 'content',\n",
              " 'generated',\n",
              " 'ChatGPT',\n",
              " 'commercial',\n",
              " 'purposes',\n",
              " 'make',\n",
              " 'money',\n",
              " 'gain',\n",
              " 'clarity',\n",
              " 'issue',\n",
              " 'asked',\n",
              " 'chatbot',\n",
              " 'content',\n",
              " 'generates',\n",
              " 'could',\n",
              " 'used',\n",
              " 'commercial',\n",
              " 'purposes',\n",
              " 'give',\n",
              " 'definite',\n",
              " 'answer',\n",
              " 'question',\n",
              " 'Still',\n",
              " 'stated',\n",
              " 'might',\n",
              " 'used',\n",
              " 'accordance',\n",
              " 'OpenAI',\n",
              " 'acceptable',\n",
              " 'use',\n",
              " 'policy',\n",
              " 'circumstances',\n",
              " 'constitute',\n",
              " 'copyright',\n",
              " 'infringement',\n",
              " 'others',\n",
              " 'shifts',\n",
              " 'responsibility',\n",
              " 'users',\n",
              " 'determine',\n",
              " 'use',\n",
              " 'cases',\n",
              " 'require',\n",
              " 'licence',\n",
              " 'OpenAI',\n",
              " 'platform',\n",
              " 'text',\n",
              " 'generated',\n",
              " 'Furthermore',\n",
              " 'ChatGPT',\n",
              " 'also',\n",
              " 'raises',\n",
              " 'cybersecurity',\n",
              " 'concerns',\n",
              " 'tool',\n",
              " 'used',\n",
              " 'compose',\n",
              " 'perfect',\n",
              " 'wonderfully',\n",
              " 'crafted',\n",
              " 'phony',\n",
              " 'emails',\n",
              " 'scammers',\n",
              " 'question',\n",
              " 'respect',\n",
              " 'allocation',\n",
              " 'liability',\n",
              " 'legal',\n",
              " 'harm',\n",
              " 'liability',\n",
              " 'arising',\n",
              " 'act',\n",
              " 'general',\n",
              " 'opinion',\n",
              " 'OpenAI',\n",
              " 'primarily',\n",
              " 'responsible',\n",
              " 'monitoring',\n",
              " 'chatbot',\n",
              " 'use',\n",
              " 'taking',\n",
              " 'reasonable',\n",
              " 'measures',\n",
              " 'prevent',\n",
              " 'fraudulent',\n",
              " 'use',\n",
              " 'bad',\n",
              " 'actors',\n",
              " 'bad',\n",
              " 'actors',\n",
              " 'always',\n",
              " 'first',\n",
              " 'line',\n",
              " 'bear',\n",
              " 'liability',\n",
              " 'Data',\n",
              " 'Privacy',\n",
              " 'next',\n",
              " 'class',\n",
              " 'legal',\n",
              " 'issues',\n",
              " 'arose',\n",
              " 'result',\n",
              " 'emergence',\n",
              " 'ChatGPT',\n",
              " 'relates',\n",
              " 'data',\n",
              " 'privacy',\n",
              " 'concerns',\n",
              " 'key',\n",
              " 'questions',\n",
              " 'personal',\n",
              " 'data',\n",
              " 'contained',\n",
              " 'database',\n",
              " 'used',\n",
              " 'train',\n",
              " 'ChatGPT',\n",
              " 'ChatGPT',\n",
              " 'deal',\n",
              " 'personal',\n",
              " 'data',\n",
              " 'prompted',\n",
              " 'chatbot',\n",
              " 'admitted',\n",
              " 'personal',\n",
              " 'data',\n",
              " 'contained',\n",
              " 'database',\n",
              " 'used',\n",
              " 'training',\n",
              " 'clarifies',\n",
              " 'collect',\n",
              " 'store',\n",
              " 'use',\n",
              " 'personal',\n",
              " 'data',\n",
              " 'OpenAI',\n",
              " 'train',\n",
              " 'process',\n",
              " 'access',\n",
              " 'personal',\n",
              " 'data',\n",
              " 'users',\n",
              " 'strongly',\n",
              " 'warned',\n",
              " 'provide',\n",
              " 'input',\n",
              " 'contains',\n",
              " 'personal',\n",
              " 'data',\n",
              " 'confidential',\n",
              " 'information',\n",
              " 'chatbot',\n",
              " 'OpenAI',\n",
              " 'compliant',\n",
              " 'many',\n",
              " 'jurisdictions',\n",
              " 'data',\n",
              " 'protection',\n",
              " 'regulations',\n",
              " 'data',\n",
              " 'privacy',\n",
              " 'policy',\n",
              " 'available',\n",
              " 'website',\n",
              " 'Ethical',\n",
              " 'issues',\n",
              " 'popularity',\n",
              " 'photos',\n",
              " '2022',\n",
              " 'quickly',\n",
              " 'followed',\n",
              " 'wave',\n",
              " 'criticism',\n",
              " 'artists',\n",
              " 'notably',\n",
              " 'illustrators',\n",
              " 'outraged',\n",
              " 'work',\n",
              " 'exploited',\n",
              " 'train',\n",
              " 'AI',\n",
              " 'without',\n",
              " 'permission',\n",
              " 'credit',\n",
              " 'remuneration',\n",
              " 'claimed',\n",
              " 'AI',\n",
              " 'learning',\n",
              " 'model',\n",
              " 'allows',\n",
              " 'Generative',\n",
              " 'AI',\n",
              " 'condense',\n",
              " 'entire',\n",
              " 'life',\n",
              " 'work',\n",
              " 'hours',\n",
              " 'respond',\n",
              " 'seconds',\n",
              " 'AI',\n",
              " 'require',\n",
              " 'level',\n",
              " 'experience',\n",
              " 'labour',\n",
              " 'money',\n",
              " 'artists',\n",
              " 'people',\n",
              " 'general',\n",
              " 'devoted',\n",
              " 'mastering',\n",
              " 'skills',\n",
              " 'sentiment',\n",
              " 'also',\n",
              " 'applies',\n",
              " 'ChatGPT',\n",
              " 'text',\n",
              " 'resources',\n",
              " 'used',\n",
              " 'train',\n",
              " 'contains',\n",
              " 'articles',\n",
              " 'took',\n",
              " 'days',\n",
              " 'write',\n",
              " 'perfect',\n",
              " 'fed',\n",
              " 'chatbot',\n",
              " 'provide',\n",
              " 'responses',\n",
              " 'matter',\n",
              " 'seconds',\n",
              " 'yet',\n",
              " 'monetised',\n",
              " 'available',\n",
              " 'free',\n",
              " 'matter',\n",
              " 'time',\n",
              " 'subscription',\n",
              " 'required',\n",
              " 'complete',\n",
              " 'access',\n",
              " 'like',\n",
              " 'generative',\n",
              " 'Ai',\n",
              " 'systems',\n",
              " 'Perhaps',\n",
              " 'future',\n",
              " 'method',\n",
              " 'compensating',\n",
              " 'acknowledging',\n",
              " 'sources',\n",
              " 'used',\n",
              " 'train',\n",
              " 'generative',\n",
              " 'AI',\n",
              " 'devised',\n",
              " 'similar',\n",
              " 'Instagram',\n",
              " 'TikTok',\n",
              " 'YouTube',\n",
              " 'music',\n",
              " 'work',\n",
              " 'protected',\n",
              " 'copyright',\n",
              " 'laws',\n",
              " 'constitute',\n",
              " 'infringement',\n",
              " 'Another',\n",
              " 'ethical',\n",
              " 'concern',\n",
              " 'raises',\n",
              " 'plagiarism',\n",
              " 'Educational',\n",
              " 'institutions',\n",
              " 'hugely',\n",
              " 'concerned',\n",
              " 'originality',\n",
              " 'work',\n",
              " 'submitted',\n",
              " 'students',\n",
              " 'Unfortunately',\n",
              " 'features',\n",
              " 'ChatGPT',\n",
              " 'compounded',\n",
              " 'issue',\n",
              " 'making',\n",
              " 'easier',\n",
              " 'students',\n",
              " 'plagiarise',\n",
              " 'almost',\n",
              " 'undetected',\n",
              " 'AIs',\n",
              " 'developed',\n",
              " 'sole',\n",
              " 'purpose',\n",
              " 'detecting',\n",
              " 'content',\n",
              " 'tools',\n",
              " '100',\n",
              " 'accurate',\n",
              " 'often',\n",
              " 'generate',\n",
              " 'false',\n",
              " 'positives',\n",
              " 'content',\n",
              " 'human',\n",
              " 'written',\n",
              " 'Conclusively',\n",
              " 'definitely',\n",
              " 'good',\n",
              " 'pleasant',\n",
              " 'opinions',\n",
              " 'ChatGPT',\n",
              " 'enormous',\n",
              " 'critical',\n",
              " 'positive',\n",
              " 'reviews',\n",
              " 'since',\n",
              " 'emergence',\n",
              " 'However',\n",
              " 'opinions',\n",
              " 'perspectives',\n",
              " 'utmostly',\n",
              " 'depended',\n",
              " 'entirely',\n",
              " 'user',\n",
              " 'choose',\n",
              " 'use',\n",
              " 'features',\n",
              " 'continuously',\n",
              " 'engagements',\n",
              " 'chatbot',\n",
              " 'definitely',\n",
              " 'several',\n",
              " 'legal',\n",
              " 'ethical',\n",
              " 'implications',\n",
              " 'philosophical',\n",
              " 'questions',\n",
              " 'arise',\n",
              " 'time',\n",
              " 'passes',\n",
              " 'matter',\n",
              " 'fact',\n",
              " 'early',\n",
              " 'identify',\n",
              " 'legal',\n",
              " 'ethical',\n",
              " 'implications',\n",
              " 'contained',\n",
              " 'AI',\n",
              " 'tool',\n",
              " 'issues',\n",
              " 'emerge',\n",
              " 'use',\n",
              " 'time',\n",
              " 'Yet',\n",
              " 'despite',\n",
              " 'negativities',\n",
              " 'must',\n",
              " 'admit',\n",
              " 'useful',\n",
              " 'handy',\n",
              " 'tool',\n",
              " 'Meanwhile',\n",
              " 'yet',\n",
              " 'peak',\n",
              " 'OpenAI',\n",
              " 'openly',\n",
              " 'exposes',\n",
              " 'limitations',\n",
              " 'admitting',\n",
              " 'chatbot',\n",
              " 'responses',\n",
              " 'always',\n",
              " 'ideal',\n",
              " 'order',\n",
              " 'grow',\n",
              " 'allows',\n",
              " 'users',\n",
              " 'upvote',\n",
              " 'downvote',\n",
              " 'responses',\n",
              " 'regenerate',\n",
              " 'responses',\n",
              " 'relevant',\n",
              " 'Moshood',\n",
              " 'Yahaya',\n",
              " 'Founder',\n",
              " 'Applied',\n",
              " 'AI',\n",
              " 'Society',\n",
              " 'Bradford',\n",
              " 'Kindly',\n",
              " 'share',\n",
              " 'story',\n",
              " 'rights',\n",
              " 'reserved',\n",
              " 'material',\n",
              " 'digital',\n",
              " 'content',\n",
              " 'website',\n",
              " 'reproduced',\n",
              " 'published',\n",
              " 'broadcast',\n",
              " 'rewritten',\n",
              " 'redistributed',\n",
              " 'whole',\n",
              " 'part',\n",
              " 'without',\n",
              " 'prior',\n",
              " 'express',\n",
              " 'written',\n",
              " 'permission',\n",
              " 'PUNCH',\n",
              " 'Contact',\n",
              " 'email',\n",
              " 'protected',\n",
              " 'join',\n",
              " 'telegram',\n",
              " 'Get',\n",
              " 'paid',\n",
              " 'every',\n",
              " 'time',\n",
              " 'refer',\n",
              " 'someone',\n",
              " 'us',\n",
              " 'need',\n",
              " 'wait',\n",
              " 'monthly',\n",
              " 'payments',\n",
              " 'pay',\n",
              " 'every',\n",
              " 'FRIDAY',\n",
              " 'fee',\n",
              " 'join',\n",
              " 'participate',\n",
              " 'partner',\n",
              " 'program',\n",
              " 'Click',\n",
              " 'join',\n",
              " 'Latest',\n",
              " 'News',\n",
              " '6',\n",
              " 'minutes',\n",
              " 'ago',\n",
              " 'DSS',\n",
              " 'identifies',\n",
              " 'politicians',\n",
              " 'behind',\n",
              " 'interim',\n",
              " 'govt',\n",
              " 'plot',\n",
              " '22',\n",
              " 'minutes',\n",
              " 'ago',\n",
              " 'Ignore',\n",
              " ...]"
            ]
          },
          "metadata": {},
          "execution_count": 44
        }
      ]
    },
    {
      "cell_type": "code",
      "source": [
        "from wordcloud import WordCloud"
      ],
      "metadata": {
        "id": "pEj2qCb16X_n"
      },
      "execution_count": 45,
      "outputs": []
    },
    {
      "cell_type": "code",
      "source": [
        "chatGPT_words_new = (\" \").join(chatGPT_words)"
      ],
      "metadata": {
        "id": "MGP_Ggcy6X8X"
      },
      "execution_count": 46,
      "outputs": []
    },
    {
      "cell_type": "code",
      "source": [
        "wordcloud = WordCloud(width=4000, height=2000).generate(chatGPT_words_new)\n",
        "plt.imshow(wordcloud)\n",
        "plt.axis(\"off\")\n",
        "plt.show()"
      ],
      "metadata": {
        "colab": {
          "base_uri": "https://localhost:8080/",
          "height": 285
        },
        "id": "cxDw5iRY6Il6",
        "outputId": "d04d4a0f-f1a3-46ff-f5c9-6fd873e19be4"
      },
      "execution_count": 47,
      "outputs": [
        {
          "output_type": "display_data",
          "data": {
            "text/plain": [
              "<Figure size 640x480 with 1 Axes>"
            ],
            "image/png": "[encoded data removed]"
          },
          "metadata": {}
        }
      ]
    }
  ]
}