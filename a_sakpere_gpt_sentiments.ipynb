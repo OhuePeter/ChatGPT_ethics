{
  "nbformat": 4,
  "nbformat_minor": 0,
  "metadata": {
    "colab": {
      "provenance": []
    },
    "kernelspec": {
      "name": "python3",
      "display_name": "Python 3"
    },
    "language_info": {
      "name": "python"
    }
  },
  "cells": [
    {
      "cell_type": "markdown",
      "source": [
        "\n",
        "\n",
        "```\n",
        "# This is formatted as code\n",
        "```\n",
        "\n",
        "**Sentiment Analysis on ethical chatGPT:** *Sakpere, Ohue, Sakpere, Yaya*\n"
      ],
      "metadata": {
        "id": "Mb44ocM0zbTO"
      }
    },
    {
      "cell_type": "code",
      "source": [
        "# Import the relevant modules (libraries/packages)\n",
        "\n",
        "import numpy as np\n",
        "import pandas as pd\n",
        "import re\n",
        "import seaborn as sns\n",
        "import matplotlib.pyplot as plt\n",
        "%matplotlib inline\n",
        "import string\n",
        "import nltk\n",
        "import requests\n",
        "from bs4 import BeautifulSoup\n",
        "import random\n",
        "from wordcloud import WordCloud\n",
        "import os\n",
        "import spacy\n",
        "\n",
        "import warnings\n",
        "\n",
        "warnings.filterwarnings(\"ignore\")\n",
        "\n"
      ],
      "metadata": {
        "id": "OlY2OudOg5gQ"
      },
      "execution_count": 44,
      "outputs": []
    },
    {
      "cell_type": "code",
      "source": [
        "# Installing the package pattern\n",
        "\n",
        "!pip install pattern"
      ],
      "metadata": {
        "colab": {
          "base_uri": "https://localhost:8080/"
        },
        "id": "qAiqornLouhj",
        "outputId": "35fac123-0383-4a3b-a135-0722d318f230"
      },
      "execution_count": 45,
      "outputs": [
        {
          "output_type": "stream",
          "name": "stdout",
          "text": [
            "Looking in indexes: https://pypi.org/simple, https://us-python.pkg.dev/colab-wheels/public/simple/\n",
            "Requirement already satisfied: pattern in /usr/local/lib/python3.9/dist-packages (3.6)\n",
            "Requirement already satisfied: python-docx in /usr/local/lib/python3.9/dist-packages (from pattern) (0.8.11)\n",
            "Requirement already satisfied: backports.csv in /usr/local/lib/python3.9/dist-packages (from pattern) (1.0.7)\n",
            "Requirement already satisfied: future in /usr/local/lib/python3.9/dist-packages (from pattern) (0.18.3)\n",
            "Requirement already satisfied: pdfminer.six in /usr/local/lib/python3.9/dist-packages (from pattern) (20221105)\n",
            "Requirement already satisfied: scipy in /usr/local/lib/python3.9/dist-packages (from pattern) (1.10.1)\n",
            "Requirement already satisfied: requests in /usr/local/lib/python3.9/dist-packages (from pattern) (2.27.1)\n",
            "Requirement already satisfied: cherrypy in /usr/local/lib/python3.9/dist-packages (from pattern) (18.8.0)\n",
            "Requirement already satisfied: nltk in /usr/local/lib/python3.9/dist-packages (from pattern) (3.8.1)\n",
            "Requirement already satisfied: feedparser in /usr/local/lib/python3.9/dist-packages (from pattern) (6.0.10)\n",
            "Requirement already satisfied: numpy in /usr/local/lib/python3.9/dist-packages (from pattern) (1.22.4)\n",
            "Requirement already satisfied: lxml in /usr/local/lib/python3.9/dist-packages (from pattern) (4.9.2)\n",
            "Requirement already satisfied: beautifulsoup4 in /usr/local/lib/python3.9/dist-packages (from pattern) (4.11.2)\n",
            "Requirement already satisfied: mysqlclient in /usr/local/lib/python3.9/dist-packages (from pattern) (2.1.1)\n",
            "Requirement already satisfied: soupsieve>1.2 in /usr/local/lib/python3.9/dist-packages (from beautifulsoup4->pattern) (2.4)\n",
            "Requirement already satisfied: portend>=2.1.1 in /usr/local/lib/python3.9/dist-packages (from cherrypy->pattern) (3.1.0)\n",
            "Requirement already satisfied: more-itertools in /usr/local/lib/python3.9/dist-packages (from cherrypy->pattern) (9.1.0)\n",
            "Requirement already satisfied: jaraco.collections in /usr/local/lib/python3.9/dist-packages (from cherrypy->pattern) (4.0.0)\n",
            "Requirement already satisfied: cheroot>=8.2.1 in /usr/local/lib/python3.9/dist-packages (from cherrypy->pattern) (9.0.0)\n",
            "Requirement already satisfied: zc.lockfile in /usr/local/lib/python3.9/dist-packages (from cherrypy->pattern) (3.0.post1)\n",
            "Requirement already satisfied: sgmllib3k in /usr/local/lib/python3.9/dist-packages (from feedparser->pattern) (1.0.0)\n",
            "Requirement already satisfied: joblib in /usr/local/lib/python3.9/dist-packages (from nltk->pattern) (1.1.1)\n",
            "Requirement already satisfied: tqdm in /usr/local/lib/python3.9/dist-packages (from nltk->pattern) (4.65.0)\n",
            "Requirement already satisfied: regex>=2021.8.3 in /usr/local/lib/python3.9/dist-packages (from nltk->pattern) (2022.10.31)\n",
            "Requirement already satisfied: click in /usr/local/lib/python3.9/dist-packages (from nltk->pattern) (8.1.3)\n",
            "Requirement already satisfied: charset-normalizer>=2.0.0 in /usr/local/lib/python3.9/dist-packages (from pdfminer.six->pattern) (2.0.12)\n",
            "Requirement already satisfied: cryptography>=36.0.0 in /usr/local/lib/python3.9/dist-packages (from pdfminer.six->pattern) (39.0.2)\n",
            "Requirement already satisfied: urllib3<1.27,>=1.21.1 in /usr/local/lib/python3.9/dist-packages (from requests->pattern) (1.26.15)\n",
            "Requirement already satisfied: idna<4,>=2.5 in /usr/local/lib/python3.9/dist-packages (from requests->pattern) (3.4)\n",
            "Requirement already satisfied: certifi>=2017.4.17 in /usr/local/lib/python3.9/dist-packages (from requests->pattern) (2022.12.7)\n",
            "Requirement already satisfied: jaraco.functools in /usr/local/lib/python3.9/dist-packages (from cheroot>=8.2.1->cherrypy->pattern) (3.6.0)\n",
            "Requirement already satisfied: six>=1.11.0 in /usr/local/lib/python3.9/dist-packages (from cheroot>=8.2.1->cherrypy->pattern) (1.16.0)\n",
            "Requirement already satisfied: cffi>=1.12 in /usr/local/lib/python3.9/dist-packages (from cryptography>=36.0.0->pdfminer.six->pattern) (1.15.1)\n",
            "Requirement already satisfied: tempora>=1.8 in /usr/local/lib/python3.9/dist-packages (from portend>=2.1.1->cherrypy->pattern) (5.2.1)\n",
            "Requirement already satisfied: jaraco.text in /usr/local/lib/python3.9/dist-packages (from jaraco.collections->cherrypy->pattern) (3.11.1)\n",
            "Requirement already satisfied: setuptools in /usr/local/lib/python3.9/dist-packages (from zc.lockfile->cherrypy->pattern) (67.6.0)\n",
            "Requirement already satisfied: pycparser in /usr/local/lib/python3.9/dist-packages (from cffi>=1.12->cryptography>=36.0.0->pdfminer.six->pattern) (2.21)\n",
            "Requirement already satisfied: pytz in /usr/local/lib/python3.9/dist-packages (from tempora>=1.8->portend>=2.1.1->cherrypy->pattern) (2022.7.1)\n",
            "Requirement already satisfied: jaraco.context>=4.1 in /usr/local/lib/python3.9/dist-packages (from jaraco.text->jaraco.collections->cherrypy->pattern) (4.3.0)\n",
            "Requirement already satisfied: inflect in /usr/local/lib/python3.9/dist-packages (from jaraco.text->jaraco.collections->cherrypy->pattern) (6.0.2)\n",
            "Requirement already satisfied: autocommand in /usr/local/lib/python3.9/dist-packages (from jaraco.text->jaraco.collections->cherrypy->pattern) (2.2.2)\n",
            "Requirement already satisfied: pydantic>=1.9.1 in /usr/local/lib/python3.9/dist-packages (from inflect->jaraco.text->jaraco.collections->cherrypy->pattern) (1.10.7)\n",
            "Requirement already satisfied: typing-extensions>=4.2.0 in /usr/local/lib/python3.9/dist-packages (from pydantic>=1.9.1->inflect->jaraco.text->jaraco.collections->cherrypy->pattern) (4.5.0)\n"
          ]
        }
      ]
    },
    {
      "cell_type": "code",
      "source": [
        "# Spacy makes it easy to build systems for information extraction.\n",
        "\n",
        "import spacy\n",
        "nlp = spacy.load('en_core_web_sm')\n",
        "from textblob import TextBlob\n",
        "\n",
        "from pattern.en import sentiment"
      ],
      "metadata": {
        "id": "xV28LbxaoY8a"
      },
      "execution_count": 46,
      "outputs": []
    },
    {
      "cell_type": "markdown",
      "source": [
        "**Loading Data from relevant sources**"
      ],
      "metadata": {
        "id": "EOcaNpKV-bCP"
      }
    },
    {
      "cell_type": "code",
      "source": [
        "# Use request package to make a GET request for the website.\n",
        "\n",
        "req =requests.get('https://www.forbes.com/sites/bruceweinstein/2023/02/24/why-smart-leaders-use-chatgpt-ethically-and-how-they-do-it/?sh=33910cf4361b')\n"
      ],
      "metadata": {
        "id": "xmbcCHUOoC34"
      },
      "execution_count": 47,
      "outputs": []
    },
    {
      "cell_type": "code",
      "execution_count": 48,
      "metadata": {
        "id": "HbDE3fy4vykZ"
      },
      "outputs": [],
      "source": [
        "# using the correct encoding of html page\n",
        "\n",
        "req.encoding = 'utf-8'"
      ]
    },
    {
      "cell_type": "code",
      "source": [
        "# Extract the html\n",
        "html = req.text"
      ],
      "metadata": {
        "id": "2Z7p2Tivqicu"
      },
      "execution_count": 49,
      "outputs": []
    },
    {
      "cell_type": "code",
      "source": [
        "# Printing the first 100 characters in html\n",
        "print(html[:1000])"
      ],
      "metadata": {
        "colab": {
          "base_uri": "https://localhost:8080/"
        },
        "id": "RONHYc3wqiZF",
        "outputId": "d9054fa4-75c5-41e8-a83d-375925974f9c"
      },
      "execution_count": 50,
      "outputs": [
        {
          "output_type": "stream",
          "name": "stdout",
          "text": [
            "<!DOCTYPE html><html lang=\"en\"><head><link rel=\"preload\" as=\"font\" href=\"https://i.forbesimg.com/assets/fonts/merriweather/merriweather-bold-webfont.woff2\" type=\"font/woff2\" crossorigin><link rel=\"preload\" as=\"font\" href=\"https://i.forbesimg.com/assets/fonts/work-sans/worksans-regular-webfont.woff2\" type=\"font/woff2\" crossorigin><script>window.ga=window.ga||function(){(ga.q=ga.q||[]).push(arguments)};ga.l=+new Date;</script><script type=\"text/javascript\" async src=\"https://www.google-analytics.com/analytics.js\"></script><script type=\"text/javascript\" async src=\"//imasdk.googleapis.com/js/sdkloader/ima3.js\"></script><script type=\"text/javascript\" async src=\"https://www.gstatic.com/readaloud/forbes/player/web/api/js/api.js\"></script><title>Why Smart Leaders Use ChatGPT Ethically And How They Do It</title><meta charset=\"utf-8\"><meta http-equiv=\"Content-Language\" content=\"en_US\"><link rel=\"shortcut icon\" href=\"https://i.forbesimg.com/48X48-F.png\"><meta name=\"referrer\" content=\"no-referrer-\n"
          ]
        }
      ]
    },
    {
      "cell_type": "code",
      "source": [
        "# Create a BeautifulSoup object\n",
        "soup = BeautifulSoup(html)"
      ],
      "metadata": {
        "id": "GdEoIJLEq4Q0"
      },
      "execution_count": 51,
      "outputs": []
    },
    {
      "cell_type": "code",
      "source": [
        "# Get the text out of the soup\n",
        "text = soup.get_text()"
      ],
      "metadata": {
        "id": "MMqKg0yprEDW"
      },
      "execution_count": 52,
      "outputs": []
    },
    {
      "cell_type": "markdown",
      "source": [
        "*The length of the selected text is 12721*"
      ],
      "metadata": {
        "id": "ULgYI4Gr_JIk"
      }
    },
    {
      "cell_type": "code",
      "source": [
        "len(text)"
      ],
      "metadata": {
        "colab": {
          "base_uri": "https://localhost:8080/"
        },
        "id": "awxWdXNArKTR",
        "outputId": "86576da6-b0aa-4827-90b2-5f9aa180bc33"
      },
      "execution_count": 53,
      "outputs": [
        {
          "output_type": "execute_result",
          "data": {
            "text/plain": [
              "12721"
            ]
          },
          "metadata": {},
          "execution_count": 53
        }
      ]
    },
    {
      "cell_type": "code",
      "source": [
        "# See some text\n",
        "\n",
        "print(text[:2000])"
      ],
      "metadata": {
        "colab": {
          "base_uri": "https://localhost:8080/"
        },
        "id": "a_I8hN49rXd9",
        "outputId": "0b4d60d2-91c8-4002-c533-86d7a67f59cf"
      },
      "execution_count": 54,
      "outputs": [
        {
          "output_type": "stream",
          "name": "stdout",
          "text": [
            "Why Smart Leaders Use ChatGPT Ethically And How They Do ItSubscribe Sign InBETAThis is a BETA experience. You may opt-out by clicking hereMore From ForbesMar 29, 2023,05:32am EDTWhy Working From Home Is Here To StayMar 28, 2023,04:39pm EDTTo Support Women In The Workforce, Stop Focusing On WomenMar 28, 2023,12:07pm EDTThree Lessons For Israeli Protesters From Turkey's Gezi ProtestsMar 28, 2023,11:44am EDTLeading Better Starts With Living BetterMar 28, 2023,11:00am EDTApartment Rents Coming DownMar 28, 2023,10:15am EDTFailure-Proofing Your Meetings: A Neuroscience-Based Strategy For SuccessMar 28, 2023,10:00am EDTKevin Martinez, VP Corporate Citizenship, ESPN: The Changemaker InterviewMar 28, 2023,10:00am EDTThis AI-First Digital Engineering Company Is Transforming The Future Of BusinessEdit StoryForbesLeadershipLeadership StrategyWhy Smart Leaders Use ChatGPT Ethically And How They Do ItBruce Weinstein, Ph.D.ContributorOpinions expressed by Forbes Contributors are their own.Customized ethics keynotes, training, and online courses for CE creditFollowingFeb 24, 2023,03:40pm EST|Press play to listen to this article!\n",
            "Got it!Share to FacebookShare to TwitterShare to LinkedinHere's how to use ChatGPT ethical and why you should bother.SOPA Images/LightRocket via Getty Images\n",
            "You can use ChatGPT, Bard, Bing and other AI-assisted chatbots to enhance your business in the right way if you apply the principles of ethical intelligence.\n",
            "\n",
            "\n",
            "Let’s look at several ethical questions raised by AI chatbots, including:\n",
            "\n",
            "\n",
            "\n",
            "\n",
            "How much of what the bots generate is true?\n",
            "Where does the material come from?\n",
            "How might we cause harm by using AI-generated text in our work?\n",
            "Are we at risk of damaging the trust others place in us when we use this material in our work?\n",
            "\n",
            "\n",
            "\n",
            "Why should you bother with ethics at all? I’ll explain why and then present five principles that enable you to use artificial intelligence with ethical intelligence.\n",
            "Ethics: So What?\n",
            "Who cares about ethics? You should, if you want t\n"
          ]
        }
      ]
    },
    {
      "cell_type": "code",
      "source": [
        "# Show the entire text\n",
        "\n",
        "text"
      ],
      "metadata": {
        "colab": {
          "base_uri": "https://localhost:8080/",
          "height": 145
        },
        "id": "5f4pLEBArXN5",
        "outputId": "fd60ba43-90ee-450a-b1aa-b06f3289ad1f"
      },
      "execution_count": 55,
      "outputs": [
        {
          "output_type": "execute_result",
          "data": {
            "text/plain": [
              "\"Why Smart Leaders Use ChatGPT Ethically And How They Do ItSubscribe Sign InBETAThis is a BETA experience. You may opt-out by\\xa0clicking hereMore From ForbesMar 29, 2023,05:32am EDTWhy Working From Home Is Here To StayMar 28, 2023,04:39pm EDTTo Support Women In The Workforce, Stop Focusing On WomenMar 28, 2023,12:07pm EDTThree Lessons For Israeli Protesters From Turkey's Gezi ProtestsMar 28, 2023,11:44am EDTLeading Better Starts With Living BetterMar 28, 2023,11:00am EDTApartment Rents Coming DownMar 28, 2023,10:15am EDTFailure-Proofing Your Meetings: A Neuroscience-Based Strategy For SuccessMar 28, 2023,10:00am EDTKevin Martinez, VP Corporate Citizenship, ESPN: The Changemaker InterviewMar 28, 2023,10:00am EDTThis AI-First Digital Engineering Company Is Transforming The Future Of BusinessEdit StoryForbesLeadershipLeadership StrategyWhy Smart Leaders Use ChatGPT Ethically And How They Do ItBruce Weinstein, Ph.D.ContributorOpinions expressed by Forbes Contributors are their own.Customized ethics keynotes, training, and online courses for CE creditFollowingFeb 24, 2023,03:40pm EST|Press play to listen to this article!\\nGot it!Share to FacebookShare to TwitterShare to LinkedinHere's how to use ChatGPT ethical and why you should bother.SOPA Images/LightRocket via Getty Images\\nYou can use ChatGPT, Bard, Bing and other AI-assisted chatbots to enhance your business in the right way if you apply the principles of ethical intelligence.\\n\\n\\nLet’s look at several ethical questions raised by AI chatbots, including:\\n\\n\\n\\n\\nHow much of what the bots generate is true?\\nWhere does the material come from?\\nHow might we cause harm by using AI-generated text in our work?\\nAre we at risk of damaging the trust others place in us when we use this material in our work?\\n\\n\\n\\nWhy should you bother with ethics at all? I’ll explain why and then present five principles that enable you to use artificial intelligence with ethical intelligence.\\nEthics: So What?\\nWho cares about ethics? You should, if you want to enjoy a successful career.getty\\nDoing the right thing takes time and effort. It can cost money. Some of your competitors don’t care about it. Won’t you lose clients to them if you factor ethics into how you use ChatGPT?\\nYou will not lose clients if you take ethics seriously. Just the opposite. The best leaders recognize that ethical conduct is good for its own sake. We owe some things to others, such as not harming them, and it’s wrong to overlook this.\\nMORE FROMFORBES ADVISORBest Travel Insurance CompaniesByAmy DaniseEditorBest Covid-19 Travel Insurance PlansByAmy DaniseEditor\\nThere’s another reason why the best leaders take ethics seriously. It is in their own financial and reputational interest to do so.\\nThe following five principles will help you use ChatGPT with ethical intelligence.\\n\\n1. Do No HarmSomeone isn't taking Do No Harm to heart!getty\\n\\n\\nThe most fundamental principle of ethical intelligence is Do No Harm. The least we can expect of one another is that we don’t make things worse for anyone.\\nThe good news about Do No Harm is that it is a principle of restraint. For example, if you’re driving on the highway and the car in front of you is going more slowly than you’d like, you apply the Do No Harm principle by not tailgating them and flashing your bright headlights.\\nConcerning ChatGPT, you avoid causing harm by not publishing any text that could hurt another person or damage your reputation. You do this through a corollary to the Do No Harm principle, Prevent Harm.\\nPrevent HarmA powerful way of applying the Prevent Harm principle in everyday life.getty\\nSometimes we must take action so that harm doesn’t occur. You do this in your personal life by ensuring your toddler is secured when you drive. Preventing harm to children in this manner is both a legal requirement and an ethical obligation in each state of the United States and in many countries.\\nWhen you use ChatGPT, you prevent harm to others and yourself through due diligence. For example, suppose you want ChatGPT to generate a short essay on three hot trends in your field. You plan to post this on your LinkedIn page and with a few groups you belong to. But simply cutting and pasting what the bot generates would be irresponsible. It might contain a direct quote from someone without attribution. It might contain false statements. Or both.\\nResearching what the chatbot gives you will help you prevent harm to others who might act upon false information. Research will also prevent harm to your reputation.\\n2. Make Things BetterHere is a literal application of Make Things Better. It's also a metaphor for how you treat your ... [+] clients.getty\\nDo No Harm and Prevent Harm are two crucial principles that smart leaders live by, but they’re not enough. Not causing harm is the least we can expect of one another.\\nThe second principle of ethical intelligence takes us further: Make Things Better.\\nYour job description and your company’s mission are primarily about improving things. If everything is fine the way it is, why would anyone need to hire you or buy your products?\\nApplied to your use of ChatGPT, Make Things Better means ensuring that you check what the bot generates for origin and accuracy. The saying, “garbage in, garbage out,” is worth taking to heart anytime you use artificial intelligence. AI is only as good as what goes into it.\\n3. Respect Others\\nThe third principle of ethical intelligence is Respect Others. Three components of this principle are:\\n\\n\\nTell the truth\\nProtect confidentiality\\nKeep promises\\n\\n\\nLet’s consider how each applies to using ChatGPT the right way.\\nTell the TruthThis is exactly the problem we're talking about here.getty\\nKeeping in mind “garbage in, garbage out,” the text that ChatGPT and other generative AI platforms yield are as truthful or fanciful as the information they have been given. Whether you’re using an AI bot to craft a press release, write a blog post or help you create chapters for a book, it behooves you to ensure that whatever you release into the world is true or likely to be true.\\nYes, this requires more time and effort than just publishing whatever you get from the bot, but it’s the right thing to do. You might even have to spend some money and hire an expert to review what the bot has generated.\\nIt’s easier to skip this step, but this is one example where easier isn’t better.\\nAnother way that truth-telling demonstrates your respect for others is by acknowledging the role that ChatGPT has played in the written material you present to the world. You wouldn’t quote someone in your article or speech without giving them credit. Likewise, being transparent about how you’ve used an AI chatbot is the right thing to do.\\nProtect ConfidentialityWant to know a secret? Well, it's not right for me to tell you.getty\\nWhether your field is healthcare, the law, business, education, or the government, you risk violating the duty to protect confidentiality if you don’t carefully review what ChatGPT generates before you put it out into the world.\\nI was once on an airplane awaiting takeoff and overheard a passenger calling in a prescription for a patient. He mentioned the patient’s full name and the name of the medication. This was a gross violation of the duty in medical ethics to protect patient confidentiality. The physician should have known better.\\nAs of this writing, however, not all generative AI can exercise the discretion that the physician on the plane lacked. Since the bot can’t, you must. And that requires yet again some time and effort in research. Do you see a recurring theme here in the proper use of ChatGPT and other chatbots?\\nKeep PromisesA handshake is one way we make promises, but every form is worth taking seriously.getty\\nConsider the contract you’ve signed with your employer or, if you’re an entrepreneur, directly with a client. Is your contract a legal document? Yes. Is it more than that? Yes. A business contract is a two-way promise. You agree to provide certain services or products, and your company or your client pays you in return. If you or the other party reneges, the deal is off.\\nSuppose you publish or distribute what ChatGPT generates without carefully reviewing, fact-checking and editing it. In doing so, you break the implicit or explicit promise you have made to be a trustworthy person. As Walter Landor said, “A brand is a promise.”\\nWhat exactly are you promising to the people who read your work? That it is substantially your own. Using an AI chatbot to write all or most of what you put forth is a breach of faith that your audience has in you.\\nWise leaders care deeply about being trustworthy. It is through consistent ethical conduct that they earn the trust of their employers and clients.\\n4. Be FairHow can we mitigate the effects of our biases? Read on.getty\\nThe fourth principle of ethical intelligence is Be Fair. To be fair is to give others their due. An obstacle to this is the bias that can be embedded in the information that ChatGPT and other chatbots use to answer the questions you pose.\\nAgain, it’s garbage in, garbage out. Suppose the written material you’re using has been shaped by biases related to age, race, gender, politics or sexual orientation. You risk perpetuating that bias by cutting and pasting whatever the bot gives you into an email, blog, social media post, or book.\\nA second way to use ChatGPT fairly is to ensure you’re not appropriating someone else’s intellectual property.\\nOnce again, the ethically intelligent use of ChatGPT and the like requires human intervention.\\n5. Care\\nCare is the fifth principle of ethical intelligence. Care is a feeling about the world and a way of acting in it. You evince care in your professional life by doing something as simple as sending a handwritten thank-you note to a new client or as time-consuming as taking on a project your colleague can’t finish because of illness.\\nConcerning ChatGPT, you demonstrate care by double- and triple-checking the research you’ve done to ensure that what you’re about to distribute is accurate, fair and not likely to harm others or the good reputation of your business.\\nSummary: the principles of ethical intelligencePrint this section of the article and post it near your computer.getty\\n1. Do No Harm\\nPrevent Harm\\n2. Make Things Better\\n3. Respect Others\\nTell the Truth\\nProtect Confidentiality\\nKeep Promises\\n4. Be Fair\\n5. Care\\nWhere do these principles come from?The principles of ethical intelligence are everywhere. Whether we act on them is another matter.getty\\nThe five principles of ethical intelligence—Do No Harm, Make Things Better, Respect Others, Be Fair and Care—are derived from Tom L. Beauchamp and James F. Childress’s pioneering work, Principles of Biomedical Ethics, 8th edition (New York: Oxford University Press, 2019). I’ve made two changes:\\n\\n\\nI simplified the language. For example, what Beauchamp and Childress refer to as the principle of nonmaleficence I call Do No Harm.\\nI broadened the scope of the principles to include not only healthcare and biomedical research but also business, the law, government, education and beyond.\\n\\n\\nAlso, our parents and teachers taught us these principles in one form or another. Corporate codes of conduct and values statements are based on and, in some cases, explicitly refer to these principles. The principles have a prominent place in the sacred texts of religions. (See, for example, Jeffrey Moses, Oneness: Great Principles Shared by All Religions, Revised and Expanded Edition (New York: Ballantine Books, 2002).\\nWhat would your life be like if most of the people connected to you in some way habitually disregarded the principles of ethical intelligence?\\nCall to ActionTime to take action!getty\\nYou’ve just spent several minutes reading this article. You can get a significant return on your investment by doing the following two things.\\n\\n\\nLook at ChatGPT and other AI-assisted chatbots as devices that can enhance your work, not substitute for it.\\nInstead of distributing to others whatever ChatGPT says in answer to a question you ask, do your due diligence. Find out if the statements ChatGPT has made are true. See who else has been writing or saying something along these lines and cite the most trustworthy of them. Avoid cutting and pasting what the bot says and calling it your own.\\n\\n\\nThe principles presented here will help you use artificial intelligence with ethical intelligence. They are a framework, not a formula, for doing the right thing. Your company, your clients and your reputation deserve nothing less than the best you can give them.\\nFollow me on\\xa0Twitter\\xa0or\\xa0LinkedIn.\\xa0Check out\\xa0my\\xa0website\\xa0or\\xa0some of my other work\\xa0here.\\xa0Bruce Weinstein, Ph.D.Editorial StandardsPrintReprints & Permissions\""
            ],
            "application/vnd.google.colaboratory.intrinsic+json": {
              "type": "string"
            }
          },
          "metadata": {},
          "execution_count": 55
        }
      ]
    },
    {
      "cell_type": "code",
      "source": [
        "clean_text= text.replace(\"\\n\", \" \")"
      ],
      "metadata": {
        "id": "wUjd4_fvrEAQ"
      },
      "execution_count": 56,
      "outputs": []
    },
    {
      "cell_type": "code",
      "source": [
        "clean_text= clean_text.replace(\"/\", \" \")       "
      ],
      "metadata": {
        "id": "jLwDPZJ6q4MI"
      },
      "execution_count": 57,
      "outputs": []
    },
    {
      "cell_type": "code",
      "source": [
        "clean_text= ''.join([c for c in clean_text if c != \"\\'\"])"
      ],
      "metadata": {
        "id": "9LfXWlx_q4I4"
      },
      "execution_count": 58,
      "outputs": []
    },
    {
      "cell_type": "code",
      "source": [
        "clean_text"
      ],
      "metadata": {
        "colab": {
          "base_uri": "https://localhost:8080/",
          "height": 145
        },
        "id": "2q9pmQbOsV82",
        "outputId": "0d462d1a-822e-4915-b61e-5b9b8356d80b"
      },
      "execution_count": 59,
      "outputs": [
        {
          "output_type": "execute_result",
          "data": {
            "text/plain": [
              "'Why Smart Leaders Use ChatGPT Ethically And How They Do ItSubscribe Sign InBETAThis is a BETA experience. You may opt-out by\\xa0clicking hereMore From ForbesMar 29, 2023,05:32am EDTWhy Working From Home Is Here To StayMar 28, 2023,04:39pm EDTTo Support Women In The Workforce, Stop Focusing On WomenMar 28, 2023,12:07pm EDTThree Lessons For Israeli Protesters From Turkeys Gezi ProtestsMar 28, 2023,11:44am EDTLeading Better Starts With Living BetterMar 28, 2023,11:00am EDTApartment Rents Coming DownMar 28, 2023,10:15am EDTFailure-Proofing Your Meetings: A Neuroscience-Based Strategy For SuccessMar 28, 2023,10:00am EDTKevin Martinez, VP Corporate Citizenship, ESPN: The Changemaker InterviewMar 28, 2023,10:00am EDTThis AI-First Digital Engineering Company Is Transforming The Future Of BusinessEdit StoryForbesLeadershipLeadership StrategyWhy Smart Leaders Use ChatGPT Ethically And How They Do ItBruce Weinstein, Ph.D.ContributorOpinions expressed by Forbes Contributors are their own.Customized ethics keynotes, training, and online courses for CE creditFollowingFeb 24, 2023,03:40pm EST|Press play to listen to this article! Got it!Share to FacebookShare to TwitterShare to LinkedinHeres how to use ChatGPT ethical and why you should bother.SOPA Images LightRocket via Getty Images You can use ChatGPT, Bard, Bing and other AI-assisted chatbots to enhance your business in the right way if you apply the principles of ethical intelligence.   Let’s look at several ethical questions raised by AI chatbots, including:     How much of what the bots generate is true? Where does the material come from? How might we cause harm by using AI-generated text in our work? Are we at risk of damaging the trust others place in us when we use this material in our work?    Why should you bother with ethics at all? I’ll explain why and then present five principles that enable you to use artificial intelligence with ethical intelligence. Ethics: So What? Who cares about ethics? You should, if you want to enjoy a successful career.getty Doing the right thing takes time and effort. It can cost money. Some of your competitors don’t care about it. Won’t you lose clients to them if you factor ethics into how you use ChatGPT? You will not lose clients if you take ethics seriously. Just the opposite. The best leaders recognize that ethical conduct is good for its own sake. We owe some things to others, such as not harming them, and it’s wrong to overlook this. MORE FROMFORBES ADVISORBest Travel Insurance CompaniesByAmy DaniseEditorBest Covid-19 Travel Insurance PlansByAmy DaniseEditor There’s another reason why the best leaders take ethics seriously. It is in their own financial and reputational interest to do so. The following five principles will help you use ChatGPT with ethical intelligence.  1. Do No HarmSomeone isnt taking Do No Harm to heart!getty   The most fundamental principle of ethical intelligence is Do No Harm. The least we can expect of one another is that we don’t make things worse for anyone. The good news about Do No Harm is that it is a principle of restraint. For example, if you’re driving on the highway and the car in front of you is going more slowly than you’d like, you apply the Do No Harm principle by not tailgating them and flashing your bright headlights. Concerning ChatGPT, you avoid causing harm by not publishing any text that could hurt another person or damage your reputation. You do this through a corollary to the Do No Harm principle, Prevent Harm. Prevent HarmA powerful way of applying the Prevent Harm principle in everyday life.getty Sometimes we must take action so that harm doesn’t occur. You do this in your personal life by ensuring your toddler is secured when you drive. Preventing harm to children in this manner is both a legal requirement and an ethical obligation in each state of the United States and in many countries. When you use ChatGPT, you prevent harm to others and yourself through due diligence. For example, suppose you want ChatGPT to generate a short essay on three hot trends in your field. You plan to post this on your LinkedIn page and with a few groups you belong to. But simply cutting and pasting what the bot generates would be irresponsible. It might contain a direct quote from someone without attribution. It might contain false statements. Or both. Researching what the chatbot gives you will help you prevent harm to others who might act upon false information. Research will also prevent harm to your reputation. 2. Make Things BetterHere is a literal application of Make Things Better. Its also a metaphor for how you treat your ... [+] clients.getty Do No Harm and Prevent Harm are two crucial principles that smart leaders live by, but they’re not enough. Not causing harm is the least we can expect of one another. The second principle of ethical intelligence takes us further: Make Things Better. Your job description and your company’s mission are primarily about improving things. If everything is fine the way it is, why would anyone need to hire you or buy your products? Applied to your use of ChatGPT, Make Things Better means ensuring that you check what the bot generates for origin and accuracy. The saying, “garbage in, garbage out,” is worth taking to heart anytime you use artificial intelligence. AI is only as good as what goes into it. 3. Respect Others The third principle of ethical intelligence is Respect Others. Three components of this principle are:   Tell the truth Protect confidentiality Keep promises   Let’s consider how each applies to using ChatGPT the right way. Tell the TruthThis is exactly the problem were talking about here.getty Keeping in mind “garbage in, garbage out,” the text that ChatGPT and other generative AI platforms yield are as truthful or fanciful as the information they have been given. Whether you’re using an AI bot to craft a press release, write a blog post or help you create chapters for a book, it behooves you to ensure that whatever you release into the world is true or likely to be true. Yes, this requires more time and effort than just publishing whatever you get from the bot, but it’s the right thing to do. You might even have to spend some money and hire an expert to review what the bot has generated. It’s easier to skip this step, but this is one example where easier isn’t better. Another way that truth-telling demonstrates your respect for others is by acknowledging the role that ChatGPT has played in the written material you present to the world. You wouldn’t quote someone in your article or speech without giving them credit. Likewise, being transparent about how you’ve used an AI chatbot is the right thing to do. Protect ConfidentialityWant to know a secret? Well, its not right for me to tell you.getty Whether your field is healthcare, the law, business, education, or the government, you risk violating the duty to protect confidentiality if you don’t carefully review what ChatGPT generates before you put it out into the world. I was once on an airplane awaiting takeoff and overheard a passenger calling in a prescription for a patient. He mentioned the patient’s full name and the name of the medication. This was a gross violation of the duty in medical ethics to protect patient confidentiality. The physician should have known better. As of this writing, however, not all generative AI can exercise the discretion that the physician on the plane lacked. Since the bot can’t, you must. And that requires yet again some time and effort in research. Do you see a recurring theme here in the proper use of ChatGPT and other chatbots? Keep PromisesA handshake is one way we make promises, but every form is worth taking seriously.getty Consider the contract you’ve signed with your employer or, if you’re an entrepreneur, directly with a client. Is your contract a legal document? Yes. Is it more than that? Yes. A business contract is a two-way promise. You agree to provide certain services or products, and your company or your client pays you in return. If you or the other party reneges, the deal is off. Suppose you publish or distribute what ChatGPT generates without carefully reviewing, fact-checking and editing it. In doing so, you break the implicit or explicit promise you have made to be a trustworthy person. As Walter Landor said, “A brand is a promise.” What exactly are you promising to the people who read your work? That it is substantially your own. Using an AI chatbot to write all or most of what you put forth is a breach of faith that your audience has in you. Wise leaders care deeply about being trustworthy. It is through consistent ethical conduct that they earn the trust of their employers and clients. 4. Be FairHow can we mitigate the effects of our biases? Read on.getty The fourth principle of ethical intelligence is Be Fair. To be fair is to give others their due. An obstacle to this is the bias that can be embedded in the information that ChatGPT and other chatbots use to answer the questions you pose. Again, it’s garbage in, garbage out. Suppose the written material you’re using has been shaped by biases related to age, race, gender, politics or sexual orientation. You risk perpetuating that bias by cutting and pasting whatever the bot gives you into an email, blog, social media post, or book. A second way to use ChatGPT fairly is to ensure you’re not appropriating someone else’s intellectual property. Once again, the ethically intelligent use of ChatGPT and the like requires human intervention. 5. Care Care is the fifth principle of ethical intelligence. Care is a feeling about the world and a way of acting in it. You evince care in your professional life by doing something as simple as sending a handwritten thank-you note to a new client or as time-consuming as taking on a project your colleague can’t finish because of illness. Concerning ChatGPT, you demonstrate care by double- and triple-checking the research you’ve done to ensure that what you’re about to distribute is accurate, fair and not likely to harm others or the good reputation of your business. Summary: the principles of ethical intelligencePrint this section of the article and post it near your computer.getty 1. Do No Harm Prevent Harm 2. Make Things Better 3. Respect Others Tell the Truth Protect Confidentiality Keep Promises 4. Be Fair 5. Care Where do these principles come from?The principles of ethical intelligence are everywhere. Whether we act on them is another matter.getty The five principles of ethical intelligence—Do No Harm, Make Things Better, Respect Others, Be Fair and Care—are derived from Tom L. Beauchamp and James F. Childress’s pioneering work, Principles of Biomedical Ethics, 8th edition (New York: Oxford University Press, 2019). I’ve made two changes:   I simplified the language. For example, what Beauchamp and Childress refer to as the principle of nonmaleficence I call Do No Harm. I broadened the scope of the principles to include not only healthcare and biomedical research but also business, the law, government, education and beyond.   Also, our parents and teachers taught us these principles in one form or another. Corporate codes of conduct and values statements are based on and, in some cases, explicitly refer to these principles. The principles have a prominent place in the sacred texts of religions. (See, for example, Jeffrey Moses, Oneness: Great Principles Shared by All Religions, Revised and Expanded Edition (New York: Ballantine Books, 2002). What would your life be like if most of the people connected to you in some way habitually disregarded the principles of ethical intelligence? Call to ActionTime to take action!getty You’ve just spent several minutes reading this article. You can get a significant return on your investment by doing the following two things.   Look at ChatGPT and other AI-assisted chatbots as devices that can enhance your work, not substitute for it. Instead of distributing to others whatever ChatGPT says in answer to a question you ask, do your due diligence. Find out if the statements ChatGPT has made are true. See who else has been writing or saying something along these lines and cite the most trustworthy of them. Avoid cutting and pasting what the bot says and calling it your own.   The principles presented here will help you use artificial intelligence with ethical intelligence. They are a framework, not a formula, for doing the right thing. Your company, your clients and your reputation deserve nothing less than the best you can give them. Follow me on\\xa0Twitter\\xa0or\\xa0LinkedIn.\\xa0Check out\\xa0my\\xa0website\\xa0or\\xa0some of my other work\\xa0here.\\xa0Bruce Weinstein, Ph.D.Editorial StandardsPrintReprints & Permissions'"
            ],
            "application/vnd.google.colaboratory.intrinsic+json": {
              "type": "string"
            }
          },
          "metadata": {},
          "execution_count": 59
        }
      ]
    },
    {
      "cell_type": "code",
      "source": [
        "# Get the sentences\n",
        "\n",
        "sentence=[]\n",
        "\n",
        "\n",
        "tokens = nlp(clean_text)\n",
        "for sent in tokens.sents:\n",
        "    sentence.append((sent.text.strip()))"
      ],
      "metadata": {
        "id": "-oQ2ocPQsV-2"
      },
      "execution_count": 60,
      "outputs": []
    },
    {
      "cell_type": "code",
      "source": [
        "sentence"
      ],
      "metadata": {
        "colab": {
          "base_uri": "https://localhost:8080/"
        },
        "id": "iMIoIgD9sWCp",
        "outputId": "a487fe21-3341-4676-b1db-9faae60a304f"
      },
      "execution_count": 61,
      "outputs": [
        {
          "output_type": "execute_result",
          "data": {
            "text/plain": [
              "['Why Smart Leaders Use ChatGPT',\n",
              " 'Ethically',\n",
              " 'And How They Do ItSubscribe Sign InBETAThis is a BETA experience.',\n",
              " 'You may opt-out by\\xa0clicking hereMore From ForbesMar 29, 2023,05:32am',\n",
              " 'EDTWhy Working From Home Is Here To StayMar 28, 2023,04:39pm EDTTo Support Women In The Workforce, Stop Focusing On WomenMar 28, 2023,12:07pm EDTThree Lessons For Israeli Protesters From Turkeys Gezi ProtestsMar 28, 2023,11:44am EDTLeading Better Starts With Living BetterMar 28, 2023,11:00am EDTApartment Rents Coming DownMar 28,',\n",
              " '2023,10:15am EDTFailure-Proofing Your Meetings: A Neuroscience-Based Strategy For SuccessMar 28, 2023,10:00am EDTKevin Martinez, VP Corporate Citizenship, ESPN:',\n",
              " 'The Changemaker InterviewMar 28, 2023,10:00am EDTThis AI-First Digital Engineering Company Is Transforming The Future Of BusinessEdit StoryForbesLeadershipLeadership',\n",
              " 'StrategyWhy Smart Leaders Use ChatGPT',\n",
              " 'Ethically',\n",
              " 'And How They Do ItBruce Weinstein, Ph.D.ContributorOpinions expressed by Forbes Contributors are their own.',\n",
              " 'Customized ethics keynotes, training, and online courses for CE creditFollowingFeb 24, 2023,03:40pm EST|Press play to listen to this article!',\n",
              " 'Got it!Share to FacebookShare to TwitterShare to LinkedinHeres how to use ChatGPT ethical and why you should bother.',\n",
              " 'SOPA Images LightRocket via Getty Images You can use ChatGPT, Bard, Bing and other AI-assisted chatbots to enhance your business in the right way if you apply the principles of ethical intelligence.',\n",
              " 'Let’s look at several ethical questions raised by AI chatbots, including:     How much of what the bots generate is true?',\n",
              " 'Where does the material come from?',\n",
              " 'How might we cause harm by using AI-generated text in our work?',\n",
              " 'Are we at risk of damaging the trust others place in us when we use this material in our work?',\n",
              " 'Why should you bother with ethics at all?',\n",
              " 'I’ll explain why and then present five principles that enable you to use artificial intelligence with ethical intelligence.',\n",
              " 'Ethics:',\n",
              " 'So What?',\n",
              " 'Who cares about ethics?',\n",
              " 'You should, if you want to enjoy a successful career.getty',\n",
              " 'Doing the right thing takes time and effort.',\n",
              " 'It can cost money.',\n",
              " 'Some of your competitors don’t care about it.',\n",
              " 'Won’t you lose clients to them if you factor ethics into how you use ChatGPT?',\n",
              " 'You will not lose clients if you take ethics seriously.',\n",
              " 'Just the opposite.',\n",
              " 'The best leaders recognize that ethical conduct is good for its own sake.',\n",
              " 'We owe some things to others, such as not harming them, and it’s wrong to overlook this.',\n",
              " 'MORE FROMFORBES ADVISORBest Travel Insurance CompaniesByAmy DaniseEditorBest Covid-19 Travel Insurance PlansByAmy',\n",
              " 'DaniseEditor There’s another reason why the best leaders take ethics seriously.',\n",
              " 'It is in their own financial and reputational interest to do so.',\n",
              " 'The following five principles will help you use ChatGPT with ethical intelligence.',\n",
              " '1.',\n",
              " 'Do No HarmSomeone isnt taking Do No Harm to heart!getty   The most fundamental principle of ethical intelligence is Do No Harm.',\n",
              " 'The least we can expect of one another is that we don’t make things worse for anyone.',\n",
              " 'The good news about Do No Harm is that it is a principle of restraint.',\n",
              " 'For example, if you’re driving on the highway and the car in front of you is going more slowly than you’d like, you apply the Do No Harm principle by not tailgating them and flashing your bright headlights.',\n",
              " 'Concerning ChatGPT, you avoid causing harm by not publishing any text that could hurt another person or damage your reputation.',\n",
              " 'You do this through a corollary to the Do No Harm principle, Prevent Harm.',\n",
              " 'Prevent HarmA powerful way of applying the Prevent Harm principle in everyday life.getty',\n",
              " 'Sometimes we must take action so that harm doesn’t occur.',\n",
              " 'You do this in your personal life by ensuring your toddler is secured when you drive.',\n",
              " 'Preventing harm to children in this manner is both a legal requirement and an ethical obligation in each state of the United States and in many countries.',\n",
              " 'When you use ChatGPT, you prevent harm to others and yourself through due diligence.',\n",
              " 'For example, suppose you want ChatGPT to generate a short essay on three hot trends in your field.',\n",
              " 'You plan to post this on your LinkedIn page and with a few groups you belong to.',\n",
              " 'But simply cutting and pasting what the bot generates would be irresponsible.',\n",
              " 'It might contain a direct quote from someone without attribution.',\n",
              " 'It might contain false statements.',\n",
              " 'Or both.',\n",
              " 'Researching what the chatbot gives you will help you prevent harm to others who might act upon false information.',\n",
              " 'Research will also prevent harm to your reputation.',\n",
              " '2. Make Things BetterHere is a literal application of Make Things Better.',\n",
              " 'Its also a metaphor for how you treat your ...',\n",
              " '[+] clients.getty Do No Harm and Prevent Harm are two crucial principles that smart leaders live by, but they’re not enough.',\n",
              " 'Not causing harm is the least we can expect of one another.',\n",
              " 'The second principle of ethical intelligence takes us further: Make Things Better.',\n",
              " 'Your job description and your company’s mission are primarily about improving things.',\n",
              " 'If everything is fine the way it is, why would anyone need to hire you or buy your products?',\n",
              " 'Applied to your use of ChatGPT, Make Things Better means ensuring that you check what the bot generates for origin and accuracy.',\n",
              " 'The saying, “garbage in, garbage out,” is worth taking to heart anytime you use artificial intelligence.',\n",
              " 'AI is only as good as what goes into it.',\n",
              " '3. Respect Others The third principle of ethical intelligence is Respect Others.',\n",
              " 'Three components of this principle are:   Tell the truth Protect confidentiality Keep promises   Let’s consider how each applies to using ChatGPT the right way.',\n",
              " 'Tell the TruthThis is exactly the problem were talking about here.getty Keeping in mind “garbage in, garbage out,” the text that ChatGPT and other generative AI platforms yield are as truthful or fanciful as the information they have been given.',\n",
              " 'Whether you’re using an AI bot to craft a press release, write a blog post or help you create chapters for a book, it behooves you to ensure that whatever you release into the world is true or likely to be true.',\n",
              " 'Yes, this requires more time and effort than just publishing whatever you get from the bot, but it’s the right thing to do.',\n",
              " 'You might even have to spend some money and hire an expert to review what the bot has generated.',\n",
              " 'It’s easier to skip this step, but this is one example where easier isn’t better.',\n",
              " 'Another way that truth-telling demonstrates your respect for others is by acknowledging the role that ChatGPT has played in the written material you present to the world.',\n",
              " 'You wouldn’t quote someone in your article or speech without giving them credit.',\n",
              " 'Likewise, being transparent about how you’ve used an AI chatbot is the right thing to do.',\n",
              " 'Protect ConfidentialityWant to know a secret?',\n",
              " 'Well, its not right for me to tell you.getty',\n",
              " 'Whether your field is healthcare, the law, business, education, or the government, you risk violating the duty to protect confidentiality if you don’t carefully review what ChatGPT generates before you put it out into the world.',\n",
              " 'I was once on an airplane awaiting takeoff and overheard a passenger calling in a prescription for a patient.',\n",
              " 'He mentioned the patient’s full name and the name of the medication.',\n",
              " 'This was a gross violation of the duty in medical ethics to protect patient confidentiality.',\n",
              " 'The physician should have known better.',\n",
              " 'As of this writing, however, not all generative AI can exercise the discretion that the physician on the plane lacked.',\n",
              " 'Since the bot can’t, you must.',\n",
              " 'And that requires yet again some time and effort in research.',\n",
              " 'Do you see a recurring theme here in the proper use of ChatGPT and other chatbots?',\n",
              " 'Keep PromisesA handshake is one way we make promises, but every form is worth taking seriously.getty Consider the contract you’ve signed with your employer or, if you’re an entrepreneur, directly with a client.',\n",
              " 'Is your contract a legal document?',\n",
              " 'Yes.',\n",
              " 'Is it more than that?',\n",
              " 'Yes.',\n",
              " 'A business contract is a two-way promise.',\n",
              " 'You agree to provide certain services or products, and your company or your client pays you in return.',\n",
              " 'If you or the other party reneges, the deal is off.',\n",
              " 'Suppose you publish or distribute what ChatGPT generates without carefully reviewing, fact-checking and editing it.',\n",
              " 'In doing so, you break the implicit or explicit promise you have made to be a trustworthy person.',\n",
              " 'As Walter Landor said, “A brand is a promise.”',\n",
              " 'What exactly are you promising to the people who read your work?',\n",
              " 'That it is substantially your own.',\n",
              " 'Using an AI chatbot to write all or most of what you put forth is a breach of faith that your audience has in you.',\n",
              " 'Wise leaders care deeply about being trustworthy.',\n",
              " 'It is through consistent ethical conduct that they earn the trust of their employers and clients.',\n",
              " '4. Be FairHow can we mitigate the effects of our biases?',\n",
              " 'Read on.getty',\n",
              " 'The fourth principle of ethical intelligence is Be Fair.',\n",
              " 'To be fair is to give others their due.',\n",
              " 'An obstacle to this is the bias that can be embedded in the information that ChatGPT and other chatbots use to answer the questions you pose.',\n",
              " 'Again, it’s garbage in, garbage out.',\n",
              " 'Suppose the written material you’re using has been shaped by biases related to age, race, gender, politics or sexual orientation.',\n",
              " 'You risk perpetuating that bias by cutting and pasting whatever the bot gives you into an email, blog, social media post, or book.',\n",
              " 'A second way to use ChatGPT fairly is to ensure you’re not appropriating someone else’s intellectual property.',\n",
              " 'Once again, the ethically intelligent use of ChatGPT and the like requires human intervention.',\n",
              " '5. Care Care is the fifth principle of ethical intelligence.',\n",
              " 'Care is a feeling about the world and a way of acting in it.',\n",
              " 'You evince care in your professional life by doing something as simple as sending a handwritten thank-you note to a new client or as time-consuming as taking on a project your colleague can’t finish because of illness.',\n",
              " 'Concerning ChatGPT, you demonstrate care by double- and triple-checking the research you’ve done to ensure that what you’re about to distribute is accurate, fair and not likely to harm others or the good reputation of your business.',\n",
              " 'Summary: the principles of ethical intelligencePrint this section of the article and post it near your computer.getty 1.',\n",
              " 'Do No Harm Prevent Harm 2.',\n",
              " 'Make Things Better 3.',\n",
              " 'Respect Others Tell the Truth Protect Confidentiality Keep Promises 4.',\n",
              " 'Be Fair 5.',\n",
              " 'Care Where do these principles come from?The principles of ethical intelligence are everywhere.',\n",
              " 'Whether we act on them is another matter.getty',\n",
              " 'The five principles of ethical intelligence—Do No Harm, Make Things Better, Respect Others, Be Fair and Care—are derived from Tom L. Beauchamp and James F. Childress’s pioneering work, Principles of Biomedical Ethics, 8th edition (New York: Oxford University Press, 2019).',\n",
              " 'I’ve made two changes:   I simplified the language.',\n",
              " 'For example, what Beauchamp and Childress refer to as the principle of nonmaleficence I call Do No Harm.',\n",
              " 'I broadened the scope of the principles to include not only healthcare and biomedical research but also business, the law, government, education and beyond.',\n",
              " 'Also, our parents and teachers taught us these principles in one form or another.',\n",
              " 'Corporate codes of conduct and values statements are based on and, in some cases, explicitly refer to these principles.',\n",
              " 'The principles have a prominent place in the sacred texts of religions.',\n",
              " '(See, for example, Jeffrey Moses, Oneness: Great Principles Shared by All Religions, Revised and Expanded Edition (New York: Ballantine Books, 2002).',\n",
              " 'What would your life be like if most of the people connected to you in some way habitually disregarded the principles of ethical intelligence?',\n",
              " 'Call to ActionTime to take action!getty You’ve just spent several minutes reading this article.',\n",
              " 'You can get a significant return on your investment by doing the following two things.',\n",
              " 'Look at ChatGPT and other AI-assisted chatbots as devices that can enhance your work, not substitute for it.',\n",
              " 'Instead of distributing to others whatever ChatGPT says in answer to a question you ask, do your due diligence.',\n",
              " 'Find out if the statements ChatGPT has made are true.',\n",
              " 'See who else has been writing or saying something along these lines and cite the most trustworthy of them.',\n",
              " 'Avoid cutting and pasting what the bot says and calling it your own.',\n",
              " 'The principles presented here will help you use artificial intelligence with ethical intelligence.',\n",
              " 'They are a framework, not a formula, for doing the right thing.',\n",
              " 'Your company, your clients and your reputation deserve nothing less than the best you can give them.',\n",
              " 'Follow me on\\xa0Twitter\\xa0or\\xa0LinkedIn.\\xa0Check out\\xa0my\\xa0website\\xa0or\\xa0some of my other work\\xa0here.',\n",
              " 'Bruce Weinstein, Ph.D.Editorial StandardsPrintReprints & Permissions']"
            ]
          },
          "metadata": {},
          "execution_count": 61
        }
      ]
    },
    {
      "cell_type": "markdown",
      "source": [
        "**There are 144 sentences**"
      ],
      "metadata": {
        "id": "i4z8Zlkw_zkg"
      }
    },
    {
      "cell_type": "code",
      "source": [
        "print(len(sentence))"
      ],
      "metadata": {
        "colab": {
          "base_uri": "https://localhost:8080/"
        },
        "id": "UuYWfO4ospkm",
        "outputId": "40152ddc-ab58-43ab-bcec-b483b0dcf72c"
      },
      "execution_count": 62,
      "outputs": [
        {
          "output_type": "stream",
          "name": "stdout",
          "text": [
            "144\n"
          ]
        }
      ]
    },
    {
      "cell_type": "code",
      "source": [
        "# Get the first sentence\n",
        "\n",
        "print(sentence[0])"
      ],
      "metadata": {
        "colab": {
          "base_uri": "https://localhost:8080/"
        },
        "id": "CV6gCMK3sWFV",
        "outputId": "d074fb7d-b695-4504-9a8b-4a922f5d899d"
      },
      "execution_count": 63,
      "outputs": [
        {
          "output_type": "stream",
          "name": "stdout",
          "text": [
            "Why Smart Leaders Use ChatGPT\n"
          ]
        }
      ]
    },
    {
      "cell_type": "code",
      "source": [
        "# Using TextBlob\n",
        "textblob_sentiment=[]\n",
        "\n",
        "for s in sentence:\n",
        "    txt= TextBlob(s)\n",
        "    a= txt.sentiment.polarity\n",
        "    b= txt.sentiment.subjectivity\n",
        "    \n",
        "    textblob_sentiment.append([s,a,b])\n"
      ],
      "metadata": {
        "id": "P33gv3d3tBxV"
      },
      "execution_count": 64,
      "outputs": []
    },
    {
      "cell_type": "code",
      "source": [
        "df_textblob = pd.DataFrame(textblob_sentiment, columns =['Sentence', 'Polarity', 'Subjectivity']) "
      ],
      "metadata": {
        "id": "hBqz570mtBtu"
      },
      "execution_count": 65,
      "outputs": []
    },
    {
      "cell_type": "code",
      "source": [
        "df_textblob.info()"
      ],
      "metadata": {
        "colab": {
          "base_uri": "https://localhost:8080/"
        },
        "id": "YHNywXqjsWJS",
        "outputId": "86030ef0-270e-4666-868a-9bcbde9d1c67"
      },
      "execution_count": 66,
      "outputs": [
        {
          "output_type": "stream",
          "name": "stdout",
          "text": [
            "<class 'pandas.core.frame.DataFrame'>\n",
            "RangeIndex: 144 entries, 0 to 143\n",
            "Data columns (total 3 columns):\n",
            " #   Column        Non-Null Count  Dtype  \n",
            "---  ------        --------------  -----  \n",
            " 0   Sentence      144 non-null    object \n",
            " 1   Polarity      144 non-null    float64\n",
            " 2   Subjectivity  144 non-null    float64\n",
            "dtypes: float64(2), object(1)\n",
            "memory usage: 3.5+ KB\n"
          ]
        }
      ]
    },
    {
      "cell_type": "markdown",
      "source": [
        "**Polarity is between -1 (extreme negative), 0 (neutral) and 1 (extreme positive**"
      ],
      "metadata": {
        "id": "plrxh2uyAR0L"
      }
    },
    {
      "cell_type": "markdown",
      "source": [
        "**Subjectivity is from 0 to 1, where 1 is extremely subjective**"
      ],
      "metadata": {
        "id": "2Sm57Uv7Akwl"
      }
    },
    {
      "cell_type": "code",
      "source": [
        "df_textblob.head(20)"
      ],
      "metadata": {
        "colab": {
          "base_uri": "https://localhost:8080/",
          "height": 676
        },
        "id": "tjtHNJljsWNJ",
        "outputId": "5314ec09-8f3a-47bb-cc76-78f82cbe5699"
      },
      "execution_count": 68,
      "outputs": [
        {
          "output_type": "execute_result",
          "data": {
            "text/plain": [
              "                                             Sentence  Polarity  Subjectivity\n",
              "0                       Why Smart Leaders Use ChatGPT  0.214286      0.642857\n",
              "1                                           Ethically  0.200000      0.600000\n",
              "2   And How They Do ItSubscribe Sign InBETAThis is...  0.000000      0.000000\n",
              "3   You may opt-out by clicking hereMore From Forb...  0.000000      0.000000\n",
              "4   EDTWhy Working From Home Is Here To StayMar 28...  0.500000      0.500000\n",
              "5   2023,10:15am EDTFailure-Proofing Your Meetings...  0.000000      0.000000\n",
              "6   The Changemaker InterviewMar 28, 2023,10:00am ...  0.000000      0.062500\n",
              "7               StrategyWhy Smart Leaders Use ChatGPT  0.214286      0.642857\n",
              "8                                           Ethically  0.200000      0.600000\n",
              "9   And How They Do ItBruce Weinstein, Ph.D.Contri...  0.600000      1.000000\n",
              "10  Customized ethics keynotes, training, and onli...  0.000000      0.000000\n",
              "11  Got it!Share to FacebookShare to TwitterShare ...  0.200000      0.600000\n",
              "12  SOPA Images LightRocket via Getty Images You c...  0.120238      0.503571\n",
              "13  Let’s look at several ethical questions raised...  0.187500      0.362500\n",
              "14                 Where does the material come from?  0.000000      0.000000\n",
              "15  How might we cause harm by using AI-generated ...  0.000000      0.000000\n",
              "16  Are we at risk of damaging the trust others pl...  0.000000      0.000000\n",
              "17          Why should you bother with ethics at all?  0.000000      0.000000\n",
              "18  I’ll explain why and then present five princip... -0.133333      0.533333\n",
              "19                                            Ethics:  0.000000      0.000000"
            ],
            "text/html": [
              "\n",
              "  <div id=\"df-42a56c8d-08dd-46f0-aafb-42b6215df4d0\">\n",
              "    <div class=\"colab-df-container\">\n",
              "      <div>\n",
              "<style scoped>\n",
              "    .dataframe tbody tr th:only-of-type {\n",
              "        vertical-align: middle;\n",
              "    }\n",
              "\n",
              "    .dataframe tbody tr th {\n",
              "        vertical-align: top;\n",
              "    }\n",
              "\n",
              "    .dataframe thead th {\n",
              "        text-align: right;\n",
              "    }\n",
              "</style>\n",
              "<table border=\"1\" class=\"dataframe\">\n",
              "  <thead>\n",
              "    <tr style=\"text-align: right;\">\n",
              "      <th></th>\n",
              "      <th>Sentence</th>\n",
              "      <th>Polarity</th>\n",
              "      <th>Subjectivity</th>\n",
              "    </tr>\n",
              "  </thead>\n",
              "  <tbody>\n",
              "    <tr>\n",
              "      <th>0</th>\n",
              "      <td>Why Smart Leaders Use ChatGPT</td>\n",
              "      <td>0.214286</td>\n",
              "      <td>0.642857</td>\n",
              "    </tr>\n",
              "    <tr>\n",
              "      <th>1</th>\n",
              "      <td>Ethically</td>\n",
              "      <td>0.200000</td>\n",
              "      <td>0.600000</td>\n",
              "    </tr>\n",
              "    <tr>\n",
              "      <th>2</th>\n",
              "      <td>And How They Do ItSubscribe Sign InBETAThis is...</td>\n",
              "      <td>0.000000</td>\n",
              "      <td>0.000000</td>\n",
              "    </tr>\n",
              "    <tr>\n",
              "      <th>3</th>\n",
              "      <td>You may opt-out by clicking hereMore From Forb...</td>\n",
              "      <td>0.000000</td>\n",
              "      <td>0.000000</td>\n",
              "    </tr>\n",
              "    <tr>\n",
              "      <th>4</th>\n",
              "      <td>EDTWhy Working From Home Is Here To StayMar 28...</td>\n",
              "      <td>0.500000</td>\n",
              "      <td>0.500000</td>\n",
              "    </tr>\n",
              "    <tr>\n",
              "      <th>5</th>\n",
              "      <td>2023,10:15am EDTFailure-Proofing Your Meetings...</td>\n",
              "      <td>0.000000</td>\n",
              "      <td>0.000000</td>\n",
              "    </tr>\n",
              "    <tr>\n",
              "      <th>6</th>\n",
              "      <td>The Changemaker InterviewMar 28, 2023,10:00am ...</td>\n",
              "      <td>0.000000</td>\n",
              "      <td>0.062500</td>\n",
              "    </tr>\n",
              "    <tr>\n",
              "      <th>7</th>\n",
              "      <td>StrategyWhy Smart Leaders Use ChatGPT</td>\n",
              "      <td>0.214286</td>\n",
              "      <td>0.642857</td>\n",
              "    </tr>\n",
              "    <tr>\n",
              "      <th>8</th>\n",
              "      <td>Ethically</td>\n",
              "      <td>0.200000</td>\n",
              "      <td>0.600000</td>\n",
              "    </tr>\n",
              "    <tr>\n",
              "      <th>9</th>\n",
              "      <td>And How They Do ItBruce Weinstein, Ph.D.Contri...</td>\n",
              "      <td>0.600000</td>\n",
              "      <td>1.000000</td>\n",
              "    </tr>\n",
              "    <tr>\n",
              "      <th>10</th>\n",
              "      <td>Customized ethics keynotes, training, and onli...</td>\n",
              "      <td>0.000000</td>\n",
              "      <td>0.000000</td>\n",
              "    </tr>\n",
              "    <tr>\n",
              "      <th>11</th>\n",
              "      <td>Got it!Share to FacebookShare to TwitterShare ...</td>\n",
              "      <td>0.200000</td>\n",
              "      <td>0.600000</td>\n",
              "    </tr>\n",
              "    <tr>\n",
              "      <th>12</th>\n",
              "      <td>SOPA Images LightRocket via Getty Images You c...</td>\n",
              "      <td>0.120238</td>\n",
              "      <td>0.503571</td>\n",
              "    </tr>\n",
              "    <tr>\n",
              "      <th>13</th>\n",
              "      <td>Let’s look at several ethical questions raised...</td>\n",
              "      <td>0.187500</td>\n",
              "      <td>0.362500</td>\n",
              "    </tr>\n",
              "    <tr>\n",
              "      <th>14</th>\n",
              "      <td>Where does the material come from?</td>\n",
              "      <td>0.000000</td>\n",
              "      <td>0.000000</td>\n",
              "    </tr>\n",
              "    <tr>\n",
              "      <th>15</th>\n",
              "      <td>How might we cause harm by using AI-generated ...</td>\n",
              "      <td>0.000000</td>\n",
              "      <td>0.000000</td>\n",
              "    </tr>\n",
              "    <tr>\n",
              "      <th>16</th>\n",
              "      <td>Are we at risk of damaging the trust others pl...</td>\n",
              "      <td>0.000000</td>\n",
              "      <td>0.000000</td>\n",
              "    </tr>\n",
              "    <tr>\n",
              "      <th>17</th>\n",
              "      <td>Why should you bother with ethics at all?</td>\n",
              "      <td>0.000000</td>\n",
              "      <td>0.000000</td>\n",
              "    </tr>\n",
              "    <tr>\n",
              "      <th>18</th>\n",
              "      <td>I’ll explain why and then present five princip...</td>\n",
              "      <td>-0.133333</td>\n",
              "      <td>0.533333</td>\n",
              "    </tr>\n",
              "    <tr>\n",
              "      <th>19</th>\n",
              "      <td>Ethics:</td>\n",
              "      <td>0.000000</td>\n",
              "      <td>0.000000</td>\n",
              "    </tr>\n",
              "  </tbody>\n",
              "</table>\n",
              "</div>\n",
              "      <button class=\"colab-df-convert\" onclick=\"convertToInteractive('df-42a56c8d-08dd-46f0-aafb-42b6215df4d0')\"\n",
              "              title=\"Convert this dataframe to an interactive table.\"\n",
              "              style=\"display:none;\">\n",
              "        \n",
              "  <svg xmlns=\"http://www.w3.org/2000/svg\" height=\"24px\"viewBox=\"0 0 24 24\"\n",
              "       width=\"24px\">\n",
              "    <path d=\"M0 0h24v24H0V0z\" fill=\"none\"/>\n",
              "    <path d=\"M18.56 5.44l.94 2.06.94-2.06 2.06-.94-2.06-.94-.94-2.06-.94 2.06-2.06.94zm-11 1L8.5 8.5l.94-2.06 2.06-.94-2.06-.94L8.5 2.5l-.94 2.06-2.06.94zm10 10l.94 2.06.94-2.06 2.06-.94-2.06-.94-.94-2.06-.94 2.06-2.06.94z\"/><path d=\"M17.41 7.96l-1.37-1.37c-.4-.4-.92-.59-1.43-.59-.52 0-1.04.2-1.43.59L10.3 9.45l-7.72 7.72c-.78.78-.78 2.05 0 2.83L4 21.41c.39.39.9.59 1.41.59.51 0 1.02-.2 1.41-.59l7.78-7.78 2.81-2.81c.8-.78.8-2.07 0-2.86zM5.41 20L4 18.59l7.72-7.72 1.47 1.35L5.41 20z\"/>\n",
              "  </svg>\n",
              "      </button>\n",
              "      \n",
              "  <style>\n",
              "    .colab-df-container {\n",
              "      display:flex;\n",
              "      flex-wrap:wrap;\n",
              "      gap: 12px;\n",
              "    }\n",
              "\n",
              "    .colab-df-convert {\n",
              "      background-color: #E8F0FE;\n",
              "      border: none;\n",
              "      border-radius: 50%;\n",
              "      cursor: pointer;\n",
              "      display: none;\n",
              "      fill: #1967D2;\n",
              "      height: 32px;\n",
              "      padding: 0 0 0 0;\n",
              "      width: 32px;\n",
              "    }\n",
              "\n",
              "    .colab-df-convert:hover {\n",
              "      background-color: #E2EBFA;\n",
              "      box-shadow: 0px 1px 2px rgba(60, 64, 67, 0.3), 0px 1px 3px 1px rgba(60, 64, 67, 0.15);\n",
              "      fill: #174EA6;\n",
              "    }\n",
              "\n",
              "    [theme=dark] .colab-df-convert {\n",
              "      background-color: #3B4455;\n",
              "      fill: #D2E3FC;\n",
              "    }\n",
              "\n",
              "    [theme=dark] .colab-df-convert:hover {\n",
              "      background-color: #434B5C;\n",
              "      box-shadow: 0px 1px 3px 1px rgba(0, 0, 0, 0.15);\n",
              "      filter: drop-shadow(0px 1px 2px rgba(0, 0, 0, 0.3));\n",
              "      fill: #FFFFFF;\n",
              "    }\n",
              "  </style>\n",
              "\n",
              "      <script>\n",
              "        const buttonEl =\n",
              "          document.querySelector('#df-42a56c8d-08dd-46f0-aafb-42b6215df4d0 button.colab-df-convert');\n",
              "        buttonEl.style.display =\n",
              "          google.colab.kernel.accessAllowed ? 'block' : 'none';\n",
              "\n",
              "        async function convertToInteractive(key) {\n",
              "          const element = document.querySelector('#df-42a56c8d-08dd-46f0-aafb-42b6215df4d0');\n",
              "          const dataTable =\n",
              "            await google.colab.kernel.invokeFunction('convertToInteractive',\n",
              "                                                     [key], {});\n",
              "          if (!dataTable) return;\n",
              "\n",
              "          const docLinkHtml = 'Like what you see? Visit the ' +\n",
              "            '<a target=\"_blank\" href=https://colab.research.google.com/notebooks/data_table.ipynb>data table notebook</a>'\n",
              "            + ' to learn more about interactive tables.';\n",
              "          element.innerHTML = '';\n",
              "          dataTable['output_type'] = 'display_data';\n",
              "          await google.colab.output.renderOutput(dataTable, element);\n",
              "          const docLink = document.createElement('div');\n",
              "          docLink.innerHTML = docLinkHtml;\n",
              "          element.appendChild(docLink);\n",
              "        }\n",
              "      </script>\n",
              "    </div>\n",
              "  </div>\n",
              "  "
            ]
          },
          "metadata": {},
          "execution_count": 68
        }
      ]
    },
    {
      "cell_type": "markdown",
      "source": [
        "**Most of the sentences are neutral interms of polarity and there are more positive sentiments than negative.** *see figure below*"
      ],
      "metadata": {
        "id": "qaZ0Qi8dBcRY"
      }
    },
    {
      "cell_type": "code",
      "source": [
        "sns.displot(df_textblob[\"Polarity\"], height= 5, aspect=1.8)\n",
        "plt.xlabel(\"Sentence Polarity (Textblob)\")"
      ],
      "metadata": {
        "id": "aEcdMOLZqiT4",
        "colab": {
          "base_uri": "https://localhost:8080/",
          "height": 387
        },
        "outputId": "efa9b1e8-20c3-405c-da19-0234f12d8056"
      },
      "execution_count": 85,
      "outputs": [
        {
          "output_type": "execute_result",
          "data": {
            "text/plain": [
              "Text(0.5, 6.79999999999999, 'Sentence Polarity (Textblob)')"
            ]
          },
          "metadata": {},
          "execution_count": 85
        },
        {
          "output_type": "display_data",
          "data": {
            "text/plain": [
              "<Figure size 648x360 with 1 Axes>"
            ],
            "image/png": "[encoded data removed]"
          },
          "metadata": {
            "needs_background": "light"
          }
        }
      ]
    },
    {
      "cell_type": "markdown",
      "source": [
        "**More than two-thirds of the sentences scrapped are considered objective as shown in the figure below**"
      ],
      "metadata": {
        "id": "JALs4Za8CBSl"
      }
    },
    {
      "cell_type": "code",
      "source": [
        "sns.displot(df_textblob[\"Subjectivity\"], height= 5, aspect=1.8)\n",
        "plt.xlabel(\"Sentence Subjectivity (Textblob)\")"
      ],
      "metadata": {
        "id": "GTkeHhYwoY4N",
        "colab": {
          "base_uri": "https://localhost:8080/",
          "height": 387
        },
        "outputId": "5c830121-b7a6-430f-fb69-764605e3b41b"
      },
      "execution_count": 86,
      "outputs": [
        {
          "output_type": "execute_result",
          "data": {
            "text/plain": [
              "Text(0.5, 6.79999999999999, 'Sentence Subjectivity (Textblob)')"
            ]
          },
          "metadata": {},
          "execution_count": 86
        },
        {
          "output_type": "display_data",
          "data": {
            "text/plain": [
              "<Figure size 648x360 with 1 Axes>"
            ],
            "image/png": "[encoded data removed]"
          },
          "metadata": {
            "needs_background": "light"
          }
        }
      ]
    },
    {
      "cell_type": "code",
      "source": [
        "# Word cloud\n",
        "\n",
        "clean_text[100:800]"
      ],
      "metadata": {
        "colab": {
          "base_uri": "https://localhost:8080/",
          "height": 109
        },
        "id": "FKCWrJF5vlkL",
        "outputId": "7750075d-0979-49d9-908b-93f1d901048e"
      },
      "execution_count": 87,
      "outputs": [
        {
          "output_type": "execute_result",
          "data": {
            "text/plain": [
              "'ence. You may opt-out by\\xa0clicking hereMore From ForbesMar 29, 2023,05:32am EDTWhy Working From Home Is Here To StayMar 28, 2023,04:39pm EDTTo Support Women In The Workforce, Stop Focusing On WomenMar 28, 2023,12:07pm EDTThree Lessons For Israeli Protesters From Turkeys Gezi ProtestsMar 28, 2023,11:44am EDTLeading Better Starts With Living BetterMar 28, 2023,11:00am EDTApartment Rents Coming DownMar 28, 2023,10:15am EDTFailure-Proofing Your Meetings: A Neuroscience-Based Strategy For SuccessMar 28, 2023,10:00am EDTKevin Martinez, VP Corporate Citizenship, ESPN: The Changemaker InterviewMar 28, 2023,10:00am EDTThis AI-First Digital Engineering Company Is Transforming The Future Of BusinessEdit'"
            ],
            "application/vnd.google.colaboratory.intrinsic+json": {
              "type": "string"
            }
          },
          "metadata": {},
          "execution_count": 87
        }
      ]
    },
    {
      "cell_type": "code",
      "source": [
        "clean_text"
      ],
      "metadata": {
        "colab": {
          "base_uri": "https://localhost:8080/",
          "height": 145
        },
        "id": "rXH5MFt47CgB",
        "outputId": "731b9964-d706-4013-d57a-b80b72aa0159"
      },
      "execution_count": 88,
      "outputs": [
        {
          "output_type": "execute_result",
          "data": {
            "text/plain": [
              "'Why Smart Leaders Use ChatGPT Ethically And How They Do ItSubscribe Sign InBETAThis is a BETA experience. You may opt-out by\\xa0clicking hereMore From ForbesMar 29, 2023,05:32am EDTWhy Working From Home Is Here To StayMar 28, 2023,04:39pm EDTTo Support Women In The Workforce, Stop Focusing On WomenMar 28, 2023,12:07pm EDTThree Lessons For Israeli Protesters From Turkeys Gezi ProtestsMar 28, 2023,11:44am EDTLeading Better Starts With Living BetterMar 28, 2023,11:00am EDTApartment Rents Coming DownMar 28, 2023,10:15am EDTFailure-Proofing Your Meetings: A Neuroscience-Based Strategy For SuccessMar 28, 2023,10:00am EDTKevin Martinez, VP Corporate Citizenship, ESPN: The Changemaker InterviewMar 28, 2023,10:00am EDTThis AI-First Digital Engineering Company Is Transforming The Future Of BusinessEdit StoryForbesLeadershipLeadership StrategyWhy Smart Leaders Use ChatGPT Ethically And How They Do ItBruce Weinstein, Ph.D.ContributorOpinions expressed by Forbes Contributors are their own.Customized ethics keynotes, training, and online courses for CE creditFollowingFeb 24, 2023,03:40pm EST|Press play to listen to this article! Got it!Share to FacebookShare to TwitterShare to LinkedinHeres how to use ChatGPT ethical and why you should bother.SOPA Images LightRocket via Getty Images You can use ChatGPT, Bard, Bing and other AI-assisted chatbots to enhance your business in the right way if you apply the principles of ethical intelligence.   Let’s look at several ethical questions raised by AI chatbots, including:     How much of what the bots generate is true? Where does the material come from? How might we cause harm by using AI-generated text in our work? Are we at risk of damaging the trust others place in us when we use this material in our work?    Why should you bother with ethics at all? I’ll explain why and then present five principles that enable you to use artificial intelligence with ethical intelligence. Ethics: So What? Who cares about ethics? You should, if you want to enjoy a successful career.getty Doing the right thing takes time and effort. It can cost money. Some of your competitors don’t care about it. Won’t you lose clients to them if you factor ethics into how you use ChatGPT? You will not lose clients if you take ethics seriously. Just the opposite. The best leaders recognize that ethical conduct is good for its own sake. We owe some things to others, such as not harming them, and it’s wrong to overlook this. MORE FROMFORBES ADVISORBest Travel Insurance CompaniesByAmy DaniseEditorBest Covid-19 Travel Insurance PlansByAmy DaniseEditor There’s another reason why the best leaders take ethics seriously. It is in their own financial and reputational interest to do so. The following five principles will help you use ChatGPT with ethical intelligence.  1. Do No HarmSomeone isnt taking Do No Harm to heart!getty   The most fundamental principle of ethical intelligence is Do No Harm. The least we can expect of one another is that we don’t make things worse for anyone. The good news about Do No Harm is that it is a principle of restraint. For example, if you’re driving on the highway and the car in front of you is going more slowly than you’d like, you apply the Do No Harm principle by not tailgating them and flashing your bright headlights. Concerning ChatGPT, you avoid causing harm by not publishing any text that could hurt another person or damage your reputation. You do this through a corollary to the Do No Harm principle, Prevent Harm. Prevent HarmA powerful way of applying the Prevent Harm principle in everyday life.getty Sometimes we must take action so that harm doesn’t occur. You do this in your personal life by ensuring your toddler is secured when you drive. Preventing harm to children in this manner is both a legal requirement and an ethical obligation in each state of the United States and in many countries. When you use ChatGPT, you prevent harm to others and yourself through due diligence. For example, suppose you want ChatGPT to generate a short essay on three hot trends in your field. You plan to post this on your LinkedIn page and with a few groups you belong to. But simply cutting and pasting what the bot generates would be irresponsible. It might contain a direct quote from someone without attribution. It might contain false statements. Or both. Researching what the chatbot gives you will help you prevent harm to others who might act upon false information. Research will also prevent harm to your reputation. 2. Make Things BetterHere is a literal application of Make Things Better. Its also a metaphor for how you treat your ... [+] clients.getty Do No Harm and Prevent Harm are two crucial principles that smart leaders live by, but they’re not enough. Not causing harm is the least we can expect of one another. The second principle of ethical intelligence takes us further: Make Things Better. Your job description and your company’s mission are primarily about improving things. If everything is fine the way it is, why would anyone need to hire you or buy your products? Applied to your use of ChatGPT, Make Things Better means ensuring that you check what the bot generates for origin and accuracy. The saying, “garbage in, garbage out,” is worth taking to heart anytime you use artificial intelligence. AI is only as good as what goes into it. 3. Respect Others The third principle of ethical intelligence is Respect Others. Three components of this principle are:   Tell the truth Protect confidentiality Keep promises   Let’s consider how each applies to using ChatGPT the right way. Tell the TruthThis is exactly the problem were talking about here.getty Keeping in mind “garbage in, garbage out,” the text that ChatGPT and other generative AI platforms yield are as truthful or fanciful as the information they have been given. Whether you’re using an AI bot to craft a press release, write a blog post or help you create chapters for a book, it behooves you to ensure that whatever you release into the world is true or likely to be true. Yes, this requires more time and effort than just publishing whatever you get from the bot, but it’s the right thing to do. You might even have to spend some money and hire an expert to review what the bot has generated. It’s easier to skip this step, but this is one example where easier isn’t better. Another way that truth-telling demonstrates your respect for others is by acknowledging the role that ChatGPT has played in the written material you present to the world. You wouldn’t quote someone in your article or speech without giving them credit. Likewise, being transparent about how you’ve used an AI chatbot is the right thing to do. Protect ConfidentialityWant to know a secret? Well, its not right for me to tell you.getty Whether your field is healthcare, the law, business, education, or the government, you risk violating the duty to protect confidentiality if you don’t carefully review what ChatGPT generates before you put it out into the world. I was once on an airplane awaiting takeoff and overheard a passenger calling in a prescription for a patient. He mentioned the patient’s full name and the name of the medication. This was a gross violation of the duty in medical ethics to protect patient confidentiality. The physician should have known better. As of this writing, however, not all generative AI can exercise the discretion that the physician on the plane lacked. Since the bot can’t, you must. And that requires yet again some time and effort in research. Do you see a recurring theme here in the proper use of ChatGPT and other chatbots? Keep PromisesA handshake is one way we make promises, but every form is worth taking seriously.getty Consider the contract you’ve signed with your employer or, if you’re an entrepreneur, directly with a client. Is your contract a legal document? Yes. Is it more than that? Yes. A business contract is a two-way promise. You agree to provide certain services or products, and your company or your client pays you in return. If you or the other party reneges, the deal is off. Suppose you publish or distribute what ChatGPT generates without carefully reviewing, fact-checking and editing it. In doing so, you break the implicit or explicit promise you have made to be a trustworthy person. As Walter Landor said, “A brand is a promise.” What exactly are you promising to the people who read your work? That it is substantially your own. Using an AI chatbot to write all or most of what you put forth is a breach of faith that your audience has in you. Wise leaders care deeply about being trustworthy. It is through consistent ethical conduct that they earn the trust of their employers and clients. 4. Be FairHow can we mitigate the effects of our biases? Read on.getty The fourth principle of ethical intelligence is Be Fair. To be fair is to give others their due. An obstacle to this is the bias that can be embedded in the information that ChatGPT and other chatbots use to answer the questions you pose. Again, it’s garbage in, garbage out. Suppose the written material you’re using has been shaped by biases related to age, race, gender, politics or sexual orientation. You risk perpetuating that bias by cutting and pasting whatever the bot gives you into an email, blog, social media post, or book. A second way to use ChatGPT fairly is to ensure you’re not appropriating someone else’s intellectual property. Once again, the ethically intelligent use of ChatGPT and the like requires human intervention. 5. Care Care is the fifth principle of ethical intelligence. Care is a feeling about the world and a way of acting in it. You evince care in your professional life by doing something as simple as sending a handwritten thank-you note to a new client or as time-consuming as taking on a project your colleague can’t finish because of illness. Concerning ChatGPT, you demonstrate care by double- and triple-checking the research you’ve done to ensure that what you’re about to distribute is accurate, fair and not likely to harm others or the good reputation of your business. Summary: the principles of ethical intelligencePrint this section of the article and post it near your computer.getty 1. Do No Harm Prevent Harm 2. Make Things Better 3. Respect Others Tell the Truth Protect Confidentiality Keep Promises 4. Be Fair 5. Care Where do these principles come from?The principles of ethical intelligence are everywhere. Whether we act on them is another matter.getty The five principles of ethical intelligence—Do No Harm, Make Things Better, Respect Others, Be Fair and Care—are derived from Tom L. Beauchamp and James F. Childress’s pioneering work, Principles of Biomedical Ethics, 8th edition (New York: Oxford University Press, 2019). I’ve made two changes:   I simplified the language. For example, what Beauchamp and Childress refer to as the principle of nonmaleficence I call Do No Harm. I broadened the scope of the principles to include not only healthcare and biomedical research but also business, the law, government, education and beyond.   Also, our parents and teachers taught us these principles in one form or another. Corporate codes of conduct and values statements are based on and, in some cases, explicitly refer to these principles. The principles have a prominent place in the sacred texts of religions. (See, for example, Jeffrey Moses, Oneness: Great Principles Shared by All Religions, Revised and Expanded Edition (New York: Ballantine Books, 2002). What would your life be like if most of the people connected to you in some way habitually disregarded the principles of ethical intelligence? Call to ActionTime to take action!getty You’ve just spent several minutes reading this article. You can get a significant return on your investment by doing the following two things.   Look at ChatGPT and other AI-assisted chatbots as devices that can enhance your work, not substitute for it. Instead of distributing to others whatever ChatGPT says in answer to a question you ask, do your due diligence. Find out if the statements ChatGPT has made are true. See who else has been writing or saying something along these lines and cite the most trustworthy of them. Avoid cutting and pasting what the bot says and calling it your own.   The principles presented here will help you use artificial intelligence with ethical intelligence. They are a framework, not a formula, for doing the right thing. Your company, your clients and your reputation deserve nothing less than the best you can give them. Follow me on\\xa0Twitter\\xa0or\\xa0LinkedIn.\\xa0Check out\\xa0my\\xa0website\\xa0or\\xa0some of my other work\\xa0here.\\xa0Bruce Weinstein, Ph.D.Editorial StandardsPrintReprints & Permissions'"
            ],
            "application/vnd.google.colaboratory.intrinsic+json": {
              "type": "string"
            }
          },
          "metadata": {},
          "execution_count": 88
        }
      ]
    },
    {
      "cell_type": "code",
      "source": [
        "# Create tokenizer\n",
        "tokenizer = nltk.tokenize.RegexpTokenizer('\\w+, 0-9, d+')"
      ],
      "metadata": {
        "id": "q5_uAM-UvlgY"
      },
      "execution_count": 90,
      "outputs": []
    },
    {
      "cell_type": "code",
      "source": [
        "# Converting the sentence into words WORD TOKENIZE\n",
        "\n",
        "from nltk.tokenize import word_tokenize"
      ],
      "metadata": {
        "id": "2Hh4V2YE5hdA"
      },
      "execution_count": 83,
      "outputs": []
    },
    {
      "cell_type": "code",
      "source": [
        " nltk.download('punkt')"
      ],
      "metadata": {
        "colab": {
          "base_uri": "https://localhost:8080/"
        },
        "id": "Qc49Rvkg7X8A",
        "outputId": "5a7dca21-1cbe-498b-8464-676d64d40ea9"
      },
      "execution_count": 91,
      "outputs": [
        {
          "output_type": "stream",
          "name": "stderr",
          "text": [
            "[nltk_data] Downloading package punkt to /root/nltk_data...\n",
            "[nltk_data]   Unzipping tokenizers/punkt.zip.\n"
          ]
        },
        {
          "output_type": "execute_result",
          "data": {
            "text/plain": [
              "True"
            ]
          },
          "metadata": {},
          "execution_count": 91
        }
      ]
    },
    {
      "cell_type": "code",
      "source": [
        "chatGPT_words = word_tokenize(clean_text)"
      ],
      "metadata": {
        "id": "isOhmvs_5hYn"
      },
      "execution_count": 92,
      "outputs": []
    },
    {
      "cell_type": "code",
      "source": [
        "chatGPT_words = [word for word in chatGPT_words if word.isalnum()]"
      ],
      "metadata": {
        "id": "kRNA9tcD5hVj"
      },
      "execution_count": 93,
      "outputs": []
    },
    {
      "cell_type": "code",
      "source": [
        "nltk.download('stopwords')"
      ],
      "metadata": {
        "colab": {
          "base_uri": "https://localhost:8080/"
        },
        "id": "qSrhuZ-J7kkp",
        "outputId": "350bda36-ef4c-4922-b808-9b6ddd78a54e"
      },
      "execution_count": 96,
      "outputs": [
        {
          "output_type": "stream",
          "name": "stderr",
          "text": [
            "[nltk_data] Downloading package stopwords to /root/nltk_data...\n",
            "[nltk_data]   Unzipping corpora/stopwords.zip.\n"
          ]
        },
        {
          "output_type": "execute_result",
          "data": {
            "text/plain": [
              "True"
            ]
          },
          "metadata": {},
          "execution_count": 96
        }
      ]
    },
    {
      "cell_type": "code",
      "source": [
        "from nltk.corpus import stopwords"
      ],
      "metadata": {
        "id": "2LveRqdK5vM3"
      },
      "execution_count": 97,
      "outputs": []
    },
    {
      "cell_type": "code",
      "source": [
        "stopwords = set(stopwords.words('english'))"
      ],
      "metadata": {
        "id": "cUHGImuB5vJv"
      },
      "execution_count": 98,
      "outputs": []
    },
    {
      "cell_type": "code",
      "source": [
        "chatGPT_words = [word for word in chatGPT_words if not str.lower(word) in stopwords]"
      ],
      "metadata": {
        "id": "JOZny4fG55jp"
      },
      "execution_count": 99,
      "outputs": []
    },
    {
      "cell_type": "code",
      "source": [
        "# Check the frequency and probabilities\n",
        "from nltk.probability import FreqDist"
      ],
      "metadata": {
        "id": "IMZ27oES55fN"
      },
      "execution_count": 100,
      "outputs": []
    },
    {
      "cell_type": "code",
      "source": [
        "word_frequency = FreqDist(chatGPT_words)"
      ],
      "metadata": {
        "id": "dk8xBQxR5vGg"
      },
      "execution_count": 101,
      "outputs": []
    },
    {
      "cell_type": "code",
      "source": [
        "# A plot of word frequency\n",
        "word_frequency.plot(50, cumulative=False)"
      ],
      "metadata": {
        "colab": {
          "base_uri": "https://localhost:8080/",
          "height": 346
        },
        "id": "JMRZtQ5I6Iv-",
        "outputId": "69219070-9de8-41de-fdc3-f04282840a94"
      },
      "execution_count": 102,
      "outputs": [
        {
          "output_type": "display_data",
          "data": {
            "text/plain": [
              "<Figure size 432x288 with 1 Axes>"
            ],
            "image/png": "[encoded data removed]"
          },
          "metadata": {
            "needs_background": "light"
          }
        },
        {
          "output_type": "execute_result",
          "data": {
            "text/plain": [
              "<Axes: xlabel='Samples', ylabel='Counts'>"
            ]
          },
          "metadata": {},
          "execution_count": 102
        }
      ]
    },
    {
      "cell_type": "code",
      "source": [
        "# Make the above larger\n",
        "plt.figure(figsize=(20,15))\n",
        "word_frequency.plot(50, cumulative=False)"
      ],
      "metadata": {
        "colab": {
          "base_uri": "https://localhost:8080/",
          "height": 904
        },
        "id": "fMGc1eH26Isf",
        "outputId": "1f32902d-8d66-4a94-f4ea-730b83433e68"
      },
      "execution_count": 103,
      "outputs": [
        {
          "output_type": "display_data",
          "data": {
            "text/plain": [
              "<Figure size 1440x1080 with 1 Axes>"
            ],
            "image/png": "[encoded data removed]"
          },
          "metadata": {
            "needs_background": "light"
          }
        },
        {
          "output_type": "execute_result",
          "data": {
            "text/plain": [
              "<Axes: xlabel='Samples', ylabel='Counts'>"
            ]
          },
          "metadata": {},
          "execution_count": 103
        }
      ]
    },
    {
      "cell_type": "code",
      "source": [
        "# Remove words that are not needed for our analysis.\n",
        "# We have 50 words at the moment, remove new stopwords\n",
        "\n",
        "chatGPT_words = [w for w in chatGPT_words if not w in ['28',]]\n"
      ],
      "metadata": {
        "id": "YehgP9gs6IpJ"
      },
      "execution_count": 104,
      "outputs": []
    },
    {
      "cell_type": "code",
      "source": [
        "chatGPT_words"
      ],
      "metadata": {
        "colab": {
          "base_uri": "https://localhost:8080/"
        },
        "id": "zGweX5_H6YDC",
        "outputId": "4c8aa569-3751-4e02-a93c-4dfbcb3af954"
      },
      "execution_count": 105,
      "outputs": [
        {
          "output_type": "execute_result",
          "data": {
            "text/plain": [
              "['Smart',\n",
              " 'Leaders',\n",
              " 'Use',\n",
              " 'ChatGPT',\n",
              " 'Ethically',\n",
              " 'ItSubscribe',\n",
              " 'Sign',\n",
              " 'InBETAThis',\n",
              " 'BETA',\n",
              " 'experience',\n",
              " 'may',\n",
              " 'clicking',\n",
              " 'hereMore',\n",
              " 'ForbesMar',\n",
              " '29',\n",
              " 'EDTWhy',\n",
              " 'Working',\n",
              " 'Home',\n",
              " 'StayMar',\n",
              " 'EDTTo',\n",
              " 'Support',\n",
              " 'Women',\n",
              " 'Workforce',\n",
              " 'Stop',\n",
              " 'Focusing',\n",
              " 'WomenMar',\n",
              " 'EDTThree',\n",
              " 'Lessons',\n",
              " 'Israeli',\n",
              " 'Protesters',\n",
              " 'Turkeys',\n",
              " 'Gezi',\n",
              " 'ProtestsMar',\n",
              " 'EDTLeading',\n",
              " 'Better',\n",
              " 'Starts',\n",
              " 'Living',\n",
              " 'BetterMar',\n",
              " 'EDTApartment',\n",
              " 'Rents',\n",
              " 'Coming',\n",
              " 'DownMar',\n",
              " 'Meetings',\n",
              " 'Strategy',\n",
              " 'SuccessMar',\n",
              " 'EDTKevin',\n",
              " 'Martinez',\n",
              " 'VP',\n",
              " 'Corporate',\n",
              " 'Citizenship',\n",
              " 'ESPN',\n",
              " 'Changemaker',\n",
              " 'InterviewMar',\n",
              " 'EDTThis',\n",
              " 'Digital',\n",
              " 'Engineering',\n",
              " 'Company',\n",
              " 'Transforming',\n",
              " 'Future',\n",
              " 'BusinessEdit',\n",
              " 'StoryForbesLeadershipLeadership',\n",
              " 'StrategyWhy',\n",
              " 'Smart',\n",
              " 'Leaders',\n",
              " 'Use',\n",
              " 'ChatGPT',\n",
              " 'Ethically',\n",
              " 'ItBruce',\n",
              " 'Weinstein',\n",
              " 'expressed',\n",
              " 'Forbes',\n",
              " 'Contributors',\n",
              " 'ethics',\n",
              " 'keynotes',\n",
              " 'training',\n",
              " 'online',\n",
              " 'courses',\n",
              " 'CE',\n",
              " 'creditFollowingFeb',\n",
              " '24',\n",
              " 'play',\n",
              " 'listen',\n",
              " 'article',\n",
              " 'Got',\n",
              " 'Share',\n",
              " 'FacebookShare',\n",
              " 'TwitterShare',\n",
              " 'LinkedinHeres',\n",
              " 'use',\n",
              " 'ChatGPT',\n",
              " 'ethical',\n",
              " 'Images',\n",
              " 'LightRocket',\n",
              " 'via',\n",
              " 'Getty',\n",
              " 'Images',\n",
              " 'use',\n",
              " 'ChatGPT',\n",
              " 'Bard',\n",
              " 'Bing',\n",
              " 'chatbots',\n",
              " 'enhance',\n",
              " 'business',\n",
              " 'right',\n",
              " 'way',\n",
              " 'apply',\n",
              " 'principles',\n",
              " 'ethical',\n",
              " 'intelligence',\n",
              " 'Let',\n",
              " 'look',\n",
              " 'several',\n",
              " 'ethical',\n",
              " 'questions',\n",
              " 'raised',\n",
              " 'AI',\n",
              " 'chatbots',\n",
              " 'including',\n",
              " 'much',\n",
              " 'bots',\n",
              " 'generate',\n",
              " 'true',\n",
              " 'material',\n",
              " 'come',\n",
              " 'might',\n",
              " 'cause',\n",
              " 'harm',\n",
              " 'using',\n",
              " 'text',\n",
              " 'work',\n",
              " 'risk',\n",
              " 'damaging',\n",
              " 'trust',\n",
              " 'others',\n",
              " 'place',\n",
              " 'us',\n",
              " 'use',\n",
              " 'material',\n",
              " 'work',\n",
              " 'bother',\n",
              " 'ethics',\n",
              " 'explain',\n",
              " 'present',\n",
              " 'five',\n",
              " 'principles',\n",
              " 'enable',\n",
              " 'use',\n",
              " 'artificial',\n",
              " 'intelligence',\n",
              " 'ethical',\n",
              " 'intelligence',\n",
              " 'Ethics',\n",
              " 'cares',\n",
              " 'ethics',\n",
              " 'want',\n",
              " 'enjoy',\n",
              " 'successful',\n",
              " 'right',\n",
              " 'thing',\n",
              " 'takes',\n",
              " 'time',\n",
              " 'effort',\n",
              " 'cost',\n",
              " 'money',\n",
              " 'competitors',\n",
              " 'care',\n",
              " 'lose',\n",
              " 'clients',\n",
              " 'factor',\n",
              " 'ethics',\n",
              " 'use',\n",
              " 'ChatGPT',\n",
              " 'lose',\n",
              " 'clients',\n",
              " 'take',\n",
              " 'ethics',\n",
              " 'seriously',\n",
              " 'opposite',\n",
              " 'best',\n",
              " 'leaders',\n",
              " 'recognize',\n",
              " 'ethical',\n",
              " 'conduct',\n",
              " 'good',\n",
              " 'sake',\n",
              " 'owe',\n",
              " 'things',\n",
              " 'others',\n",
              " 'harming',\n",
              " 'wrong',\n",
              " 'overlook',\n",
              " 'FROMFORBES',\n",
              " 'ADVISORBest',\n",
              " 'Travel',\n",
              " 'Insurance',\n",
              " 'CompaniesByAmy',\n",
              " 'DaniseEditorBest',\n",
              " 'Travel',\n",
              " 'Insurance',\n",
              " 'PlansByAmy',\n",
              " 'DaniseEditor',\n",
              " 'another',\n",
              " 'reason',\n",
              " 'best',\n",
              " 'leaders',\n",
              " 'take',\n",
              " 'ethics',\n",
              " 'seriously',\n",
              " 'financial',\n",
              " 'reputational',\n",
              " 'interest',\n",
              " 'following',\n",
              " 'five',\n",
              " 'principles',\n",
              " 'help',\n",
              " 'use',\n",
              " 'ChatGPT',\n",
              " 'ethical',\n",
              " 'intelligence',\n",
              " '1',\n",
              " 'HarmSomeone',\n",
              " 'isnt',\n",
              " 'taking',\n",
              " 'Harm',\n",
              " 'heart',\n",
              " 'getty',\n",
              " 'fundamental',\n",
              " 'principle',\n",
              " 'ethical',\n",
              " 'intelligence',\n",
              " 'Harm',\n",
              " 'least',\n",
              " 'expect',\n",
              " 'one',\n",
              " 'another',\n",
              " 'make',\n",
              " 'things',\n",
              " 'worse',\n",
              " 'anyone',\n",
              " 'good',\n",
              " 'news',\n",
              " 'Harm',\n",
              " 'principle',\n",
              " 'restraint',\n",
              " 'example',\n",
              " 'driving',\n",
              " 'highway',\n",
              " 'car',\n",
              " 'front',\n",
              " 'going',\n",
              " 'slowly',\n",
              " 'like',\n",
              " 'apply',\n",
              " 'Harm',\n",
              " 'principle',\n",
              " 'tailgating',\n",
              " 'flashing',\n",
              " 'bright',\n",
              " 'headlights',\n",
              " 'Concerning',\n",
              " 'ChatGPT',\n",
              " 'avoid',\n",
              " 'causing',\n",
              " 'harm',\n",
              " 'publishing',\n",
              " 'text',\n",
              " 'could',\n",
              " 'hurt',\n",
              " 'another',\n",
              " 'person',\n",
              " 'damage',\n",
              " 'reputation',\n",
              " 'corollary',\n",
              " 'Harm',\n",
              " 'principle',\n",
              " 'Prevent',\n",
              " 'Harm',\n",
              " 'Prevent',\n",
              " 'HarmA',\n",
              " 'powerful',\n",
              " 'way',\n",
              " 'applying',\n",
              " 'Prevent',\n",
              " 'Harm',\n",
              " 'principle',\n",
              " 'everyday',\n",
              " 'Sometimes',\n",
              " 'must',\n",
              " 'take',\n",
              " 'action',\n",
              " 'harm',\n",
              " 'occur',\n",
              " 'personal',\n",
              " 'life',\n",
              " 'ensuring',\n",
              " 'toddler',\n",
              " 'secured',\n",
              " 'drive',\n",
              " 'Preventing',\n",
              " 'harm',\n",
              " 'children',\n",
              " 'manner',\n",
              " 'legal',\n",
              " 'requirement',\n",
              " 'ethical',\n",
              " 'obligation',\n",
              " 'state',\n",
              " 'United',\n",
              " 'States',\n",
              " 'many',\n",
              " 'countries',\n",
              " 'use',\n",
              " 'ChatGPT',\n",
              " 'prevent',\n",
              " 'harm',\n",
              " 'others',\n",
              " 'due',\n",
              " 'diligence',\n",
              " 'example',\n",
              " 'suppose',\n",
              " 'want',\n",
              " 'ChatGPT',\n",
              " 'generate',\n",
              " 'short',\n",
              " 'essay',\n",
              " 'three',\n",
              " 'hot',\n",
              " 'trends',\n",
              " 'field',\n",
              " 'plan',\n",
              " 'post',\n",
              " 'LinkedIn',\n",
              " 'page',\n",
              " 'groups',\n",
              " 'belong',\n",
              " 'simply',\n",
              " 'cutting',\n",
              " 'pasting',\n",
              " 'bot',\n",
              " 'generates',\n",
              " 'would',\n",
              " 'irresponsible',\n",
              " 'might',\n",
              " 'contain',\n",
              " 'direct',\n",
              " 'quote',\n",
              " 'someone',\n",
              " 'without',\n",
              " 'attribution',\n",
              " 'might',\n",
              " 'contain',\n",
              " 'false',\n",
              " 'statements',\n",
              " 'Researching',\n",
              " 'chatbot',\n",
              " 'gives',\n",
              " 'help',\n",
              " 'prevent',\n",
              " 'harm',\n",
              " 'others',\n",
              " 'might',\n",
              " 'act',\n",
              " 'upon',\n",
              " 'false',\n",
              " 'information',\n",
              " 'Research',\n",
              " 'also',\n",
              " 'prevent',\n",
              " 'harm',\n",
              " 'reputation',\n",
              " '2',\n",
              " 'Make',\n",
              " 'Things',\n",
              " 'BetterHere',\n",
              " 'literal',\n",
              " 'application',\n",
              " 'Make',\n",
              " 'Things',\n",
              " 'Better',\n",
              " 'also',\n",
              " 'metaphor',\n",
              " 'treat',\n",
              " 'Harm',\n",
              " 'Prevent',\n",
              " 'Harm',\n",
              " 'two',\n",
              " 'crucial',\n",
              " 'principles',\n",
              " 'smart',\n",
              " 'leaders',\n",
              " 'live',\n",
              " 'enough',\n",
              " 'causing',\n",
              " 'harm',\n",
              " 'least',\n",
              " 'expect',\n",
              " 'one',\n",
              " 'another',\n",
              " 'second',\n",
              " 'principle',\n",
              " 'ethical',\n",
              " 'intelligence',\n",
              " 'takes',\n",
              " 'us',\n",
              " 'Make',\n",
              " 'Things',\n",
              " 'Better',\n",
              " 'job',\n",
              " 'description',\n",
              " 'company',\n",
              " 'mission',\n",
              " 'primarily',\n",
              " 'improving',\n",
              " 'things',\n",
              " 'everything',\n",
              " 'fine',\n",
              " 'way',\n",
              " 'would',\n",
              " 'anyone',\n",
              " 'need',\n",
              " 'hire',\n",
              " 'buy',\n",
              " 'products',\n",
              " 'Applied',\n",
              " 'use',\n",
              " 'ChatGPT',\n",
              " 'Make',\n",
              " 'Things',\n",
              " 'Better',\n",
              " 'means',\n",
              " 'ensuring',\n",
              " 'check',\n",
              " 'bot',\n",
              " 'generates',\n",
              " 'origin',\n",
              " 'accuracy',\n",
              " 'saying',\n",
              " 'garbage',\n",
              " 'garbage',\n",
              " 'worth',\n",
              " 'taking',\n",
              " 'heart',\n",
              " 'anytime',\n",
              " 'use',\n",
              " 'artificial',\n",
              " 'intelligence',\n",
              " 'AI',\n",
              " 'good',\n",
              " 'goes',\n",
              " '3',\n",
              " 'Respect',\n",
              " 'Others',\n",
              " 'third',\n",
              " 'principle',\n",
              " 'ethical',\n",
              " 'intelligence',\n",
              " 'Respect',\n",
              " 'Others',\n",
              " 'Three',\n",
              " 'components',\n",
              " 'principle',\n",
              " 'Tell',\n",
              " 'truth',\n",
              " 'Protect',\n",
              " 'confidentiality',\n",
              " 'Keep',\n",
              " 'promises',\n",
              " 'Let',\n",
              " 'consider',\n",
              " 'applies',\n",
              " 'using',\n",
              " 'ChatGPT',\n",
              " 'right',\n",
              " 'way',\n",
              " 'Tell',\n",
              " 'TruthThis',\n",
              " 'exactly',\n",
              " 'problem',\n",
              " 'talking',\n",
              " 'Keeping',\n",
              " 'mind',\n",
              " 'garbage',\n",
              " 'garbage',\n",
              " 'text',\n",
              " 'ChatGPT',\n",
              " 'generative',\n",
              " 'AI',\n",
              " 'platforms',\n",
              " 'yield',\n",
              " 'truthful',\n",
              " 'fanciful',\n",
              " 'information',\n",
              " 'given',\n",
              " 'Whether',\n",
              " 'using',\n",
              " 'AI',\n",
              " 'bot',\n",
              " 'craft',\n",
              " 'press',\n",
              " 'release',\n",
              " 'write',\n",
              " 'blog',\n",
              " 'post',\n",
              " 'help',\n",
              " 'create',\n",
              " 'chapters',\n",
              " 'book',\n",
              " 'behooves',\n",
              " 'ensure',\n",
              " 'whatever',\n",
              " 'release',\n",
              " 'world',\n",
              " 'true',\n",
              " 'likely',\n",
              " 'true',\n",
              " 'Yes',\n",
              " 'requires',\n",
              " 'time',\n",
              " 'effort',\n",
              " 'publishing',\n",
              " 'whatever',\n",
              " 'get',\n",
              " 'bot',\n",
              " 'right',\n",
              " 'thing',\n",
              " 'might',\n",
              " 'even',\n",
              " 'spend',\n",
              " 'money',\n",
              " 'hire',\n",
              " 'expert',\n",
              " 'review',\n",
              " 'bot',\n",
              " 'generated',\n",
              " 'easier',\n",
              " 'skip',\n",
              " 'step',\n",
              " 'one',\n",
              " 'example',\n",
              " 'easier',\n",
              " 'better',\n",
              " 'Another',\n",
              " 'way',\n",
              " 'demonstrates',\n",
              " 'respect',\n",
              " 'others',\n",
              " 'acknowledging',\n",
              " 'role',\n",
              " 'ChatGPT',\n",
              " 'played',\n",
              " 'written',\n",
              " 'material',\n",
              " 'present',\n",
              " 'world',\n",
              " 'quote',\n",
              " 'someone',\n",
              " 'article',\n",
              " 'speech',\n",
              " 'without',\n",
              " 'giving',\n",
              " 'credit',\n",
              " 'Likewise',\n",
              " 'transparent',\n",
              " 'used',\n",
              " 'AI',\n",
              " 'chatbot',\n",
              " 'right',\n",
              " 'thing',\n",
              " 'Protect',\n",
              " 'ConfidentialityWant',\n",
              " 'know',\n",
              " 'secret',\n",
              " 'Well',\n",
              " 'right',\n",
              " 'tell',\n",
              " 'Whether',\n",
              " 'field',\n",
              " 'healthcare',\n",
              " 'law',\n",
              " 'business',\n",
              " 'education',\n",
              " 'government',\n",
              " 'risk',\n",
              " 'violating',\n",
              " 'duty',\n",
              " 'protect',\n",
              " 'confidentiality',\n",
              " 'carefully',\n",
              " 'review',\n",
              " 'ChatGPT',\n",
              " 'generates',\n",
              " 'put',\n",
              " 'world',\n",
              " 'airplane',\n",
              " 'awaiting',\n",
              " 'takeoff',\n",
              " 'overheard',\n",
              " 'passenger',\n",
              " 'calling',\n",
              " 'prescription',\n",
              " 'patient',\n",
              " 'mentioned',\n",
              " 'patient',\n",
              " 'full',\n",
              " 'name',\n",
              " 'name',\n",
              " 'medication',\n",
              " 'gross',\n",
              " 'violation',\n",
              " 'duty',\n",
              " 'medical',\n",
              " 'ethics',\n",
              " 'protect',\n",
              " 'patient',\n",
              " 'confidentiality',\n",
              " 'physician',\n",
              " 'known',\n",
              " 'better',\n",
              " 'writing',\n",
              " 'however',\n",
              " 'generative',\n",
              " 'AI',\n",
              " 'exercise',\n",
              " 'discretion',\n",
              " 'physician',\n",
              " 'plane',\n",
              " 'lacked',\n",
              " 'Since',\n",
              " 'bot',\n",
              " 'must',\n",
              " 'requires',\n",
              " 'yet',\n",
              " 'time',\n",
              " 'effort',\n",
              " 'research',\n",
              " 'see',\n",
              " 'recurring',\n",
              " 'theme',\n",
              " 'proper',\n",
              " 'use',\n",
              " 'ChatGPT',\n",
              " 'chatbots',\n",
              " 'Keep',\n",
              " 'PromisesA',\n",
              " 'handshake',\n",
              " 'one',\n",
              " 'way',\n",
              " 'make',\n",
              " 'promises',\n",
              " 'every',\n",
              " 'form',\n",
              " 'worth',\n",
              " 'taking',\n",
              " 'Consider',\n",
              " 'contract',\n",
              " 'signed',\n",
              " 'employer',\n",
              " 'entrepreneur',\n",
              " 'directly',\n",
              " 'client',\n",
              " 'contract',\n",
              " 'legal',\n",
              " 'document',\n",
              " 'Yes',\n",
              " 'Yes',\n",
              " 'business',\n",
              " 'contract',\n",
              " 'promise',\n",
              " 'agree',\n",
              " 'provide',\n",
              " 'certain',\n",
              " 'services',\n",
              " 'products',\n",
              " 'company',\n",
              " 'client',\n",
              " 'pays',\n",
              " 'return',\n",
              " 'party',\n",
              " 'reneges',\n",
              " 'deal',\n",
              " 'Suppose',\n",
              " 'publish',\n",
              " 'distribute',\n",
              " 'ChatGPT',\n",
              " 'generates',\n",
              " 'without',\n",
              " 'carefully',\n",
              " 'reviewing',\n",
              " 'editing',\n",
              " 'break',\n",
              " 'implicit',\n",
              " 'explicit',\n",
              " 'promise',\n",
              " 'made',\n",
              " 'trustworthy',\n",
              " 'person',\n",
              " 'Walter',\n",
              " 'Landor',\n",
              " 'said',\n",
              " 'brand',\n",
              " 'exactly',\n",
              " 'promising',\n",
              " 'people',\n",
              " 'read',\n",
              " 'work',\n",
              " 'substantially',\n",
              " 'Using',\n",
              " 'AI',\n",
              " 'chatbot',\n",
              " 'write',\n",
              " 'put',\n",
              " 'forth',\n",
              " 'breach',\n",
              " 'faith',\n",
              " 'audience',\n",
              " 'Wise',\n",
              " 'leaders',\n",
              " 'care',\n",
              " 'deeply',\n",
              " 'trustworthy',\n",
              " 'consistent',\n",
              " 'ethical',\n",
              " 'conduct',\n",
              " 'earn',\n",
              " 'trust',\n",
              " 'employers',\n",
              " 'clients',\n",
              " '4',\n",
              " 'FairHow',\n",
              " 'mitigate',\n",
              " 'effects',\n",
              " 'biases',\n",
              " 'Read',\n",
              " 'fourth',\n",
              " 'principle',\n",
              " 'ethical',\n",
              " 'intelligence',\n",
              " 'Fair',\n",
              " 'fair',\n",
              " 'give',\n",
              " 'others',\n",
              " 'due',\n",
              " 'obstacle',\n",
              " 'bias',\n",
              " 'embedded',\n",
              " 'information',\n",
              " 'ChatGPT',\n",
              " 'chatbots',\n",
              " 'use',\n",
              " 'answer',\n",
              " 'questions',\n",
              " 'pose',\n",
              " 'garbage',\n",
              " 'garbage',\n",
              " 'Suppose',\n",
              " 'written',\n",
              " 'material',\n",
              " 'using',\n",
              " 'shaped',\n",
              " 'biases',\n",
              " 'related',\n",
              " 'age',\n",
              " 'race',\n",
              " 'gender',\n",
              " 'politics',\n",
              " 'sexual',\n",
              " 'orientation',\n",
              " 'risk',\n",
              " 'perpetuating',\n",
              " 'bias',\n",
              " 'cutting',\n",
              " 'pasting',\n",
              " 'whatever',\n",
              " 'bot',\n",
              " 'gives',\n",
              " 'email',\n",
              " 'blog',\n",
              " 'social',\n",
              " 'media',\n",
              " 'post',\n",
              " 'book',\n",
              " 'second',\n",
              " 'way',\n",
              " 'use',\n",
              " 'ChatGPT',\n",
              " 'fairly',\n",
              " 'ensure',\n",
              " 'appropriating',\n",
              " 'someone',\n",
              " 'else',\n",
              " 'intellectual',\n",
              " 'property',\n",
              " 'ethically',\n",
              " 'intelligent',\n",
              " 'use',\n",
              " 'ChatGPT',\n",
              " 'like',\n",
              " 'requires',\n",
              " 'human',\n",
              " 'intervention',\n",
              " '5',\n",
              " 'Care',\n",
              " 'Care',\n",
              " 'fifth',\n",
              " 'principle',\n",
              " 'ethical',\n",
              " 'intelligence',\n",
              " 'Care',\n",
              " 'feeling',\n",
              " 'world',\n",
              " 'way',\n",
              " 'acting',\n",
              " 'evince',\n",
              " 'care',\n",
              " 'professional',\n",
              " 'life',\n",
              " 'something',\n",
              " 'simple',\n",
              " 'sending',\n",
              " 'handwritten',\n",
              " 'note',\n",
              " 'new',\n",
              " 'client',\n",
              " 'taking',\n",
              " 'project',\n",
              " 'colleague',\n",
              " 'finish',\n",
              " 'illness',\n",
              " 'Concerning',\n",
              " 'ChatGPT',\n",
              " 'demonstrate',\n",
              " 'care',\n",
              " 'research',\n",
              " 'done',\n",
              " 'ensure',\n",
              " 'distribute',\n",
              " 'accurate',\n",
              " 'fair',\n",
              " 'likely',\n",
              " 'harm',\n",
              " 'others',\n",
              " 'good',\n",
              " 'reputation',\n",
              " 'business',\n",
              " 'Summary',\n",
              " 'principles',\n",
              " 'ethical',\n",
              " 'intelligencePrint',\n",
              " 'section',\n",
              " 'article',\n",
              " 'post',\n",
              " 'near',\n",
              " '1',\n",
              " 'Harm',\n",
              " 'Prevent',\n",
              " 'Harm',\n",
              " '2',\n",
              " 'Make',\n",
              " 'Things',\n",
              " 'Better',\n",
              " '3',\n",
              " 'Respect',\n",
              " 'Others',\n",
              " 'Tell',\n",
              " 'Truth',\n",
              " 'Protect',\n",
              " 'Confidentiality',\n",
              " 'Keep',\n",
              " 'Promises',\n",
              " '4',\n",
              " 'Fair',\n",
              " '5',\n",
              " 'Care',\n",
              " 'principles',\n",
              " 'come',\n",
              " 'principles',\n",
              " 'ethical',\n",
              " 'intelligence',\n",
              " 'everywhere',\n",
              " 'Whether',\n",
              " 'act',\n",
              " 'another',\n",
              " 'five',\n",
              " 'principles',\n",
              " 'ethical',\n",
              " 'Harm',\n",
              " 'Make',\n",
              " 'Things',\n",
              " 'Better',\n",
              " 'Respect',\n",
              " 'Others',\n",
              " 'Fair',\n",
              " 'derived',\n",
              " 'Tom',\n",
              " 'Beauchamp',\n",
              " 'James',\n",
              " 'Childress',\n",
              " 'pioneering',\n",
              " 'work',\n",
              " 'Principles',\n",
              " 'Biomedical',\n",
              " 'Ethics',\n",
              " '8th',\n",
              " 'edition',\n",
              " 'New',\n",
              " 'York',\n",
              " 'Oxford',\n",
              " 'University',\n",
              " 'Press',\n",
              " '2019',\n",
              " 'made',\n",
              " 'two',\n",
              " 'changes',\n",
              " 'simplified',\n",
              " 'language',\n",
              " 'example',\n",
              " 'Beauchamp',\n",
              " 'Childress',\n",
              " 'refer',\n",
              " 'principle',\n",
              " 'nonmaleficence',\n",
              " 'call',\n",
              " 'Harm',\n",
              " 'broadened',\n",
              " 'scope',\n",
              " 'principles',\n",
              " 'include',\n",
              " 'healthcare',\n",
              " 'biomedical',\n",
              " 'research',\n",
              " 'also',\n",
              " 'business',\n",
              " 'law',\n",
              " 'government',\n",
              " 'education',\n",
              " 'beyond',\n",
              " 'Also',\n",
              " 'parents',\n",
              " 'teachers',\n",
              " 'taught',\n",
              " 'us',\n",
              " 'principles',\n",
              " 'one',\n",
              " 'form',\n",
              " 'another',\n",
              " 'Corporate',\n",
              " 'codes',\n",
              " 'conduct',\n",
              " 'values',\n",
              " 'statements',\n",
              " 'based',\n",
              " 'cases',\n",
              " 'explicitly',\n",
              " 'refer',\n",
              " 'principles',\n",
              " 'principles',\n",
              " 'prominent',\n",
              " 'place',\n",
              " 'sacred',\n",
              " 'texts',\n",
              " 'religions',\n",
              " 'See',\n",
              " 'example',\n",
              " 'Jeffrey',\n",
              " 'Moses',\n",
              " 'Oneness',\n",
              " 'Great',\n",
              " 'Principles',\n",
              " 'Shared',\n",
              " 'Religions',\n",
              " 'Revised',\n",
              " 'Expanded',\n",
              " 'Edition',\n",
              " 'New',\n",
              " 'York',\n",
              " 'Ballantine',\n",
              " 'Books',\n",
              " '2002',\n",
              " 'would',\n",
              " 'life',\n",
              " 'like',\n",
              " 'people',\n",
              " 'connected',\n",
              " 'way',\n",
              " 'habitually',\n",
              " 'disregarded',\n",
              " 'principles',\n",
              " 'ethical',\n",
              " 'intelligence',\n",
              " 'Call',\n",
              " 'ActionTime',\n",
              " 'take',\n",
              " 'action',\n",
              " 'getty',\n",
              " 'spent',\n",
              " 'several',\n",
              " 'minutes',\n",
              " 'reading',\n",
              " 'article',\n",
              " 'get',\n",
              " ...]"
            ]
          },
          "metadata": {},
          "execution_count": 105
        }
      ]
    },
    {
      "cell_type": "code",
      "source": [
        "from wordcloud import WordCloud"
      ],
      "metadata": {
        "id": "pEj2qCb16X_n"
      },
      "execution_count": 106,
      "outputs": []
    },
    {
      "cell_type": "code",
      "source": [
        "chatGPT_words_new = (\" \").join(chatGPT_words)"
      ],
      "metadata": {
        "id": "MGP_Ggcy6X8X"
      },
      "execution_count": 107,
      "outputs": []
    },
    {
      "cell_type": "code",
      "source": [
        "wordcloud = WordCloud(width=4000, height=2000).generate(chatGPT_words_new)\n",
        "plt.imshow(wordcloud)\n",
        "plt.axis(\"off\")\n",
        "plt.show()"
      ],
      "metadata": {
        "colab": {
          "base_uri": "https://localhost:8080/",
          "height": 198
        },
        "id": "cxDw5iRY6Il6",
        "outputId": "85e19c78-ae25-449f-e794-1a466e5c3eed"
      },
      "execution_count": 109,
      "outputs": [
        {
          "output_type": "display_data",
          "data": {
            "text/plain": [
              "<Figure size 432x288 with 1 Axes>"
            ],
            "image/png": "[encoded data removed]"
          },
          "metadata": {
            "needs_background": "light"
          }
        }
      ]
    },
    {
      "cell_type": "markdown",
      "source": [
        "**This is a template for other sources**"
      ],
      "metadata": {
        "id": "WqipgvF2Cg2r"
      }
    }
  ]
}