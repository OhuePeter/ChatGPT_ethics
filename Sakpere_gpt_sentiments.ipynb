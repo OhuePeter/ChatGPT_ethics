{
  "nbformat": 4,
  "nbformat_minor": 0,
  "metadata": {
    "colab": {
      "provenance": []
    },
    "kernelspec": {
      "name": "python3",
      "display_name": "Python 3"
    },
    "language_info": {
      "name": "python"
    }
  },
  "cells": [
    {
      "cell_type": "markdown",
      "source": [
        "Analysing GPT Text\n"
      ],
      "metadata": {
        "id": "Mb44ocM0zbTO"
      }
    },
    {
      "cell_type": "code",
      "source": [
        "# Import Modules\n",
        "\n",
        "import numpy as np\n",
        "import pandas as pd\n",
        "import re\n",
        "import seaborn as sns\n",
        "import matplotlib.pyplot as plt\n",
        "%matplotlib inline\n",
        "import string\n",
        "import nltk\n",
        "import requests\n",
        "from bs4 import BeautifulSoup\n",
        "import random\n",
        "from wordcloud import WordCloud\n",
        "import os\n",
        "import spacy\n",
        "\n",
        "import warnings\n",
        "\n",
        "warnings.filterwarnings(\"ignore\")\n",
        "\n"
      ],
      "metadata": {
        "colab": {
          "base_uri": "https://localhost:8080/"
        },
        "id": "OlY2OudOg5gQ",
        "outputId": "8a4c2322-7a73-403b-eb2e-a064b3719252"
      },
      "execution_count": 2,
      "outputs": [
        {
          "output_type": "stream",
          "name": "stderr",
          "text": [
            "/usr/local/lib/python3.9/dist-packages/torch/cuda/__init__.py:497: UserWarning: Can't initialize NVML\n",
            "  warnings.warn(\"Can't initialize NVML\")\n"
          ]
        }
      ]
    },
    {
      "cell_type": "code",
      "source": [
        "!pip install pattern"
      ],
      "metadata": {
        "colab": {
          "base_uri": "https://localhost:8080/"
        },
        "id": "qAiqornLouhj",
        "outputId": "b4378b13-86a8-487c-ece6-332f0db1a89c"
      },
      "execution_count": 3,
      "outputs": [
        {
          "output_type": "stream",
          "name": "stdout",
          "text": [
            "Looking in indexes: https://pypi.org/simple, https://us-python.pkg.dev/colab-wheels/public/simple/\n",
            "Collecting pattern\n",
            "  Downloading Pattern-3.6.0.tar.gz (22.2 MB)\n",
            "\u001b[2K     \u001b[90m━━━━━━━━━━━━━━━━━━━━━━━━━━━━━━━━━━━━━━━━\u001b[0m \u001b[32m22.2/22.2 MB\u001b[0m \u001b[31m43.8 MB/s\u001b[0m eta \u001b[36m0:00:00\u001b[0m\n",
            "\u001b[?25h  Preparing metadata (setup.py) ... \u001b[?25l\u001b[?25hdone\n",
            "Requirement already satisfied: future in /usr/local/lib/python3.9/dist-packages (from pattern) (0.18.3)\n",
            "Collecting backports.csv\n",
            "  Downloading backports.csv-1.0.7-py2.py3-none-any.whl (12 kB)\n",
            "Collecting mysqlclient\n",
            "  Downloading mysqlclient-2.1.1.tar.gz (88 kB)\n",
            "\u001b[2K     \u001b[90m━━━━━━━━━━━━━━━━━━━━━━━━━━━━━━━━━━━━━━━━\u001b[0m \u001b[32m88.1/88.1 KB\u001b[0m \u001b[31m9.1 MB/s\u001b[0m eta \u001b[36m0:00:00\u001b[0m\n",
            "\u001b[?25h  Preparing metadata (setup.py) ... \u001b[?25l\u001b[?25hdone\n",
            "Requirement already satisfied: beautifulsoup4 in /usr/local/lib/python3.9/dist-packages (from pattern) (4.11.2)\n",
            "Requirement already satisfied: lxml in /usr/local/lib/python3.9/dist-packages (from pattern) (4.9.2)\n",
            "Collecting feedparser\n",
            "  Downloading feedparser-6.0.10-py3-none-any.whl (81 kB)\n",
            "\u001b[2K     \u001b[90m━━━━━━━━━━━━━━━━━━━━━━━━━━━━━━━━━━━━━━━━\u001b[0m \u001b[32m81.1/81.1 KB\u001b[0m \u001b[31m7.7 MB/s\u001b[0m eta \u001b[36m0:00:00\u001b[0m\n",
            "\u001b[?25hCollecting pdfminer.six\n",
            "  Downloading pdfminer.six-20221105-py3-none-any.whl (5.6 MB)\n",
            "\u001b[2K     \u001b[90m━━━━━━━━━━━━━━━━━━━━━━━━━━━━━━━━━━━━━━━━\u001b[0m \u001b[32m5.6/5.6 MB\u001b[0m \u001b[31m81.1 MB/s\u001b[0m eta \u001b[36m0:00:00\u001b[0m\n",
            "\u001b[?25hRequirement already satisfied: numpy in /usr/local/lib/python3.9/dist-packages (from pattern) (1.22.4)\n",
            "Requirement already satisfied: scipy in /usr/local/lib/python3.9/dist-packages (from pattern) (1.10.1)\n",
            "Requirement already satisfied: nltk in /usr/local/lib/python3.9/dist-packages (from pattern) (3.8.1)\n",
            "Collecting python-docx\n",
            "  Downloading python-docx-0.8.11.tar.gz (5.6 MB)\n",
            "\u001b[2K     \u001b[90m━━━━━━━━━━━━━━━━━━━━━━━━━━━━━━━━━━━━━━━━\u001b[0m \u001b[32m5.6/5.6 MB\u001b[0m \u001b[31m39.5 MB/s\u001b[0m eta \u001b[36m0:00:00\u001b[0m\n",
            "\u001b[?25h  Preparing metadata (setup.py) ... \u001b[?25l\u001b[?25hdone\n",
            "Collecting cherrypy\n",
            "  Downloading CherryPy-18.8.0-py2.py3-none-any.whl (348 kB)\n",
            "\u001b[2K     \u001b[90m━━━━━━━━━━━━━━━━━━━━━━━━━━━━━━━━━━━━━━\u001b[0m \u001b[32m348.4/348.4 KB\u001b[0m \u001b[31m27.8 MB/s\u001b[0m eta \u001b[36m0:00:00\u001b[0m\n",
            "\u001b[?25hRequirement already satisfied: requests in /usr/local/lib/python3.9/dist-packages (from pattern) (2.27.1)\n",
            "Requirement already satisfied: soupsieve>1.2 in /usr/local/lib/python3.9/dist-packages (from beautifulsoup4->pattern) (2.4)\n",
            "Collecting cheroot>=8.2.1\n",
            "  Downloading cheroot-9.0.0-py2.py3-none-any.whl (100 kB)\n",
            "\u001b[2K     \u001b[90m━━━━━━━━━━━━━━━━━━━━━━━━━━━━━━━━━━━━━━\u001b[0m \u001b[32m100.6/100.6 KB\u001b[0m \u001b[31m11.8 MB/s\u001b[0m eta \u001b[36m0:00:00\u001b[0m\n",
            "\u001b[?25hCollecting zc.lockfile\n",
            "  Downloading zc.lockfile-3.0.post1-py3-none-any.whl (9.8 kB)\n",
            "Collecting portend>=2.1.1\n",
            "  Downloading portend-3.1.0-py3-none-any.whl (5.3 kB)\n",
            "Collecting jaraco.collections\n",
            "  Downloading jaraco.collections-4.0.0-py3-none-any.whl (10 kB)\n",
            "Requirement already satisfied: more-itertools in /usr/local/lib/python3.9/dist-packages (from cherrypy->pattern) (9.1.0)\n",
            "Collecting sgmllib3k\n",
            "  Downloading sgmllib3k-1.0.0.tar.gz (5.8 kB)\n",
            "  Preparing metadata (setup.py) ... \u001b[?25l\u001b[?25hdone\n",
            "Requirement already satisfied: joblib in /usr/local/lib/python3.9/dist-packages (from nltk->pattern) (1.1.1)\n",
            "Requirement already satisfied: click in /usr/local/lib/python3.9/dist-packages (from nltk->pattern) (8.1.3)\n",
            "Requirement already satisfied: regex>=2021.8.3 in /usr/local/lib/python3.9/dist-packages (from nltk->pattern) (2022.10.31)\n",
            "Requirement already satisfied: tqdm in /usr/local/lib/python3.9/dist-packages (from nltk->pattern) (4.65.0)\n",
            "Requirement already satisfied: charset-normalizer>=2.0.0 in /usr/local/lib/python3.9/dist-packages (from pdfminer.six->pattern) (2.0.12)\n",
            "Requirement already satisfied: cryptography>=36.0.0 in /usr/local/lib/python3.9/dist-packages (from pdfminer.six->pattern) (39.0.2)\n",
            "Requirement already satisfied: urllib3<1.27,>=1.21.1 in /usr/local/lib/python3.9/dist-packages (from requests->pattern) (1.26.15)\n",
            "Requirement already satisfied: certifi>=2017.4.17 in /usr/local/lib/python3.9/dist-packages (from requests->pattern) (2022.12.7)\n",
            "Requirement already satisfied: idna<4,>=2.5 in /usr/local/lib/python3.9/dist-packages (from requests->pattern) (3.4)\n",
            "Requirement already satisfied: six>=1.11.0 in /usr/local/lib/python3.9/dist-packages (from cheroot>=8.2.1->cherrypy->pattern) (1.16.0)\n",
            "Collecting jaraco.functools\n",
            "  Downloading jaraco.functools-3.6.0-py3-none-any.whl (7.9 kB)\n",
            "Requirement already satisfied: cffi>=1.12 in /usr/local/lib/python3.9/dist-packages (from cryptography>=36.0.0->pdfminer.six->pattern) (1.15.1)\n",
            "Collecting tempora>=1.8\n",
            "  Downloading tempora-5.2.1-py3-none-any.whl (13 kB)\n",
            "Collecting jaraco.text\n",
            "  Downloading jaraco.text-3.11.1-py3-none-any.whl (11 kB)\n",
            "Requirement already satisfied: setuptools in /usr/local/lib/python3.9/dist-packages (from zc.lockfile->cherrypy->pattern) (67.6.0)\n",
            "Requirement already satisfied: pycparser in /usr/local/lib/python3.9/dist-packages (from cffi>=1.12->cryptography>=36.0.0->pdfminer.six->pattern) (2.21)\n",
            "Requirement already satisfied: pytz in /usr/local/lib/python3.9/dist-packages (from tempora>=1.8->portend>=2.1.1->cherrypy->pattern) (2022.7.1)\n",
            "Requirement already satisfied: inflect in /usr/local/lib/python3.9/dist-packages (from jaraco.text->jaraco.collections->cherrypy->pattern) (6.0.2)\n",
            "Collecting jaraco.context>=4.1\n",
            "  Downloading jaraco.context-4.3.0-py3-none-any.whl (5.3 kB)\n",
            "Collecting autocommand\n",
            "  Downloading autocommand-2.2.2-py3-none-any.whl (19 kB)\n",
            "Requirement already satisfied: pydantic>=1.9.1 in /usr/local/lib/python3.9/dist-packages (from inflect->jaraco.text->jaraco.collections->cherrypy->pattern) (1.10.7)\n",
            "Requirement already satisfied: typing-extensions>=4.2.0 in /usr/local/lib/python3.9/dist-packages (from pydantic>=1.9.1->inflect->jaraco.text->jaraco.collections->cherrypy->pattern) (4.5.0)\n",
            "Building wheels for collected packages: pattern, mysqlclient, python-docx, sgmllib3k\n",
            "  Building wheel for pattern (setup.py) ... \u001b[?25l\u001b[?25hdone\n",
            "  Created wheel for pattern: filename=Pattern-3.6-py3-none-any.whl size=22332718 sha256=287fd167c14b9ee1a592e47259ea7af20a08e9f622ca43ddbf6bebc4c5907658\n",
            "  Stored in directory: /root/.cache/pip/wheels/50/33/f3/ea00b80d50c09f210588bda15ec60bdb38b289b452577cd5c3\n",
            "  Building wheel for mysqlclient (setup.py) ... \u001b[?25l\u001b[?25hdone\n",
            "  Created wheel for mysqlclient: filename=mysqlclient-2.1.1-cp39-cp39-linux_x86_64.whl size=107587 sha256=9f76e3a9b31eb951b11bbd1e24e32d38e4fa97c038cbf5283c6319b619caa790\n",
            "  Stored in directory: /root/.cache/pip/wheels/f3/a5/27/c6312d8008951cfd5511684378a9e057b82006c70e1fea6107\n",
            "  Building wheel for python-docx (setup.py) ... \u001b[?25l\u001b[?25hdone\n",
            "  Created wheel for python-docx: filename=python_docx-0.8.11-py3-none-any.whl size=184505 sha256=7465b41cefcd0bc5c70b290430eb50f7f6bca3aab229d0827e649cf1ccea1dde\n",
            "  Stored in directory: /root/.cache/pip/wheels/83/8b/7c/09ae60c42c7ba4ed2dddaf2b8b9186cb105255856d6ed3dba5\n",
            "  Building wheel for sgmllib3k (setup.py) ... \u001b[?25l\u001b[?25hdone\n",
            "  Created wheel for sgmllib3k: filename=sgmllib3k-1.0.0-py3-none-any.whl size=6065 sha256=4b9f07964eaff64cf4716c30422f4c48cf203dff60711bb3e47cc974d8738959\n",
            "  Stored in directory: /root/.cache/pip/wheels/65/7a/a7/78c287f64e401255dff4c13fdbc672fed5efbfd21c530114e1\n",
            "Successfully built pattern mysqlclient python-docx sgmllib3k\n",
            "Installing collected packages: sgmllib3k, backports.csv, zc.lockfile, python-docx, mysqlclient, jaraco.functools, jaraco.context, feedparser, autocommand, tempora, cheroot, portend, pdfminer.six, jaraco.text, jaraco.collections, cherrypy, pattern\n",
            "Successfully installed autocommand-2.2.2 backports.csv-1.0.7 cheroot-9.0.0 cherrypy-18.8.0 feedparser-6.0.10 jaraco.collections-4.0.0 jaraco.context-4.3.0 jaraco.functools-3.6.0 jaraco.text-3.11.1 mysqlclient-2.1.1 pattern-3.6 pdfminer.six-20221105 portend-3.1.0 python-docx-0.8.11 sgmllib3k-1.0.0 tempora-5.2.1 zc.lockfile-3.0.post1\n"
          ]
        }
      ]
    },
    {
      "cell_type": "code",
      "source": [
        "import spacy\n",
        "nlp = spacy.load('en_core_web_sm')\n",
        "from textblob import TextBlob\n",
        "\n",
        "from pattern.en import sentiment"
      ],
      "metadata": {
        "id": "xV28LbxaoY8a"
      },
      "execution_count": 4,
      "outputs": []
    },
    {
      "cell_type": "code",
      "source": [
        "# Use request package to make a GET request for the website.\n",
        "\n",
        "req =requests.get('https://www.forbes.com/sites/bruceweinstein/2023/02/24/why-smart-leaders-use-chatgpt-ethically-and-how-they-do-it/?sh=33910cf4361b')\n"
      ],
      "metadata": {
        "id": "xmbcCHUOoC34"
      },
      "execution_count": 5,
      "outputs": []
    },
    {
      "cell_type": "code",
      "execution_count": 6,
      "metadata": {
        "id": "HbDE3fy4vykZ"
      },
      "outputs": [],
      "source": [
        "# using the correct encoding of html page\n",
        "\n",
        "req.encoding = 'utf-8'"
      ]
    },
    {
      "cell_type": "code",
      "source": [
        "# Extract the html\n",
        "html = req.text"
      ],
      "metadata": {
        "id": "2Z7p2Tivqicu"
      },
      "execution_count": 7,
      "outputs": []
    },
    {
      "cell_type": "code",
      "source": [
        "# Printing the first 100 characters in html\n",
        "print(html[:1000])"
      ],
      "metadata": {
        "colab": {
          "base_uri": "https://localhost:8080/"
        },
        "id": "RONHYc3wqiZF",
        "outputId": "73f2ca91-0f64-48b4-e0ac-7f6edb5a5046"
      },
      "execution_count": 8,
      "outputs": [
        {
          "output_type": "stream",
          "name": "stdout",
          "text": [
            "<!DOCTYPE html><html lang=\"en\"><head><link rel=\"preload\" as=\"font\" href=\"https://i.forbesimg.com/assets/fonts/merriweather/merriweather-bold-webfont.woff2\" type=\"font/woff2\" crossorigin><link rel=\"preload\" as=\"font\" href=\"https://i.forbesimg.com/assets/fonts/work-sans/worksans-regular-webfont.woff2\" type=\"font/woff2\" crossorigin><script>window.ga=window.ga||function(){(ga.q=ga.q||[]).push(arguments)};ga.l=+new Date;</script><script type=\"text/javascript\" async src=\"https://www.google-analytics.com/analytics.js\"></script><script type=\"text/javascript\" async src=\"//imasdk.googleapis.com/js/sdkloader/ima3.js\"></script><script type=\"text/javascript\" async src=\"https://www.gstatic.com/readaloud/forbes/player/web/api/js/api.js\"></script><title>Why Smart Leaders Use ChatGPT Ethically And How They Do It</title><meta charset=\"utf-8\"><meta http-equiv=\"Content-Language\" content=\"en_US\"><link rel=\"shortcut icon\" href=\"https://i.forbesimg.com/48X48-F.png\"><meta name=\"referrer\" content=\"no-referrer-\n"
          ]
        }
      ]
    },
    {
      "cell_type": "code",
      "source": [
        "# Create a BeautifulSoup object\n",
        "soup = BeautifulSoup(html)"
      ],
      "metadata": {
        "id": "GdEoIJLEq4Q0"
      },
      "execution_count": 9,
      "outputs": []
    },
    {
      "cell_type": "code",
      "source": [
        "# Get the text out of the soup\n",
        "text = soup.get_text()"
      ],
      "metadata": {
        "id": "MMqKg0yprEDW"
      },
      "execution_count": 10,
      "outputs": []
    },
    {
      "cell_type": "code",
      "source": [
        "len(text)"
      ],
      "metadata": {
        "colab": {
          "base_uri": "https://localhost:8080/"
        },
        "id": "awxWdXNArKTR",
        "outputId": "92c31be2-4303-47cd-8a5c-666112fed265"
      },
      "execution_count": 11,
      "outputs": [
        {
          "output_type": "execute_result",
          "data": {
            "text/plain": [
              "12721"
            ]
          },
          "metadata": {},
          "execution_count": 11
        }
      ]
    },
    {
      "cell_type": "code",
      "source": [
        "# See some text\n",
        "\n",
        "print(text[:2000])"
      ],
      "metadata": {
        "colab": {
          "base_uri": "https://localhost:8080/"
        },
        "id": "a_I8hN49rXd9",
        "outputId": "c5e13cde-f125-426b-d6e0-c7ca7b5ddcf7"
      },
      "execution_count": 12,
      "outputs": [
        {
          "output_type": "stream",
          "name": "stdout",
          "text": [
            "Why Smart Leaders Use ChatGPT Ethically And How They Do ItSubscribe Sign InBETAThis is a BETA experience. You may opt-out by clicking hereMore From ForbesMar 29, 2023,05:32am EDTWhy Working From Home Is Here To StayMar 28, 2023,04:39pm EDTTo Support Women In The Workforce, Stop Focusing On WomenMar 28, 2023,12:07pm EDTThree Lessons For Israeli Protesters From Turkey's Gezi ProtestsMar 28, 2023,11:44am EDTLeading Better Starts With Living BetterMar 28, 2023,11:00am EDTApartment Rents Coming DownMar 28, 2023,10:15am EDTFailure-Proofing Your Meetings: A Neuroscience-Based Strategy For SuccessMar 28, 2023,10:00am EDTKevin Martinez, VP Corporate Citizenship, ESPN: The Changemaker InterviewMar 28, 2023,10:00am EDTThis AI-First Digital Engineering Company Is Transforming The Future Of BusinessEdit StoryForbesLeadershipLeadership StrategyWhy Smart Leaders Use ChatGPT Ethically And How They Do ItBruce Weinstein, Ph.D.ContributorOpinions expressed by Forbes Contributors are their own.Customized ethics keynotes, training, and online courses for CE creditFollowingFeb 24, 2023,03:40pm EST|Press play to listen to this article!\n",
            "Got it!Share to FacebookShare to TwitterShare to LinkedinHere's how to use ChatGPT ethical and why you should bother.SOPA Images/LightRocket via Getty Images\n",
            "You can use ChatGPT, Bard, Bing and other AI-assisted chatbots to enhance your business in the right way if you apply the principles of ethical intelligence.\n",
            "\n",
            "\n",
            "Let’s look at several ethical questions raised by AI chatbots, including:\n",
            "\n",
            "\n",
            "\n",
            "\n",
            "How much of what the bots generate is true?\n",
            "Where does the material come from?\n",
            "How might we cause harm by using AI-generated text in our work?\n",
            "Are we at risk of damaging the trust others place in us when we use this material in our work?\n",
            "\n",
            "\n",
            "\n",
            "Why should you bother with ethics at all? I’ll explain why and then present five principles that enable you to use artificial intelligence with ethical intelligence.\n",
            "Ethics: So What?\n",
            "Who cares about ethics? You should, if you want t\n"
          ]
        }
      ]
    },
    {
      "cell_type": "code",
      "source": [
        "# Entire text\n",
        "\n",
        "text"
      ],
      "metadata": {
        "colab": {
          "base_uri": "https://localhost:8080/",
          "height": 140
        },
        "id": "5f4pLEBArXN5",
        "outputId": "9d3099a0-4754-423f-ef60-398c19ffdbe0"
      },
      "execution_count": 13,
      "outputs": [
        {
          "output_type": "execute_result",
          "data": {
            "text/plain": [
              "\"Why Smart Leaders Use ChatGPT Ethically And How They Do ItSubscribe Sign InBETAThis is a BETA experience. You may opt-out by\\xa0clicking hereMore From ForbesMar 29, 2023,05:32am EDTWhy Working From Home Is Here To StayMar 28, 2023,04:39pm EDTTo Support Women In The Workforce, Stop Focusing On WomenMar 28, 2023,12:07pm EDTThree Lessons For Israeli Protesters From Turkey's Gezi ProtestsMar 28, 2023,11:44am EDTLeading Better Starts With Living BetterMar 28, 2023,11:00am EDTApartment Rents Coming DownMar 28, 2023,10:15am EDTFailure-Proofing Your Meetings: A Neuroscience-Based Strategy For SuccessMar 28, 2023,10:00am EDTKevin Martinez, VP Corporate Citizenship, ESPN: The Changemaker InterviewMar 28, 2023,10:00am EDTThis AI-First Digital Engineering Company Is Transforming The Future Of BusinessEdit StoryForbesLeadershipLeadership StrategyWhy Smart Leaders Use ChatGPT Ethically And How They Do ItBruce Weinstein, Ph.D.ContributorOpinions expressed by Forbes Contributors are their own.Customized ethics keynotes, training, and online courses for CE creditFollowingFeb 24, 2023,03:40pm EST|Press play to listen to this article!\\nGot it!Share to FacebookShare to TwitterShare to LinkedinHere's how to use ChatGPT ethical and why you should bother.SOPA Images/LightRocket via Getty Images\\nYou can use ChatGPT, Bard, Bing and other AI-assisted chatbots to enhance your business in the right way if you apply the principles of ethical intelligence.\\n\\n\\nLet’s look at several ethical questions raised by AI chatbots, including:\\n\\n\\n\\n\\nHow much of what the bots generate is true?\\nWhere does the material come from?\\nHow might we cause harm by using AI-generated text in our work?\\nAre we at risk of damaging the trust others place in us when we use this material in our work?\\n\\n\\n\\nWhy should you bother with ethics at all? I’ll explain why and then present five principles that enable you to use artificial intelligence with ethical intelligence.\\nEthics: So What?\\nWho cares about ethics? You should, if you want to enjoy a successful career.getty\\nDoing the right thing takes time and effort. It can cost money. Some of your competitors don’t care about it. Won’t you lose clients to them if you factor ethics into how you use ChatGPT?\\nYou will not lose clients if you take ethics seriously. Just the opposite. The best leaders recognize that ethical conduct is good for its own sake. We owe some things to others, such as not harming them, and it’s wrong to overlook this.\\nMORE FROMFORBES ADVISORBest Travel Insurance CompaniesByAmy DaniseEditorBest Covid-19 Travel Insurance PlansByAmy DaniseEditor\\nThere’s another reason why the best leaders take ethics seriously. It is in their own financial and reputational interest to do so.\\nThe following five principles will help you use ChatGPT with ethical intelligence.\\n\\n1. Do No HarmSomeone isn't taking Do No Harm to heart!getty\\n\\n\\nThe most fundamental principle of ethical intelligence is Do No Harm. The least we can expect of one another is that we don’t make things worse for anyone.\\nThe good news about Do No Harm is that it is a principle of restraint. For example, if you’re driving on the highway and the car in front of you is going more slowly than you’d like, you apply the Do No Harm principle by not tailgating them and flashing your bright headlights.\\nConcerning ChatGPT, you avoid causing harm by not publishing any text that could hurt another person or damage your reputation. You do this through a corollary to the Do No Harm principle, Prevent Harm.\\nPrevent HarmA powerful way of applying the Prevent Harm principle in everyday life.getty\\nSometimes we must take action so that harm doesn’t occur. You do this in your personal life by ensuring your toddler is secured when you drive. Preventing harm to children in this manner is both a legal requirement and an ethical obligation in each state of the United States and in many countries.\\nWhen you use ChatGPT, you prevent harm to others and yourself through due diligence. For example, suppose you want ChatGPT to generate a short essay on three hot trends in your field. You plan to post this on your LinkedIn page and with a few groups you belong to. But simply cutting and pasting what the bot generates would be irresponsible. It might contain a direct quote from someone without attribution. It might contain false statements. Or both.\\nResearching what the chatbot gives you will help you prevent harm to others who might act upon false information. Research will also prevent harm to your reputation.\\n2. Make Things BetterHere is a literal application of Make Things Better. It's also a metaphor for how you treat your ... [+] clients.getty\\nDo No Harm and Prevent Harm are two crucial principles that smart leaders live by, but they’re not enough. Not causing harm is the least we can expect of one another.\\nThe second principle of ethical intelligence takes us further: Make Things Better.\\nYour job description and your company’s mission are primarily about improving things. If everything is fine the way it is, why would anyone need to hire you or buy your products?\\nApplied to your use of ChatGPT, Make Things Better means ensuring that you check what the bot generates for origin and accuracy. The saying, “garbage in, garbage out,” is worth taking to heart anytime you use artificial intelligence. AI is only as good as what goes into it.\\n3. Respect Others\\nThe third principle of ethical intelligence is Respect Others. Three components of this principle are:\\n\\n\\nTell the truth\\nProtect confidentiality\\nKeep promises\\n\\n\\nLet’s consider how each applies to using ChatGPT the right way.\\nTell the TruthThis is exactly the problem we're talking about here.getty\\nKeeping in mind “garbage in, garbage out,” the text that ChatGPT and other generative AI platforms yield are as truthful or fanciful as the information they have been given. Whether you’re using an AI bot to craft a press release, write a blog post or help you create chapters for a book, it behooves you to ensure that whatever you release into the world is true or likely to be true.\\nYes, this requires more time and effort than just publishing whatever you get from the bot, but it’s the right thing to do. You might even have to spend some money and hire an expert to review what the bot has generated.\\nIt’s easier to skip this step, but this is one example where easier isn’t better.\\nAnother way that truth-telling demonstrates your respect for others is by acknowledging the role that ChatGPT has played in the written material you present to the world. You wouldn’t quote someone in your article or speech without giving them credit. Likewise, being transparent about how you’ve used an AI chatbot is the right thing to do.\\nProtect ConfidentialityWant to know a secret? Well, it's not right for me to tell you.getty\\nWhether your field is healthcare, the law, business, education, or the government, you risk violating the duty to protect confidentiality if you don’t carefully review what ChatGPT generates before you put it out into the world.\\nI was once on an airplane awaiting takeoff and overheard a passenger calling in a prescription for a patient. He mentioned the patient’s full name and the name of the medication. This was a gross violation of the duty in medical ethics to protect patient confidentiality. The physician should have known better.\\nAs of this writing, however, not all generative AI can exercise the discretion that the physician on the plane lacked. Since the bot can’t, you must. And that requires yet again some time and effort in research. Do you see a recurring theme here in the proper use of ChatGPT and other chatbots?\\nKeep PromisesA handshake is one way we make promises, but every form is worth taking seriously.getty\\nConsider the contract you’ve signed with your employer or, if you’re an entrepreneur, directly with a client. Is your contract a legal document? Yes. Is it more than that? Yes. A business contract is a two-way promise. You agree to provide certain services or products, and your company or your client pays you in return. If you or the other party reneges, the deal is off.\\nSuppose you publish or distribute what ChatGPT generates without carefully reviewing, fact-checking and editing it. In doing so, you break the implicit or explicit promise you have made to be a trustworthy person. As Walter Landor said, “A brand is a promise.”\\nWhat exactly are you promising to the people who read your work? That it is substantially your own. Using an AI chatbot to write all or most of what you put forth is a breach of faith that your audience has in you.\\nWise leaders care deeply about being trustworthy. It is through consistent ethical conduct that they earn the trust of their employers and clients.\\n4. Be FairHow can we mitigate the effects of our biases? Read on.getty\\nThe fourth principle of ethical intelligence is Be Fair. To be fair is to give others their due. An obstacle to this is the bias that can be embedded in the information that ChatGPT and other chatbots use to answer the questions you pose.\\nAgain, it’s garbage in, garbage out. Suppose the written material you’re using has been shaped by biases related to age, race, gender, politics or sexual orientation. You risk perpetuating that bias by cutting and pasting whatever the bot gives you into an email, blog, social media post, or book.\\nA second way to use ChatGPT fairly is to ensure you’re not appropriating someone else’s intellectual property.\\nOnce again, the ethically intelligent use of ChatGPT and the like requires human intervention.\\n5. Care\\nCare is the fifth principle of ethical intelligence. Care is a feeling about the world and a way of acting in it. You evince care in your professional life by doing something as simple as sending a handwritten thank-you note to a new client or as time-consuming as taking on a project your colleague can’t finish because of illness.\\nConcerning ChatGPT, you demonstrate care by double- and triple-checking the research you’ve done to ensure that what you’re about to distribute is accurate, fair and not likely to harm others or the good reputation of your business.\\nSummary: the principles of ethical intelligencePrint this section of the article and post it near your computer.getty\\n1. Do No Harm\\nPrevent Harm\\n2. Make Things Better\\n3. Respect Others\\nTell the Truth\\nProtect Confidentiality\\nKeep Promises\\n4. Be Fair\\n5. Care\\nWhere do these principles come from?The principles of ethical intelligence are everywhere. Whether we act on them is another matter.getty\\nThe five principles of ethical intelligence—Do No Harm, Make Things Better, Respect Others, Be Fair and Care—are derived from Tom L. Beauchamp and James F. Childress’s pioneering work, Principles of Biomedical Ethics, 8th edition (New York: Oxford University Press, 2019). I’ve made two changes:\\n\\n\\nI simplified the language. For example, what Beauchamp and Childress refer to as the principle of nonmaleficence I call Do No Harm.\\nI broadened the scope of the principles to include not only healthcare and biomedical research but also business, the law, government, education and beyond.\\n\\n\\nAlso, our parents and teachers taught us these principles in one form or another. Corporate codes of conduct and values statements are based on and, in some cases, explicitly refer to these principles. The principles have a prominent place in the sacred texts of religions. (See, for example, Jeffrey Moses, Oneness: Great Principles Shared by All Religions, Revised and Expanded Edition (New York: Ballantine Books, 2002).\\nWhat would your life be like if most of the people connected to you in some way habitually disregarded the principles of ethical intelligence?\\nCall to ActionTime to take action!getty\\nYou’ve just spent several minutes reading this article. You can get a significant return on your investment by doing the following two things.\\n\\n\\nLook at ChatGPT and other AI-assisted chatbots as devices that can enhance your work, not substitute for it.\\nInstead of distributing to others whatever ChatGPT says in answer to a question you ask, do your due diligence. Find out if the statements ChatGPT has made are true. See who else has been writing or saying something along these lines and cite the most trustworthy of them. Avoid cutting and pasting what the bot says and calling it your own.\\n\\n\\nThe principles presented here will help you use artificial intelligence with ethical intelligence. They are a framework, not a formula, for doing the right thing. Your company, your clients and your reputation deserve nothing less than the best you can give them.\\nFollow me on\\xa0Twitter\\xa0or\\xa0LinkedIn.\\xa0Check out\\xa0my\\xa0website\\xa0or\\xa0some of my other work\\xa0here.\\xa0Bruce Weinstein, Ph.D.Editorial StandardsPrintReprints & Permissions\""
            ],
            "application/vnd.google.colaboratory.intrinsic+json": {
              "type": "string"
            }
          },
          "metadata": {},
          "execution_count": 13
        }
      ]
    },
    {
      "cell_type": "code",
      "source": [
        "clean_text= text.replace(\"\\n\", \" \")"
      ],
      "metadata": {
        "id": "wUjd4_fvrEAQ"
      },
      "execution_count": 14,
      "outputs": []
    },
    {
      "cell_type": "code",
      "source": [
        "clean_text= clean_text.replace(\"/\", \" \")       "
      ],
      "metadata": {
        "id": "jLwDPZJ6q4MI"
      },
      "execution_count": 15,
      "outputs": []
    },
    {
      "cell_type": "code",
      "source": [
        "clean_text= ''.join([c for c in clean_text if c != \"\\'\"])"
      ],
      "metadata": {
        "id": "9LfXWlx_q4I4"
      },
      "execution_count": 16,
      "outputs": []
    },
    {
      "cell_type": "code",
      "source": [
        "clean_text"
      ],
      "metadata": {
        "colab": {
          "base_uri": "https://localhost:8080/",
          "height": 140
        },
        "id": "2q9pmQbOsV82",
        "outputId": "b9f00b69-7ed3-44d7-831e-3b64e872d144"
      },
      "execution_count": 17,
      "outputs": [
        {
          "output_type": "execute_result",
          "data": {
            "text/plain": [
              "'Why Smart Leaders Use ChatGPT Ethically And How They Do ItSubscribe Sign InBETAThis is a BETA experience. You may opt-out by\\xa0clicking hereMore From ForbesMar 29, 2023,05:32am EDTWhy Working From Home Is Here To StayMar 28, 2023,04:39pm EDTTo Support Women In The Workforce, Stop Focusing On WomenMar 28, 2023,12:07pm EDTThree Lessons For Israeli Protesters From Turkeys Gezi ProtestsMar 28, 2023,11:44am EDTLeading Better Starts With Living BetterMar 28, 2023,11:00am EDTApartment Rents Coming DownMar 28, 2023,10:15am EDTFailure-Proofing Your Meetings: A Neuroscience-Based Strategy For SuccessMar 28, 2023,10:00am EDTKevin Martinez, VP Corporate Citizenship, ESPN: The Changemaker InterviewMar 28, 2023,10:00am EDTThis AI-First Digital Engineering Company Is Transforming The Future Of BusinessEdit StoryForbesLeadershipLeadership StrategyWhy Smart Leaders Use ChatGPT Ethically And How They Do ItBruce Weinstein, Ph.D.ContributorOpinions expressed by Forbes Contributors are their own.Customized ethics keynotes, training, and online courses for CE creditFollowingFeb 24, 2023,03:40pm EST|Press play to listen to this article! Got it!Share to FacebookShare to TwitterShare to LinkedinHeres how to use ChatGPT ethical and why you should bother.SOPA Images LightRocket via Getty Images You can use ChatGPT, Bard, Bing and other AI-assisted chatbots to enhance your business in the right way if you apply the principles of ethical intelligence.   Let’s look at several ethical questions raised by AI chatbots, including:     How much of what the bots generate is true? Where does the material come from? How might we cause harm by using AI-generated text in our work? Are we at risk of damaging the trust others place in us when we use this material in our work?    Why should you bother with ethics at all? I’ll explain why and then present five principles that enable you to use artificial intelligence with ethical intelligence. Ethics: So What? Who cares about ethics? You should, if you want to enjoy a successful career.getty Doing the right thing takes time and effort. It can cost money. Some of your competitors don’t care about it. Won’t you lose clients to them if you factor ethics into how you use ChatGPT? You will not lose clients if you take ethics seriously. Just the opposite. The best leaders recognize that ethical conduct is good for its own sake. We owe some things to others, such as not harming them, and it’s wrong to overlook this. MORE FROMFORBES ADVISORBest Travel Insurance CompaniesByAmy DaniseEditorBest Covid-19 Travel Insurance PlansByAmy DaniseEditor There’s another reason why the best leaders take ethics seriously. It is in their own financial and reputational interest to do so. The following five principles will help you use ChatGPT with ethical intelligence.  1. Do No HarmSomeone isnt taking Do No Harm to heart!getty   The most fundamental principle of ethical intelligence is Do No Harm. The least we can expect of one another is that we don’t make things worse for anyone. The good news about Do No Harm is that it is a principle of restraint. For example, if you’re driving on the highway and the car in front of you is going more slowly than you’d like, you apply the Do No Harm principle by not tailgating them and flashing your bright headlights. Concerning ChatGPT, you avoid causing harm by not publishing any text that could hurt another person or damage your reputation. You do this through a corollary to the Do No Harm principle, Prevent Harm. Prevent HarmA powerful way of applying the Prevent Harm principle in everyday life.getty Sometimes we must take action so that harm doesn’t occur. You do this in your personal life by ensuring your toddler is secured when you drive. Preventing harm to children in this manner is both a legal requirement and an ethical obligation in each state of the United States and in many countries. When you use ChatGPT, you prevent harm to others and yourself through due diligence. For example, suppose you want ChatGPT to generate a short essay on three hot trends in your field. You plan to post this on your LinkedIn page and with a few groups you belong to. But simply cutting and pasting what the bot generates would be irresponsible. It might contain a direct quote from someone without attribution. It might contain false statements. Or both. Researching what the chatbot gives you will help you prevent harm to others who might act upon false information. Research will also prevent harm to your reputation. 2. Make Things BetterHere is a literal application of Make Things Better. Its also a metaphor for how you treat your ... [+] clients.getty Do No Harm and Prevent Harm are two crucial principles that smart leaders live by, but they’re not enough. Not causing harm is the least we can expect of one another. The second principle of ethical intelligence takes us further: Make Things Better. Your job description and your company’s mission are primarily about improving things. If everything is fine the way it is, why would anyone need to hire you or buy your products? Applied to your use of ChatGPT, Make Things Better means ensuring that you check what the bot generates for origin and accuracy. The saying, “garbage in, garbage out,” is worth taking to heart anytime you use artificial intelligence. AI is only as good as what goes into it. 3. Respect Others The third principle of ethical intelligence is Respect Others. Three components of this principle are:   Tell the truth Protect confidentiality Keep promises   Let’s consider how each applies to using ChatGPT the right way. Tell the TruthThis is exactly the problem were talking about here.getty Keeping in mind “garbage in, garbage out,” the text that ChatGPT and other generative AI platforms yield are as truthful or fanciful as the information they have been given. Whether you’re using an AI bot to craft a press release, write a blog post or help you create chapters for a book, it behooves you to ensure that whatever you release into the world is true or likely to be true. Yes, this requires more time and effort than just publishing whatever you get from the bot, but it’s the right thing to do. You might even have to spend some money and hire an expert to review what the bot has generated. It’s easier to skip this step, but this is one example where easier isn’t better. Another way that truth-telling demonstrates your respect for others is by acknowledging the role that ChatGPT has played in the written material you present to the world. You wouldn’t quote someone in your article or speech without giving them credit. Likewise, being transparent about how you’ve used an AI chatbot is the right thing to do. Protect ConfidentialityWant to know a secret? Well, its not right for me to tell you.getty Whether your field is healthcare, the law, business, education, or the government, you risk violating the duty to protect confidentiality if you don’t carefully review what ChatGPT generates before you put it out into the world. I was once on an airplane awaiting takeoff and overheard a passenger calling in a prescription for a patient. He mentioned the patient’s full name and the name of the medication. This was a gross violation of the duty in medical ethics to protect patient confidentiality. The physician should have known better. As of this writing, however, not all generative AI can exercise the discretion that the physician on the plane lacked. Since the bot can’t, you must. And that requires yet again some time and effort in research. Do you see a recurring theme here in the proper use of ChatGPT and other chatbots? Keep PromisesA handshake is one way we make promises, but every form is worth taking seriously.getty Consider the contract you’ve signed with your employer or, if you’re an entrepreneur, directly with a client. Is your contract a legal document? Yes. Is it more than that? Yes. A business contract is a two-way promise. You agree to provide certain services or products, and your company or your client pays you in return. If you or the other party reneges, the deal is off. Suppose you publish or distribute what ChatGPT generates without carefully reviewing, fact-checking and editing it. In doing so, you break the implicit or explicit promise you have made to be a trustworthy person. As Walter Landor said, “A brand is a promise.” What exactly are you promising to the people who read your work? That it is substantially your own. Using an AI chatbot to write all or most of what you put forth is a breach of faith that your audience has in you. Wise leaders care deeply about being trustworthy. It is through consistent ethical conduct that they earn the trust of their employers and clients. 4. Be FairHow can we mitigate the effects of our biases? Read on.getty The fourth principle of ethical intelligence is Be Fair. To be fair is to give others their due. An obstacle to this is the bias that can be embedded in the information that ChatGPT and other chatbots use to answer the questions you pose. Again, it’s garbage in, garbage out. Suppose the written material you’re using has been shaped by biases related to age, race, gender, politics or sexual orientation. You risk perpetuating that bias by cutting and pasting whatever the bot gives you into an email, blog, social media post, or book. A second way to use ChatGPT fairly is to ensure you’re not appropriating someone else’s intellectual property. Once again, the ethically intelligent use of ChatGPT and the like requires human intervention. 5. Care Care is the fifth principle of ethical intelligence. Care is a feeling about the world and a way of acting in it. You evince care in your professional life by doing something as simple as sending a handwritten thank-you note to a new client or as time-consuming as taking on a project your colleague can’t finish because of illness. Concerning ChatGPT, you demonstrate care by double- and triple-checking the research you’ve done to ensure that what you’re about to distribute is accurate, fair and not likely to harm others or the good reputation of your business. Summary: the principles of ethical intelligencePrint this section of the article and post it near your computer.getty 1. Do No Harm Prevent Harm 2. Make Things Better 3. Respect Others Tell the Truth Protect Confidentiality Keep Promises 4. Be Fair 5. Care Where do these principles come from?The principles of ethical intelligence are everywhere. Whether we act on them is another matter.getty The five principles of ethical intelligence—Do No Harm, Make Things Better, Respect Others, Be Fair and Care—are derived from Tom L. Beauchamp and James F. Childress’s pioneering work, Principles of Biomedical Ethics, 8th edition (New York: Oxford University Press, 2019). I’ve made two changes:   I simplified the language. For example, what Beauchamp and Childress refer to as the principle of nonmaleficence I call Do No Harm. I broadened the scope of the principles to include not only healthcare and biomedical research but also business, the law, government, education and beyond.   Also, our parents and teachers taught us these principles in one form or another. Corporate codes of conduct and values statements are based on and, in some cases, explicitly refer to these principles. The principles have a prominent place in the sacred texts of religions. (See, for example, Jeffrey Moses, Oneness: Great Principles Shared by All Religions, Revised and Expanded Edition (New York: Ballantine Books, 2002). What would your life be like if most of the people connected to you in some way habitually disregarded the principles of ethical intelligence? Call to ActionTime to take action!getty You’ve just spent several minutes reading this article. You can get a significant return on your investment by doing the following two things.   Look at ChatGPT and other AI-assisted chatbots as devices that can enhance your work, not substitute for it. Instead of distributing to others whatever ChatGPT says in answer to a question you ask, do your due diligence. Find out if the statements ChatGPT has made are true. See who else has been writing or saying something along these lines and cite the most trustworthy of them. Avoid cutting and pasting what the bot says and calling it your own.   The principles presented here will help you use artificial intelligence with ethical intelligence. They are a framework, not a formula, for doing the right thing. Your company, your clients and your reputation deserve nothing less than the best you can give them. Follow me on\\xa0Twitter\\xa0or\\xa0LinkedIn.\\xa0Check out\\xa0my\\xa0website\\xa0or\\xa0some of my other work\\xa0here.\\xa0Bruce Weinstein, Ph.D.Editorial StandardsPrintReprints & Permissions'"
            ],
            "application/vnd.google.colaboratory.intrinsic+json": {
              "type": "string"
            }
          },
          "metadata": {},
          "execution_count": 17
        }
      ]
    },
    {
      "cell_type": "code",
      "source": [
        "# Get the sentences\n",
        "\n",
        "sentence=[]\n",
        "\n",
        "\n",
        "tokens = nlp(clean_text)\n",
        "for sent in tokens.sents:\n",
        "    sentence.append((sent.text.strip()))"
      ],
      "metadata": {
        "id": "-oQ2ocPQsV-2"
      },
      "execution_count": 18,
      "outputs": []
    },
    {
      "cell_type": "code",
      "source": [
        "sentence"
      ],
      "metadata": {
        "colab": {
          "base_uri": "https://localhost:8080/"
        },
        "id": "iMIoIgD9sWCp",
        "outputId": "2a68c13c-907b-45e0-8626-d0dc2c5c9bcd"
      },
      "execution_count": 19,
      "outputs": [
        {
          "output_type": "execute_result",
          "data": {
            "text/plain": [
              "['Why Smart Leaders Use ChatGPT',\n",
              " 'Ethically',\n",
              " 'And How They Do ItSubscribe Sign InBETAThis is a BETA experience.',\n",
              " 'You may opt-out by\\xa0clicking hereMore From ForbesMar 29, 2023,05:32am',\n",
              " 'EDTWhy Working From Home Is Here To StayMar 28, 2023,04:39pm EDTTo Support Women In The Workforce, Stop Focusing On WomenMar 28, 2023,12:07pm EDTThree Lessons For Israeli Protesters From Turkeys Gezi ProtestsMar 28, 2023,11:44am EDTLeading Better Starts With Living BetterMar 28, 2023,11:00am EDTApartment Rents Coming DownMar 28,',\n",
              " '2023,10:15am EDTFailure-Proofing Your Meetings: A Neuroscience-Based Strategy For SuccessMar 28, 2023,10:00am EDTKevin Martinez, VP Corporate Citizenship, ESPN:',\n",
              " 'The Changemaker InterviewMar 28, 2023,10:00am EDTThis AI-First Digital Engineering Company Is Transforming The Future Of BusinessEdit StoryForbesLeadershipLeadership',\n",
              " 'StrategyWhy Smart Leaders Use ChatGPT',\n",
              " 'Ethically',\n",
              " 'And How They Do ItBruce Weinstein, Ph.D.ContributorOpinions expressed by Forbes Contributors are their own.',\n",
              " 'Customized ethics keynotes, training, and online courses for CE creditFollowingFeb 24, 2023,03:40pm EST|Press play to listen to this article!',\n",
              " 'Got it!Share to FacebookShare to TwitterShare to LinkedinHeres how to use ChatGPT ethical and why you should bother.',\n",
              " 'SOPA Images LightRocket via Getty Images You can use ChatGPT, Bard, Bing and other AI-assisted chatbots to enhance your business in the right way if you apply the principles of ethical intelligence.',\n",
              " 'Let’s look at several ethical questions raised by AI chatbots, including:     How much of what the bots generate is true?',\n",
              " 'Where does the material come from?',\n",
              " 'How might we cause harm by using AI-generated text in our work?',\n",
              " 'Are we at risk of damaging the trust others place in us when we use this material in our work?',\n",
              " 'Why should you bother with ethics at all?',\n",
              " 'I’ll explain why and then present five principles that enable you to use artificial intelligence with ethical intelligence.',\n",
              " 'Ethics:',\n",
              " 'So What?',\n",
              " 'Who cares about ethics?',\n",
              " 'You should, if you want to enjoy a successful career.getty',\n",
              " 'Doing the right thing takes time and effort.',\n",
              " 'It can cost money.',\n",
              " 'Some of your competitors don’t care about it.',\n",
              " 'Won’t you lose clients to them if you factor ethics into how you use ChatGPT?',\n",
              " 'You will not lose clients if you take ethics seriously.',\n",
              " 'Just the opposite.',\n",
              " 'The best leaders recognize that ethical conduct is good for its own sake.',\n",
              " 'We owe some things to others, such as not harming them, and it’s wrong to overlook this.',\n",
              " 'MORE FROMFORBES ADVISORBest Travel Insurance CompaniesByAmy DaniseEditorBest Covid-19 Travel Insurance PlansByAmy',\n",
              " 'DaniseEditor There’s another reason why the best leaders take ethics seriously.',\n",
              " 'It is in their own financial and reputational interest to do so.',\n",
              " 'The following five principles will help you use ChatGPT with ethical intelligence.',\n",
              " '1.',\n",
              " 'Do No HarmSomeone isnt taking Do No Harm to heart!getty   The most fundamental principle of ethical intelligence is Do No Harm.',\n",
              " 'The least we can expect of one another is that we don’t make things worse for anyone.',\n",
              " 'The good news about Do No Harm is that it is a principle of restraint.',\n",
              " 'For example, if you’re driving on the highway and the car in front of you is going more slowly than you’d like, you apply the Do No Harm principle by not tailgating them and flashing your bright headlights.',\n",
              " 'Concerning ChatGPT, you avoid causing harm by not publishing any text that could hurt another person or damage your reputation.',\n",
              " 'You do this through a corollary to the Do No Harm principle, Prevent Harm.',\n",
              " 'Prevent HarmA powerful way of applying the Prevent Harm principle in everyday life.getty',\n",
              " 'Sometimes we must take action so that harm doesn’t occur.',\n",
              " 'You do this in your personal life by ensuring your toddler is secured when you drive.',\n",
              " 'Preventing harm to children in this manner is both a legal requirement and an ethical obligation in each state of the United States and in many countries.',\n",
              " 'When you use ChatGPT, you prevent harm to others and yourself through due diligence.',\n",
              " 'For example, suppose you want ChatGPT to generate a short essay on three hot trends in your field.',\n",
              " 'You plan to post this on your LinkedIn page and with a few groups you belong to.',\n",
              " 'But simply cutting and pasting what the bot generates would be irresponsible.',\n",
              " 'It might contain a direct quote from someone without attribution.',\n",
              " 'It might contain false statements.',\n",
              " 'Or both.',\n",
              " 'Researching what the chatbot gives you will help you prevent harm to others who might act upon false information.',\n",
              " 'Research will also prevent harm to your reputation.',\n",
              " '2. Make Things BetterHere is a literal application of Make Things Better.',\n",
              " 'Its also a metaphor for how you treat your ...',\n",
              " '[+] clients.getty Do No Harm and Prevent Harm are two crucial principles that smart leaders live by, but they’re not enough.',\n",
              " 'Not causing harm is the least we can expect of one another.',\n",
              " 'The second principle of ethical intelligence takes us further: Make Things Better.',\n",
              " 'Your job description and your company’s mission are primarily about improving things.',\n",
              " 'If everything is fine the way it is, why would anyone need to hire you or buy your products?',\n",
              " 'Applied to your use of ChatGPT, Make Things Better means ensuring that you check what the bot generates for origin and accuracy.',\n",
              " 'The saying, “garbage in, garbage out,” is worth taking to heart anytime you use artificial intelligence.',\n",
              " 'AI is only as good as what goes into it.',\n",
              " '3. Respect Others The third principle of ethical intelligence is Respect Others.',\n",
              " 'Three components of this principle are:   Tell the truth Protect confidentiality Keep promises   Let’s consider how each applies to using ChatGPT the right way.',\n",
              " 'Tell the TruthThis is exactly the problem were talking about here.getty Keeping in mind “garbage in, garbage out,” the text that ChatGPT and other generative AI platforms yield are as truthful or fanciful as the information they have been given.',\n",
              " 'Whether you’re using an AI bot to craft a press release, write a blog post or help you create chapters for a book, it behooves you to ensure that whatever you release into the world is true or likely to be true.',\n",
              " 'Yes, this requires more time and effort than just publishing whatever you get from the bot, but it’s the right thing to do.',\n",
              " 'You might even have to spend some money and hire an expert to review what the bot has generated.',\n",
              " 'It’s easier to skip this step, but this is one example where easier isn’t better.',\n",
              " 'Another way that truth-telling demonstrates your respect for others is by acknowledging the role that ChatGPT has played in the written material you present to the world.',\n",
              " 'You wouldn’t quote someone in your article or speech without giving them credit.',\n",
              " 'Likewise, being transparent about how you’ve used an AI chatbot is the right thing to do.',\n",
              " 'Protect ConfidentialityWant to know a secret?',\n",
              " 'Well, its not right for me to tell you.getty',\n",
              " 'Whether your field is healthcare, the law, business, education, or the government, you risk violating the duty to protect confidentiality if you don’t carefully review what ChatGPT generates before you put it out into the world.',\n",
              " 'I was once on an airplane awaiting takeoff and overheard a passenger calling in a prescription for a patient.',\n",
              " 'He mentioned the patient’s full name and the name of the medication.',\n",
              " 'This was a gross violation of the duty in medical ethics to protect patient confidentiality.',\n",
              " 'The physician should have known better.',\n",
              " 'As of this writing, however, not all generative AI can exercise the discretion that the physician on the plane lacked.',\n",
              " 'Since the bot can’t, you must.',\n",
              " 'And that requires yet again some time and effort in research.',\n",
              " 'Do you see a recurring theme here in the proper use of ChatGPT and other chatbots?',\n",
              " 'Keep PromisesA handshake is one way we make promises, but every form is worth taking seriously.getty Consider the contract you’ve signed with your employer or, if you’re an entrepreneur, directly with a client.',\n",
              " 'Is your contract a legal document?',\n",
              " 'Yes.',\n",
              " 'Is it more than that?',\n",
              " 'Yes.',\n",
              " 'A business contract is a two-way promise.',\n",
              " 'You agree to provide certain services or products, and your company or your client pays you in return.',\n",
              " 'If you or the other party reneges, the deal is off.',\n",
              " 'Suppose you publish or distribute what ChatGPT generates without carefully reviewing, fact-checking and editing it.',\n",
              " 'In doing so, you break the implicit or explicit promise you have made to be a trustworthy person.',\n",
              " 'As Walter Landor said, “A brand is a promise.”',\n",
              " 'What exactly are you promising to the people who read your work?',\n",
              " 'That it is substantially your own.',\n",
              " 'Using an AI chatbot to write all or most of what you put forth is a breach of faith that your audience has in you.',\n",
              " 'Wise leaders care deeply about being trustworthy.',\n",
              " 'It is through consistent ethical conduct that they earn the trust of their employers and clients.',\n",
              " '4. Be FairHow can we mitigate the effects of our biases?',\n",
              " 'Read on.getty',\n",
              " 'The fourth principle of ethical intelligence is Be Fair.',\n",
              " 'To be fair is to give others their due.',\n",
              " 'An obstacle to this is the bias that can be embedded in the information that ChatGPT and other chatbots use to answer the questions you pose.',\n",
              " 'Again, it’s garbage in, garbage out.',\n",
              " 'Suppose the written material you’re using has been shaped by biases related to age, race, gender, politics or sexual orientation.',\n",
              " 'You risk perpetuating that bias by cutting and pasting whatever the bot gives you into an email, blog, social media post, or book.',\n",
              " 'A second way to use ChatGPT fairly is to ensure you’re not appropriating someone else’s intellectual property.',\n",
              " 'Once again, the ethically intelligent use of ChatGPT and the like requires human intervention.',\n",
              " '5. Care Care is the fifth principle of ethical intelligence.',\n",
              " 'Care is a feeling about the world and a way of acting in it.',\n",
              " 'You evince care in your professional life by doing something as simple as sending a handwritten thank-you note to a new client or as time-consuming as taking on a project your colleague can’t finish because of illness.',\n",
              " 'Concerning ChatGPT, you demonstrate care by double- and triple-checking the research you’ve done to ensure that what you’re about to distribute is accurate, fair and not likely to harm others or the good reputation of your business.',\n",
              " 'Summary: the principles of ethical intelligencePrint this section of the article and post it near your computer.getty 1.',\n",
              " 'Do No Harm Prevent Harm 2.',\n",
              " 'Make Things Better 3.',\n",
              " 'Respect Others Tell the Truth Protect Confidentiality Keep Promises 4.',\n",
              " 'Be Fair 5.',\n",
              " 'Care Where do these principles come from?The principles of ethical intelligence are everywhere.',\n",
              " 'Whether we act on them is another matter.getty',\n",
              " 'The five principles of ethical intelligence—Do No Harm, Make Things Better, Respect Others, Be Fair and Care—are derived from Tom L. Beauchamp and James F. Childress’s pioneering work, Principles of Biomedical Ethics, 8th edition (New York: Oxford University Press, 2019).',\n",
              " 'I’ve made two changes:   I simplified the language.',\n",
              " 'For example, what Beauchamp and Childress refer to as the principle of nonmaleficence I call Do No Harm.',\n",
              " 'I broadened the scope of the principles to include not only healthcare and biomedical research but also business, the law, government, education and beyond.',\n",
              " 'Also, our parents and teachers taught us these principles in one form or another.',\n",
              " 'Corporate codes of conduct and values statements are based on and, in some cases, explicitly refer to these principles.',\n",
              " 'The principles have a prominent place in the sacred texts of religions.',\n",
              " '(See, for example, Jeffrey Moses, Oneness: Great Principles Shared by All Religions, Revised and Expanded Edition (New York: Ballantine Books, 2002).',\n",
              " 'What would your life be like if most of the people connected to you in some way habitually disregarded the principles of ethical intelligence?',\n",
              " 'Call to ActionTime to take action!getty You’ve just spent several minutes reading this article.',\n",
              " 'You can get a significant return on your investment by doing the following two things.',\n",
              " 'Look at ChatGPT and other AI-assisted chatbots as devices that can enhance your work, not substitute for it.',\n",
              " 'Instead of distributing to others whatever ChatGPT says in answer to a question you ask, do your due diligence.',\n",
              " 'Find out if the statements ChatGPT has made are true.',\n",
              " 'See who else has been writing or saying something along these lines and cite the most trustworthy of them.',\n",
              " 'Avoid cutting and pasting what the bot says and calling it your own.',\n",
              " 'The principles presented here will help you use artificial intelligence with ethical intelligence.',\n",
              " 'They are a framework, not a formula, for doing the right thing.',\n",
              " 'Your company, your clients and your reputation deserve nothing less than the best you can give them.',\n",
              " 'Follow me on\\xa0Twitter\\xa0or\\xa0LinkedIn.\\xa0Check out\\xa0my\\xa0website\\xa0or\\xa0some of my other work\\xa0here.',\n",
              " 'Bruce Weinstein, Ph.D.Editorial StandardsPrintReprints & Permissions']"
            ]
          },
          "metadata": {},
          "execution_count": 19
        }
      ]
    },
    {
      "cell_type": "code",
      "source": [
        "print(len(sentence))"
      ],
      "metadata": {
        "colab": {
          "base_uri": "https://localhost:8080/"
        },
        "id": "UuYWfO4ospkm",
        "outputId": "6249a8f2-2a82-49bb-aec9-a645490bf3d7"
      },
      "execution_count": 20,
      "outputs": [
        {
          "output_type": "stream",
          "name": "stdout",
          "text": [
            "144\n"
          ]
        }
      ]
    },
    {
      "cell_type": "code",
      "source": [
        "print(sentence[0])"
      ],
      "metadata": {
        "colab": {
          "base_uri": "https://localhost:8080/"
        },
        "id": "CV6gCMK3sWFV",
        "outputId": "af42ff50-5abc-4367-f1be-24b19b3408e1"
      },
      "execution_count": 21,
      "outputs": [
        {
          "output_type": "stream",
          "name": "stdout",
          "text": [
            "Why Smart Leaders Use ChatGPT\n"
          ]
        }
      ]
    },
    {
      "cell_type": "code",
      "source": [
        "# Using TextBlob\n",
        "textblob_sentiment=[]\n",
        "\n",
        "for s in sentence:\n",
        "    txt= TextBlob(s)\n",
        "    a= txt.sentiment.polarity\n",
        "    b= txt.sentiment.subjectivity\n",
        "    \n",
        "    textblob_sentiment.append([s,a,b])\n"
      ],
      "metadata": {
        "id": "P33gv3d3tBxV"
      },
      "execution_count": 22,
      "outputs": []
    },
    {
      "cell_type": "code",
      "source": [
        "df_textblob = pd.DataFrame(textblob_sentiment, columns =['Sentence', 'Polarity', 'Subjectivity']) "
      ],
      "metadata": {
        "id": "hBqz570mtBtu"
      },
      "execution_count": 23,
      "outputs": []
    },
    {
      "cell_type": "code",
      "source": [
        "df_textblob.info()"
      ],
      "metadata": {
        "colab": {
          "base_uri": "https://localhost:8080/"
        },
        "id": "YHNywXqjsWJS",
        "outputId": "7d021e61-d505-41ca-e1e0-07e2562215b6"
      },
      "execution_count": 24,
      "outputs": [
        {
          "output_type": "stream",
          "name": "stdout",
          "text": [
            "<class 'pandas.core.frame.DataFrame'>\n",
            "RangeIndex: 144 entries, 0 to 143\n",
            "Data columns (total 3 columns):\n",
            " #   Column        Non-Null Count  Dtype  \n",
            "---  ------        --------------  -----  \n",
            " 0   Sentence      144 non-null    object \n",
            " 1   Polarity      144 non-null    float64\n",
            " 2   Subjectivity  144 non-null    float64\n",
            "dtypes: float64(2), object(1)\n",
            "memory usage: 3.5+ KB\n"
          ]
        }
      ]
    },
    {
      "cell_type": "code",
      "source": [
        "df_textblob.head()"
      ],
      "metadata": {
        "colab": {
          "base_uri": "https://localhost:8080/",
          "height": 206
        },
        "id": "tjtHNJljsWNJ",
        "outputId": "1b6f1c27-37dd-46e9-b826-110724c02317"
      },
      "execution_count": 25,
      "outputs": [
        {
          "output_type": "execute_result",
          "data": {
            "text/plain": [
              "                                            Sentence  Polarity  Subjectivity\n",
              "0                      Why Smart Leaders Use ChatGPT  0.214286      0.642857\n",
              "1                                          Ethically  0.200000      0.600000\n",
              "2  And How They Do ItSubscribe Sign InBETAThis is...  0.000000      0.000000\n",
              "3  You may opt-out by clicking hereMore From Forb...  0.000000      0.000000\n",
              "4  EDTWhy Working From Home Is Here To StayMar 28...  0.500000      0.500000"
            ],
            "text/html": [
              "\n",
              "  <div id=\"df-688355e9-5dc6-4c2c-9705-60ef70607d1b\">\n",
              "    <div class=\"colab-df-container\">\n",
              "      <div>\n",
              "<style scoped>\n",
              "    .dataframe tbody tr th:only-of-type {\n",
              "        vertical-align: middle;\n",
              "    }\n",
              "\n",
              "    .dataframe tbody tr th {\n",
              "        vertical-align: top;\n",
              "    }\n",
              "\n",
              "    .dataframe thead th {\n",
              "        text-align: right;\n",
              "    }\n",
              "</style>\n",
              "<table border=\"1\" class=\"dataframe\">\n",
              "  <thead>\n",
              "    <tr style=\"text-align: right;\">\n",
              "      <th></th>\n",
              "      <th>Sentence</th>\n",
              "      <th>Polarity</th>\n",
              "      <th>Subjectivity</th>\n",
              "    </tr>\n",
              "  </thead>\n",
              "  <tbody>\n",
              "    <tr>\n",
              "      <th>0</th>\n",
              "      <td>Why Smart Leaders Use ChatGPT</td>\n",
              "      <td>0.214286</td>\n",
              "      <td>0.642857</td>\n",
              "    </tr>\n",
              "    <tr>\n",
              "      <th>1</th>\n",
              "      <td>Ethically</td>\n",
              "      <td>0.200000</td>\n",
              "      <td>0.600000</td>\n",
              "    </tr>\n",
              "    <tr>\n",
              "      <th>2</th>\n",
              "      <td>And How They Do ItSubscribe Sign InBETAThis is...</td>\n",
              "      <td>0.000000</td>\n",
              "      <td>0.000000</td>\n",
              "    </tr>\n",
              "    <tr>\n",
              "      <th>3</th>\n",
              "      <td>You may opt-out by clicking hereMore From Forb...</td>\n",
              "      <td>0.000000</td>\n",
              "      <td>0.000000</td>\n",
              "    </tr>\n",
              "    <tr>\n",
              "      <th>4</th>\n",
              "      <td>EDTWhy Working From Home Is Here To StayMar 28...</td>\n",
              "      <td>0.500000</td>\n",
              "      <td>0.500000</td>\n",
              "    </tr>\n",
              "  </tbody>\n",
              "</table>\n",
              "</div>\n",
              "      <button class=\"colab-df-convert\" onclick=\"convertToInteractive('df-688355e9-5dc6-4c2c-9705-60ef70607d1b')\"\n",
              "              title=\"Convert this dataframe to an interactive table.\"\n",
              "              style=\"display:none;\">\n",
              "        \n",
              "  <svg xmlns=\"http://www.w3.org/2000/svg\" height=\"24px\"viewBox=\"0 0 24 24\"\n",
              "       width=\"24px\">\n",
              "    <path d=\"M0 0h24v24H0V0z\" fill=\"none\"/>\n",
              "    <path d=\"M18.56 5.44l.94 2.06.94-2.06 2.06-.94-2.06-.94-.94-2.06-.94 2.06-2.06.94zm-11 1L8.5 8.5l.94-2.06 2.06-.94-2.06-.94L8.5 2.5l-.94 2.06-2.06.94zm10 10l.94 2.06.94-2.06 2.06-.94-2.06-.94-.94-2.06-.94 2.06-2.06.94z\"/><path d=\"M17.41 7.96l-1.37-1.37c-.4-.4-.92-.59-1.43-.59-.52 0-1.04.2-1.43.59L10.3 9.45l-7.72 7.72c-.78.78-.78 2.05 0 2.83L4 21.41c.39.39.9.59 1.41.59.51 0 1.02-.2 1.41-.59l7.78-7.78 2.81-2.81c.8-.78.8-2.07 0-2.86zM5.41 20L4 18.59l7.72-7.72 1.47 1.35L5.41 20z\"/>\n",
              "  </svg>\n",
              "      </button>\n",
              "      \n",
              "  <style>\n",
              "    .colab-df-container {\n",
              "      display:flex;\n",
              "      flex-wrap:wrap;\n",
              "      gap: 12px;\n",
              "    }\n",
              "\n",
              "    .colab-df-convert {\n",
              "      background-color: #E8F0FE;\n",
              "      border: none;\n",
              "      border-radius: 50%;\n",
              "      cursor: pointer;\n",
              "      display: none;\n",
              "      fill: #1967D2;\n",
              "      height: 32px;\n",
              "      padding: 0 0 0 0;\n",
              "      width: 32px;\n",
              "    }\n",
              "\n",
              "    .colab-df-convert:hover {\n",
              "      background-color: #E2EBFA;\n",
              "      box-shadow: 0px 1px 2px rgba(60, 64, 67, 0.3), 0px 1px 3px 1px rgba(60, 64, 67, 0.15);\n",
              "      fill: #174EA6;\n",
              "    }\n",
              "\n",
              "    [theme=dark] .colab-df-convert {\n",
              "      background-color: #3B4455;\n",
              "      fill: #D2E3FC;\n",
              "    }\n",
              "\n",
              "    [theme=dark] .colab-df-convert:hover {\n",
              "      background-color: #434B5C;\n",
              "      box-shadow: 0px 1px 3px 1px rgba(0, 0, 0, 0.15);\n",
              "      filter: drop-shadow(0px 1px 2px rgba(0, 0, 0, 0.3));\n",
              "      fill: #FFFFFF;\n",
              "    }\n",
              "  </style>\n",
              "\n",
              "      <script>\n",
              "        const buttonEl =\n",
              "          document.querySelector('#df-688355e9-5dc6-4c2c-9705-60ef70607d1b button.colab-df-convert');\n",
              "        buttonEl.style.display =\n",
              "          google.colab.kernel.accessAllowed ? 'block' : 'none';\n",
              "\n",
              "        async function convertToInteractive(key) {\n",
              "          const element = document.querySelector('#df-688355e9-5dc6-4c2c-9705-60ef70607d1b');\n",
              "          const dataTable =\n",
              "            await google.colab.kernel.invokeFunction('convertToInteractive',\n",
              "                                                     [key], {});\n",
              "          if (!dataTable) return;\n",
              "\n",
              "          const docLinkHtml = 'Like what you see? Visit the ' +\n",
              "            '<a target=\"_blank\" href=https://colab.research.google.com/notebooks/data_table.ipynb>data table notebook</a>'\n",
              "            + ' to learn more about interactive tables.';\n",
              "          element.innerHTML = '';\n",
              "          dataTable['output_type'] = 'display_data';\n",
              "          await google.colab.output.renderOutput(dataTable, element);\n",
              "          const docLink = document.createElement('div');\n",
              "          docLink.innerHTML = docLinkHtml;\n",
              "          element.appendChild(docLink);\n",
              "        }\n",
              "      </script>\n",
              "    </div>\n",
              "  </div>\n",
              "  "
            ]
          },
          "metadata": {},
          "execution_count": 25
        }
      ]
    },
    {
      "cell_type": "code",
      "source": [
        "sns.displot(df_textblob[\"Polarity\"], height= 5, aspect=1.8)\n",
        "plt.xlabel(\"Sentence Polarity (Textblob)\")"
      ],
      "metadata": {
        "id": "aEcdMOLZqiT4",
        "colab": {
          "base_uri": "https://localhost:8080/",
          "height": 386
        },
        "outputId": "ac22cdcf-8e94-47bd-d983-f6f73e8d2903"
      },
      "execution_count": 26,
      "outputs": [
        {
          "output_type": "execute_result",
          "data": {
            "text/plain": [
              "Text(0.5, 6.79999999999999, 'Sentence Polarity (Textblob)')"
            ]
          },
          "metadata": {},
          "execution_count": 26
        },
        {
          "output_type": "display_data",
          "data": {
            "text/plain": [
              "<Figure size 648x360 with 1 Axes>"
            ],
            "image/png": "[encoded data removed]"
          },
          "metadata": {
            "needs_background": "light"
          }
        }
      ]
    },
    {
      "cell_type": "code",
      "source": [
        "sns.displot(df_textblob[\"Subjectivity\"], height= 5, aspect=1.8)\n",
        "plt.xlabel(\"Sentence Subjectivity (Textblob)\")"
      ],
      "metadata": {
        "id": "GTkeHhYwoY4N",
        "colab": {
          "base_uri": "https://localhost:8080/",
          "height": 386
        },
        "outputId": "8033330d-cfae-430c-b5f3-18c76d7f10b4"
      },
      "execution_count": 27,
      "outputs": [
        {
          "output_type": "execute_result",
          "data": {
            "text/plain": [
              "Text(0.5, 6.79999999999999, 'Sentence Subjectivity (Textblob)')"
            ]
          },
          "metadata": {},
          "execution_count": 27
        },
        {
          "output_type": "display_data",
          "data": {
            "text/plain": [
              "<Figure size 648x360 with 1 Axes>"
            ],
            "image/png": "[encoded data removed]"
          },
          "metadata": {
            "needs_background": "light"
          }
        }
      ]
    },
    {
      "cell_type": "code",
      "source": [
        "# Word cloud\n",
        "\n",
        "clean_text[100:800]"
      ],
      "metadata": {
        "colab": {
          "base_uri": "https://localhost:8080/",
          "height": 105
        },
        "id": "FKCWrJF5vlkL",
        "outputId": "e3771dbb-96ad-43dc-d6f9-a8ea6998ac37"
      },
      "execution_count": 30,
      "outputs": [
        {
          "output_type": "execute_result",
          "data": {
            "text/plain": [
              "'ence. You may opt-out by\\xa0clicking hereMore From ForbesMar 29, 2023,05:32am EDTWhy Working From Home Is Here To StayMar 28, 2023,04:39pm EDTTo Support Women In The Workforce, Stop Focusing On WomenMar 28, 2023,12:07pm EDTThree Lessons For Israeli Protesters From Turkeys Gezi ProtestsMar 28, 2023,11:44am EDTLeading Better Starts With Living BetterMar 28, 2023,11:00am EDTApartment Rents Coming DownMar 28, 2023,10:15am EDTFailure-Proofing Your Meetings: A Neuroscience-Based Strategy For SuccessMar 28, 2023,10:00am EDTKevin Martinez, VP Corporate Citizenship, ESPN: The Changemaker InterviewMar 28, 2023,10:00am EDTThis AI-First Digital Engineering Company Is Transforming The Future Of BusinessEdit'"
            ],
            "application/vnd.google.colaboratory.intrinsic+json": {
              "type": "string"
            }
          },
          "metadata": {},
          "execution_count": 30
        }
      ]
    },
    {
      "cell_type": "code",
      "source": [
        "# Create tokenizer\n",
        "tokenizer = nltk.tokenize.RegexpTokenizer('\\w+')"
      ],
      "metadata": {
        "id": "q5_uAM-UvlgY"
      },
      "execution_count": 31,
      "outputs": []
    },
    {
      "cell_type": "code",
      "source": [
        "len(tokens)"
      ],
      "metadata": {
        "colab": {
          "base_uri": "https://localhost:8080/"
        },
        "id": "lnJiTxW4v6vR",
        "outputId": "81392afc-33ad-432f-b9f6-fb482cc5b6e1"
      },
      "execution_count": 32,
      "outputs": [
        {
          "output_type": "execute_result",
          "data": {
            "text/plain": [
              "2431"
            ]
          },
          "metadata": {},
          "execution_count": 32
        }
      ]
    },
    {
      "cell_type": "code",
      "source": [
        "print(tokens[0:50])"
      ],
      "metadata": {
        "colab": {
          "base_uri": "https://localhost:8080/"
        },
        "id": "cY6P3oSlvlcr",
        "outputId": "e8bd39a9-2689-4ab9-9ccc-19bef20a66fd"
      },
      "execution_count": 33,
      "outputs": [
        {
          "output_type": "stream",
          "name": "stdout",
          "text": [
            "Why Smart Leaders Use ChatGPT Ethically And How They Do ItSubscribe Sign InBETAThis is a BETA experience. You may opt-out by clicking hereMore From ForbesMar 29, 2023,05:32am EDTWhy Working From Home Is Here To StayMar 28, 2023,04:39pm EDTTo Support Women In The Workforce,\n"
          ]
        }
      ]
    },
    {
      "cell_type": "code",
      "source": [
        "# for lower case uniformity\n",
        "words = []\n",
        "\n",
        "# Looping through the tokens and make them lower case\n",
        "for word in tokens:\n",
        "    words.append(word.lower())"
      ],
      "metadata": {
        "colab": {
          "base_uri": "https://localhost:8080/",
          "height": 200
        },
        "id": "XHPwDV-bwEpF",
        "outputId": "3f4e7a72-a571-4ef9-b5df-77195968f2bb"
      },
      "execution_count": 34,
      "outputs": [
        {
          "output_type": "error",
          "ename": "TypeError",
          "evalue": "ignored",
          "traceback": [
            "\u001b[0;31m---------------------------------------------------------------------------\u001b[0m",
            "\u001b[0;31mTypeError\u001b[0m                                 Traceback (most recent call last)",
            "\u001b[0;32m<ipython-input-34-3c0a38e2f7db>\u001b[0m in \u001b[0;36m<module>\u001b[0;34m\u001b[0m\n\u001b[1;32m      4\u001b[0m \u001b[0;31m# Looping through the tokens and make them lower case\u001b[0m\u001b[0;34m\u001b[0m\u001b[0;34m\u001b[0m\u001b[0m\n\u001b[1;32m      5\u001b[0m \u001b[0;32mfor\u001b[0m \u001b[0mword\u001b[0m \u001b[0;32min\u001b[0m \u001b[0mtokens\u001b[0m\u001b[0;34m:\u001b[0m\u001b[0;34m\u001b[0m\u001b[0;34m\u001b[0m\u001b[0m\n\u001b[0;32m----> 6\u001b[0;31m     \u001b[0mwords\u001b[0m\u001b[0;34m.\u001b[0m\u001b[0mappend\u001b[0m\u001b[0;34m(\u001b[0m\u001b[0mword\u001b[0m\u001b[0;34m.\u001b[0m\u001b[0mlower\u001b[0m\u001b[0;34m(\u001b[0m\u001b[0;34m)\u001b[0m\u001b[0;34m)\u001b[0m\u001b[0;34m\u001b[0m\u001b[0;34m\u001b[0m\u001b[0m\n\u001b[0m",
            "\u001b[0;31mTypeError\u001b[0m: 'int' object is not callable"
          ]
        }
      ]
    },
    {
      "cell_type": "code",
      "source": [
        "len(words)"
      ],
      "metadata": {
        "colab": {
          "base_uri": "https://localhost:8080/"
        },
        "id": "-nrxc9CdwRm3",
        "outputId": "33507257-2913-4030-ad2b-2a42a3bfdcd0"
      },
      "execution_count": 35,
      "outputs": [
        {
          "output_type": "execute_result",
          "data": {
            "text/plain": [
              "0"
            ]
          },
          "metadata": {},
          "execution_count": 35
        }
      ]
    },
    {
      "cell_type": "code",
      "source": [
        "print(words[0:10])"
      ],
      "metadata": {
        "colab": {
          "base_uri": "https://localhost:8080/"
        },
        "id": "O49XjlABwElY",
        "outputId": "7f65271b-5feb-4fd7-938f-332d4b315bc1"
      },
      "execution_count": 36,
      "outputs": [
        {
          "output_type": "stream",
          "name": "stdout",
          "text": [
            "[]\n"
          ]
        }
      ]
    },
    {
      "cell_type": "code",
      "source": [
        "#A new list to hold Moby Dick with No Stop words\n",
        "words_new = []\n",
        "\n",
        "#Appending to words_new all words that are in words but not in sw\n",
        "for word in words:\n",
        "    if word not in stopwords:\n",
        "        words_new.append(word)"
      ],
      "metadata": {
        "id": "PRFy-tgEwEia"
      },
      "execution_count": 37,
      "outputs": []
    },
    {
      "cell_type": "code",
      "source": [
        "len(words_new)"
      ],
      "metadata": {
        "colab": {
          "base_uri": "https://localhost:8080/"
        },
        "id": "xWA5TqB8whv6",
        "outputId": "e17d75d1-8776-4ea4-ca56-6249f6789eb5"
      },
      "execution_count": 38,
      "outputs": [
        {
          "output_type": "execute_result",
          "data": {
            "text/plain": [
              "0"
            ]
          },
          "metadata": {},
          "execution_count": 38
        }
      ]
    },
    {
      "cell_type": "code",
      "source": [
        "print(words_new[0:10])"
      ],
      "metadata": {
        "colab": {
          "base_uri": "https://localhost:8080/"
        },
        "id": "NRZ7DD5BwEe6",
        "outputId": "1fc89515-7cd2-49d0-ba6c-293a52c22d6c"
      },
      "execution_count": 39,
      "outputs": [
        {
          "output_type": "stream",
          "name": "stdout",
          "text": [
            "[]\n"
          ]
        }
      ]
    },
    {
      "cell_type": "code",
      "source": [
        "#The frequency distribution of the words\n",
        "freq_dist = nltk.FreqDist(words_new)"
      ],
      "metadata": {
        "id": "jwEhod-iwh1R"
      },
      "execution_count": 40,
      "outputs": []
    },
    {
      "cell_type": "code",
      "source": [
        "#Frequency Distribution Plot\n",
        "plt.subplots(figsize=(16,10))\n",
        "freq_dist.plot(20)"
      ],
      "metadata": {
        "colab": {
          "base_uri": "https://localhost:8080/",
          "height": 606
        },
        "id": "2JDeIWlhwEcn",
        "outputId": "d29b31e2-1679-496c-cee2-29b08bbcf854"
      },
      "execution_count": 41,
      "outputs": [
        {
          "output_type": "display_data",
          "data": {
            "text/plain": [
              "<Figure size 1152x720 with 1 Axes>"
            ],
            "image/png": "[encoded data removed]"
          },
          "metadata": {
            "needs_background": "light"
          }
        },
        {
          "output_type": "execute_result",
          "data": {
            "text/plain": [
              "<Axes: xlabel='Samples', ylabel='Counts'>"
            ]
          },
          "metadata": {},
          "execution_count": 41
        }
      ]
    },
    {
      "cell_type": "code",
      "source": [
        "#converting into string\n",
        "\n",
        "res=' '.join([i for i in words_new if not i.isdigit()]) "
      ],
      "metadata": {
        "id": "2t0nfY7Awh7g"
      },
      "execution_count": 42,
      "outputs": []
    },
    {
      "cell_type": "code",
      "source": [
        "plt.subplots(figsize=(16,10))\n",
        "wordcloud = WordCloud(\n",
        "                          background_color='black',\n",
        "                          max_words=100,\n",
        "                          width=1400,\n",
        "                          height=1200\n",
        "                         ).generate(res)\n",
        "\n",
        "\n",
        "plt.imshow(wordcloud)\n",
        "plt.title('NEWS ARTICLE (100 words)')\n",
        "plt.axis('off')\n",
        "plt.show()"
      ],
      "metadata": {
        "colab": {
          "base_uri": "https://localhost:8080/",
          "height": 959
        },
        "id": "CQdiTzzlw0ap",
        "outputId": "b8c7577d-e410-43ba-9e4e-68895190a9c1"
      },
      "execution_count": 43,
      "outputs": [
        {
          "output_type": "error",
          "ename": "ValueError",
          "evalue": "ignored",
          "traceback": [
            "\u001b[0;31m---------------------------------------------------------------------------\u001b[0m",
            "\u001b[0;31mValueError\u001b[0m                                Traceback (most recent call last)",
            "\u001b[0;32m<ipython-input-43-96fbd35cca40>\u001b[0m in \u001b[0;36m<module>\u001b[0;34m\u001b[0m\n\u001b[1;32m      1\u001b[0m \u001b[0mplt\u001b[0m\u001b[0;34m.\u001b[0m\u001b[0msubplots\u001b[0m\u001b[0;34m(\u001b[0m\u001b[0mfigsize\u001b[0m\u001b[0;34m=\u001b[0m\u001b[0;34m(\u001b[0m\u001b[0;36m16\u001b[0m\u001b[0;34m,\u001b[0m\u001b[0;36m10\u001b[0m\u001b[0;34m)\u001b[0m\u001b[0;34m)\u001b[0m\u001b[0;34m\u001b[0m\u001b[0;34m\u001b[0m\u001b[0m\n\u001b[0;32m----> 2\u001b[0;31m wordcloud = WordCloud(\n\u001b[0m\u001b[1;32m      3\u001b[0m                           \u001b[0mbackground_color\u001b[0m\u001b[0;34m=\u001b[0m\u001b[0;34m'black'\u001b[0m\u001b[0;34m,\u001b[0m\u001b[0;34m\u001b[0m\u001b[0;34m\u001b[0m\u001b[0m\n\u001b[1;32m      4\u001b[0m                           \u001b[0mmax_words\u001b[0m\u001b[0;34m=\u001b[0m\u001b[0;36m100\u001b[0m\u001b[0;34m,\u001b[0m\u001b[0;34m\u001b[0m\u001b[0;34m\u001b[0m\u001b[0m\n\u001b[1;32m      5\u001b[0m                           \u001b[0mwidth\u001b[0m\u001b[0;34m=\u001b[0m\u001b[0;36m1400\u001b[0m\u001b[0;34m,\u001b[0m\u001b[0;34m\u001b[0m\u001b[0;34m\u001b[0m\u001b[0m\n",
            "\u001b[0;32m/usr/local/lib/python3.9/dist-packages/wordcloud/wordcloud.py\u001b[0m in \u001b[0;36mgenerate\u001b[0;34m(self, text)\u001b[0m\n\u001b[1;32m    637\u001b[0m         \u001b[0mself\u001b[0m\u001b[0;34m\u001b[0m\u001b[0;34m\u001b[0m\u001b[0m\n\u001b[1;32m    638\u001b[0m         \"\"\"\n\u001b[0;32m--> 639\u001b[0;31m         \u001b[0;32mreturn\u001b[0m \u001b[0mself\u001b[0m\u001b[0;34m.\u001b[0m\u001b[0mgenerate_from_text\u001b[0m\u001b[0;34m(\u001b[0m\u001b[0mtext\u001b[0m\u001b[0;34m)\u001b[0m\u001b[0;34m\u001b[0m\u001b[0;34m\u001b[0m\u001b[0m\n\u001b[0m\u001b[1;32m    640\u001b[0m \u001b[0;34m\u001b[0m\u001b[0m\n\u001b[1;32m    641\u001b[0m     \u001b[0;32mdef\u001b[0m \u001b[0m_check_generated\u001b[0m\u001b[0;34m(\u001b[0m\u001b[0mself\u001b[0m\u001b[0;34m)\u001b[0m\u001b[0;34m:\u001b[0m\u001b[0;34m\u001b[0m\u001b[0;34m\u001b[0m\u001b[0m\n",
            "\u001b[0;32m/usr/local/lib/python3.9/dist-packages/wordcloud/wordcloud.py\u001b[0m in \u001b[0;36mgenerate_from_text\u001b[0;34m(self, text)\u001b[0m\n\u001b[1;32m    619\u001b[0m         \"\"\"\n\u001b[1;32m    620\u001b[0m         \u001b[0mwords\u001b[0m \u001b[0;34m=\u001b[0m \u001b[0mself\u001b[0m\u001b[0;34m.\u001b[0m\u001b[0mprocess_text\u001b[0m\u001b[0;34m(\u001b[0m\u001b[0mtext\u001b[0m\u001b[0;34m)\u001b[0m\u001b[0;34m\u001b[0m\u001b[0;34m\u001b[0m\u001b[0m\n\u001b[0;32m--> 621\u001b[0;31m         \u001b[0mself\u001b[0m\u001b[0;34m.\u001b[0m\u001b[0mgenerate_from_frequencies\u001b[0m\u001b[0;34m(\u001b[0m\u001b[0mwords\u001b[0m\u001b[0;34m)\u001b[0m\u001b[0;34m\u001b[0m\u001b[0;34m\u001b[0m\u001b[0m\n\u001b[0m\u001b[1;32m    622\u001b[0m         \u001b[0;32mreturn\u001b[0m \u001b[0mself\u001b[0m\u001b[0;34m\u001b[0m\u001b[0;34m\u001b[0m\u001b[0m\n\u001b[1;32m    623\u001b[0m \u001b[0;34m\u001b[0m\u001b[0m\n",
            "\u001b[0;32m/usr/local/lib/python3.9/dist-packages/wordcloud/wordcloud.py\u001b[0m in \u001b[0;36mgenerate_from_frequencies\u001b[0;34m(self, frequencies, max_font_size)\u001b[0m\n\u001b[1;32m    408\u001b[0m         \u001b[0mfrequencies\u001b[0m \u001b[0;34m=\u001b[0m \u001b[0msorted\u001b[0m\u001b[0;34m(\u001b[0m\u001b[0mfrequencies\u001b[0m\u001b[0;34m.\u001b[0m\u001b[0mitems\u001b[0m\u001b[0;34m(\u001b[0m\u001b[0;34m)\u001b[0m\u001b[0;34m,\u001b[0m \u001b[0mkey\u001b[0m\u001b[0;34m=\u001b[0m\u001b[0mitemgetter\u001b[0m\u001b[0;34m(\u001b[0m\u001b[0;36m1\u001b[0m\u001b[0;34m)\u001b[0m\u001b[0;34m,\u001b[0m \u001b[0mreverse\u001b[0m\u001b[0;34m=\u001b[0m\u001b[0;32mTrue\u001b[0m\u001b[0;34m)\u001b[0m\u001b[0;34m\u001b[0m\u001b[0;34m\u001b[0m\u001b[0m\n\u001b[1;32m    409\u001b[0m         \u001b[0;32mif\u001b[0m \u001b[0mlen\u001b[0m\u001b[0;34m(\u001b[0m\u001b[0mfrequencies\u001b[0m\u001b[0;34m)\u001b[0m \u001b[0;34m<=\u001b[0m \u001b[0;36m0\u001b[0m\u001b[0;34m:\u001b[0m\u001b[0;34m\u001b[0m\u001b[0;34m\u001b[0m\u001b[0m\n\u001b[0;32m--> 410\u001b[0;31m             raise ValueError(\"We need at least 1 word to plot a word cloud, \"\n\u001b[0m\u001b[1;32m    411\u001b[0m                              \"got %d.\" % len(frequencies))\n\u001b[1;32m    412\u001b[0m         \u001b[0mfrequencies\u001b[0m \u001b[0;34m=\u001b[0m \u001b[0mfrequencies\u001b[0m\u001b[0;34m[\u001b[0m\u001b[0;34m:\u001b[0m\u001b[0mself\u001b[0m\u001b[0;34m.\u001b[0m\u001b[0mmax_words\u001b[0m\u001b[0;34m]\u001b[0m\u001b[0;34m\u001b[0m\u001b[0;34m\u001b[0m\u001b[0m\n",
            "\u001b[0;31mValueError\u001b[0m: We need at least 1 word to plot a word cloud, got 0."
          ]
        },
        {
          "output_type": "display_data",
          "data": {
            "text/plain": [
              "<Figure size 1152x720 with 1 Axes>"
            ],
            "image/png": "[encoded data removed]"
          },
          "metadata": {
            "needs_background": "light"
          }
        }
      ]
    },
    {
      "cell_type": "code",
      "source": [],
      "metadata": {
        "id": "D--SOXerw0Xx"
      },
      "execution_count": null,
      "outputs": []
    },
    {
      "cell_type": "code",
      "source": [],
      "metadata": {
        "id": "5m1Xpc2Qw0T4"
      },
      "execution_count": null,
      "outputs": []
    },
    {
      "cell_type": "code",
      "source": [],
      "metadata": {
        "id": "hO7KZ6I0w0SQ"
      },
      "execution_count": null,
      "outputs": []
    },
    {
      "cell_type": "code",
      "source": [
        "# Patterns Sentiment Analysis\n",
        "\n",
        "pattern_sentiment=[]\n",
        "​\n",
        "for s in sentence:\n",
        "    res= sentiment(s)\n",
        "    c= res[0]\n",
        "    d= res[1]\n",
        "    \n",
        "    pattern_sentiment.append([s,c,d])\n",
        "    "
      ],
      "metadata": {
        "colab": {
          "base_uri": "https://localhost:8080/",
          "height": 130
        },
        "id": "zs8tR01-vH4g",
        "outputId": "a5961021-3d02-4f4a-d3fd-4014740089da"
      },
      "execution_count": 29,
      "outputs": [
        {
          "output_type": "error",
          "ename": "SyntaxError",
          "evalue": "ignored",
          "traceback": [
            "\u001b[0;36m  File \u001b[0;32m\"<ipython-input-29-551bbaaeecbe>\"\u001b[0;36m, line \u001b[0;32m4\u001b[0m\n\u001b[0;31m    ​\u001b[0m\n\u001b[0m    ^\u001b[0m\n\u001b[0;31mSyntaxError\u001b[0m\u001b[0;31m:\u001b[0m invalid non-printable character U+200B\n"
          ]
        }
      ]
    },
    {
      "cell_type": "code",
      "source": [],
      "metadata": {
        "id": "L-6tD-1KvH1z"
      },
      "execution_count": null,
      "outputs": []
    },
    {
      "cell_type": "code",
      "source": [],
      "metadata": {
        "id": "5KOWjcIfvHvg"
      },
      "execution_count": null,
      "outputs": []
    },
    {
      "cell_type": "code",
      "source": [],
      "metadata": {
        "id": "GXwoog7ZvHqT"
      },
      "execution_count": null,
      "outputs": []
    },
    {
      "cell_type": "code",
      "source": [],
      "metadata": {
        "id": "828A58PhvHlv"
      },
      "execution_count": null,
      "outputs": []
    },
    {
      "cell_type": "code",
      "source": [
        "# Load dataset\n",
        "tweets_df = pd.read_csv(\"Tweets.csv\")\n",
        "tweets_df.head(20)\n",
        "\n",
        "# tweets_df2 = pd.read_csv(\"tweets2.csv\")\n",
        "# tweets_df2.head()"
      ],
      "metadata": {
        "id": "edD6u0jKzVYT"
      },
      "execution_count": null,
      "outputs": []
    },
    {
      "cell_type": "code",
      "source": [
        "# Get info\n",
        "\n",
        "tweets_df.info()"
      ],
      "metadata": {
        "id": "-jeMK3Em58Wv",
        "colab": {
          "base_uri": "https://localhost:8080/"
        },
        "outputId": "c5b8c472-4c4e-4f65-98e5-1a7c6ed4ae5b"
      },
      "execution_count": null,
      "outputs": [
        {
          "output_type": "stream",
          "name": "stdout",
          "text": [
            "<class 'pandas.core.frame.DataFrame'>\n",
            "RangeIndex: 27481 entries, 0 to 27480\n",
            "Data columns (total 4 columns):\n",
            " #   Column         Non-Null Count  Dtype \n",
            "---  ------         --------------  ----- \n",
            " 0   textID         27481 non-null  object\n",
            " 1   text           27480 non-null  object\n",
            " 2   selected_text  27480 non-null  object\n",
            " 3   sentiment      27481 non-null  object\n",
            "dtypes: object(4)\n",
            "memory usage: 858.9+ KB\n"
          ]
        }
      ]
    },
    {
      "cell_type": "code",
      "source": [
        "# Converting strings to int\n",
        "tweets_df_ = {'sentiment': ['negative', 'neutral', 'positive'], \n",
        "              'SENTIMENTS': ['1', '2', '3']}\n",
        "tweets_df_\n"
      ],
      "metadata": {
        "colab": {
          "base_uri": "https://localhost:8080/"
        },
        "id": "rRj4c0juB81q",
        "outputId": "269dff3b-46e0-46e4-d2fa-65d9b75f981e"
      },
      "execution_count": null,
      "outputs": [
        {
          "output_type": "execute_result",
          "data": {
            "text/plain": [
              "{'sentiment': ['negative', 'neutral', 'positive'],\n",
              " 'SENTIMENTS': ['1', '2', '3']}"
            ]
          },
          "metadata": {},
          "execution_count": 18
        }
      ]
    },
    {
      "cell_type": "code",
      "source": [
        "tweets_df['sentiment'] = pd.to_numeric(tweets_df['sentiment'])"
      ],
      "metadata": {
        "colab": {
          "base_uri": "https://localhost:8080/",
          "height": 293
        },
        "id": "97LPsw7j9FLg",
        "outputId": "6279fcd6-504f-4b07-e099-a6451ba83467"
      },
      "execution_count": null,
      "outputs": [
        {
          "output_type": "error",
          "ename": "ValueError",
          "evalue": "ignored",
          "traceback": [
            "\u001b[0;31m---------------------------------------------------------------------------\u001b[0m",
            "\u001b[0;31mValueError\u001b[0m                                Traceback (most recent call last)",
            "\u001b[0;32m/usr/local/lib/python3.9/dist-packages/pandas/_libs/lib.pyx\u001b[0m in \u001b[0;36mpandas._libs.lib.maybe_convert_numeric\u001b[0;34m()\u001b[0m\n",
            "\u001b[0;31mValueError\u001b[0m: Unable to parse string \"neutral\"",
            "\nDuring handling of the above exception, another exception occurred:\n",
            "\u001b[0;31mValueError\u001b[0m                                Traceback (most recent call last)",
            "\u001b[0;32m<ipython-input-20-343d06308ac7>\u001b[0m in \u001b[0;36m<module>\u001b[0;34m\u001b[0m\n\u001b[0;32m----> 1\u001b[0;31m \u001b[0mtweets_df\u001b[0m\u001b[0;34m[\u001b[0m\u001b[0;34m'sentiment'\u001b[0m\u001b[0;34m]\u001b[0m \u001b[0;34m=\u001b[0m \u001b[0mpd\u001b[0m\u001b[0;34m.\u001b[0m\u001b[0mto_numeric\u001b[0m\u001b[0;34m(\u001b[0m\u001b[0mtweets_df\u001b[0m\u001b[0;34m[\u001b[0m\u001b[0;34m'sentiment'\u001b[0m\u001b[0;34m]\u001b[0m\u001b[0;34m)\u001b[0m\u001b[0;34m\u001b[0m\u001b[0;34m\u001b[0m\u001b[0m\n\u001b[0m",
            "\u001b[0;32m/usr/local/lib/python3.9/dist-packages/pandas/core/tools/numeric.py\u001b[0m in \u001b[0;36mto_numeric\u001b[0;34m(arg, errors, downcast)\u001b[0m\n\u001b[1;32m    182\u001b[0m         \u001b[0mcoerce_numeric\u001b[0m \u001b[0;34m=\u001b[0m \u001b[0merrors\u001b[0m \u001b[0;32mnot\u001b[0m \u001b[0;32min\u001b[0m \u001b[0;34m(\u001b[0m\u001b[0;34m\"ignore\"\u001b[0m\u001b[0;34m,\u001b[0m \u001b[0;34m\"raise\"\u001b[0m\u001b[0;34m)\u001b[0m\u001b[0;34m\u001b[0m\u001b[0;34m\u001b[0m\u001b[0m\n\u001b[1;32m    183\u001b[0m         \u001b[0;32mtry\u001b[0m\u001b[0;34m:\u001b[0m\u001b[0;34m\u001b[0m\u001b[0;34m\u001b[0m\u001b[0m\n\u001b[0;32m--> 184\u001b[0;31m             values, _ = lib.maybe_convert_numeric(\n\u001b[0m\u001b[1;32m    185\u001b[0m                 \u001b[0mvalues\u001b[0m\u001b[0;34m,\u001b[0m \u001b[0mset\u001b[0m\u001b[0;34m(\u001b[0m\u001b[0;34m)\u001b[0m\u001b[0;34m,\u001b[0m \u001b[0mcoerce_numeric\u001b[0m\u001b[0;34m=\u001b[0m\u001b[0mcoerce_numeric\u001b[0m\u001b[0;34m\u001b[0m\u001b[0;34m\u001b[0m\u001b[0m\n\u001b[1;32m    186\u001b[0m             )\n",
            "\u001b[0;32m/usr/local/lib/python3.9/dist-packages/pandas/_libs/lib.pyx\u001b[0m in \u001b[0;36mpandas._libs.lib.maybe_convert_numeric\u001b[0;34m()\u001b[0m\n",
            "\u001b[0;31mValueError\u001b[0m: Unable to parse string \"neutral\" at position 0"
          ]
        }
      ]
    },
    {
      "cell_type": "code",
      "source": [
        "import spacy\n",
        "nlp = spacy.load('en_core_web_sm')\n",
        "from textblob import TextBlob\n",
        "from pattern.en import sentiment\n",
        "\n",
        "for dirname, _, filenames in os.walk('/kaggle/input'):\n",
        "    for filename in filenames:\n",
        "        print(os.path.join(dirname, filename))"
      ],
      "metadata": {
        "id": "on05tB1loY0a"
      },
      "execution_count": null,
      "outputs": []
    }
  ]
}